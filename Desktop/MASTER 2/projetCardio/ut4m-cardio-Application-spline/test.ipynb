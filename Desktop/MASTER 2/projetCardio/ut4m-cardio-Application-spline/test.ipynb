{
 "cells": [
  {
   "cell_type": "code",
   "execution_count": 6,
   "metadata": {},
   "outputs": [
    {
     "name": "stderr",
     "output_type": "stream",
     "text": [
      "\u001b[32m\u001b[1m  Activating\u001b[22m\u001b[39m project at `c:\\Users\\zergu\\Documents\\ut4m-cardio`\n"
     ]
    }
   ],
   "source": [
    "using Pkg\n",
    "Pkg.activate(\"Project.toml\")\n",
    "Pkg.instantiate()"
   ]
  },
  {
   "cell_type": "code",
   "execution_count": 7,
   "metadata": {},
   "outputs": [],
   "source": [
    "using XLSX, DataFrames"
   ]
  },
  {
   "cell_type": "code",
   "execution_count": 8,
   "metadata": {},
   "outputs": [
    {
     "data": {
      "text/plain": [
       "plotlinevariabilityinter (generic function with 1 method)"
      ]
     },
     "metadata": {},
     "output_type": "display_data"
    }
   ],
   "source": [
    "# Inclure le fichiers preprocessing.jl qui contient des fonctions permettant de nettoyer la base\n",
    "include(\"Julia/preprocessing.jl\")\n",
    "include(\"Julia/plot.jl\")\n",
    "include(\"Julia/utils.jl\")"
   ]
  },
  {
   "cell_type": "code",
   "execution_count": null,
   "metadata": {},
   "outputs": [],
   "source": [
    "function format_course_label(course)\n",
    "    if course == \"4_40\"\n",
    "        return \"4x40km\"\n",
    "    else\n",
    "        return string(course) * \"km\"\n",
    "    end\n",
    "end"
   ]
  },
  {
   "cell_type": "code",
   "execution_count": null,
   "metadata": {},
   "outputs": [],
   "source": []
  },
  {
   "cell_type": "code",
   "execution_count": 14,
   "metadata": {},
   "outputs": [
    {
     "data": {
      "text/plain": [
       "build_dataframe (generic function with 1 method)"
      ]
     },
     "metadata": {},
     "output_type": "display_data"
    }
   ],
   "source": [
    "function build_dataframe(course_name::Any,var_of_interest::Any)\n",
    "    data = build_data_cardiac(\"./Ressources/Données complètes UT4M final120419 avec Data cardio.xlsx\")\n",
    "    if course_name == \"\"\n",
    "        data_to_plot = data\n",
    "    else\n",
    "        data_to_plot = filter(row -> row[:COURSE] == course_name, data)\n",
    "    end\n",
    "    if var_of_interest == \"\"\n",
    "        return data_to_plot\n",
    "    else\n",
    "        data_to_plot = data_to_plot[:,[Symbol(var) for var in var_of_interest]]\n",
    "        return data_to_plot\n",
    "    end\n",
    "end"
   ]
  },
  {
   "cell_type": "code",
   "execution_count": 18,
   "metadata": {},
   "outputs": [
    {
     "data": {
      "text/html": [
       "<div><div style = \"float: left;\"><span>9×7 DataFrame</span></div><div style = \"clear: both;\"></div></div><div class = \"data-frame\" style = \"overflow-x: scroll;\"><table class = \"data-frame\" style = \"margin-bottom: 6px;\"><thead><tr class = \"header\"><th class = \"rowNumber\" style = \"font-weight: bold; text-align: right;\">Row</th><th style = \"text-align: left;\">Variable</th><th style = \"text-align: left;\">Moyenne</th><th style = \"text-align: left;\">Minimum</th><th style = \"text-align: left;\">Médiane</th><th style = \"text-align: left;\">Maximum</th><th style = \"text-align: left;\">Nombre de valeurs manquantes</th><th style = \"text-align: left;\">%missing</th></tr><tr class = \"subheader headerLastRow\"><th class = \"rowNumber\" style = \"font-weight: bold; text-align: right;\"></th><th title = \"Symbol\" style = \"text-align: left;\">Symbol</th><th title = \"Float64\" style = \"text-align: left;\">Float64</th><th title = \"Real\" style = \"text-align: left;\">Real</th><th title = \"Float64\" style = \"text-align: left;\">Float64</th><th title = \"Real\" style = \"text-align: left;\">Real</th><th title = \"Int64\" style = \"text-align: left;\">Int64</th><th title = \"String\" style = \"text-align: left;\">String</th></tr></thead><tbody><tr><td class = \"rowNumber\" style = \"font-weight: bold; text-align: right;\">1</td><td style = \"text-align: left;\">VOL_OGI</td><td style = \"text-align: right;\">41.1786</td><td style = \"text-align: right;\">24.581</td><td style = \"text-align: right;\">40.1731</td><td style = \"text-align: right;\">73.3696</td><td style = \"text-align: right;\">89</td><td style = \"text-align: left;\">113%</td></tr><tr><td class = \"rowNumber\" style = \"font-weight: bold; text-align: right;\">2</td><td style = \"text-align: left;\">VOL_ODI</td><td style = \"text-align: right;\">34.5725</td><td style = \"text-align: right;\">15.1351</td><td style = \"text-align: right;\">33.5367</td><td style = \"text-align: right;\">60.3261</td><td style = \"text-align: right;\">89</td><td style = \"text-align: left;\">113%</td></tr><tr><td class = \"rowNumber\" style = \"font-weight: bold; text-align: right;\">3</td><td style = \"text-align: left;\">VTDVGI</td><td style = \"text-align: right;\">61.6169</td><td style = \"text-align: right;\">-0.584795</td><td style = \"text-align: right;\">61.828</td><td style = \"text-align: right;\">91.4894</td><td style = \"text-align: right;\">85</td><td style = \"text-align: left;\">108%</td></tr><tr><td class = \"rowNumber\" style = \"font-weight: bold; text-align: right;\">4</td><td style = \"text-align: left;\">VTSVGI</td><td style = \"text-align: right;\">27.5933</td><td style = \"text-align: right;\">-0.584795</td><td style = \"text-align: right;\">27.6699</td><td style = \"text-align: right;\">48.4211</td><td style = \"text-align: right;\">86</td><td style = \"text-align: left;\">109%</td></tr><tr><td class = \"rowNumber\" style = \"font-weight: bold; text-align: right;\">5</td><td style = \"text-align: left;\">FE2D</td><td style = \"text-align: right;\">55.7282</td><td style = \"text-align: right;\">40</td><td style = \"text-align: right;\">55.0</td><td style = \"text-align: right;\">71</td><td style = \"text-align: right;\">97</td><td style = \"text-align: left;\">123%</td></tr><tr><td class = \"rowNumber\" style = \"font-weight: bold; text-align: right;\">6</td><td style = \"text-align: left;\">STDi</td><td style = \"text-align: right;\">12.6043</td><td style = \"text-align: right;\">7.51351</td><td style = \"text-align: right;\">12.6005</td><td style = \"text-align: right;\">17.6882</td><td style = \"text-align: right;\">89</td><td style = \"text-align: left;\">113%</td></tr><tr><td class = \"rowNumber\" style = \"font-weight: bold; text-align: right;\">7</td><td style = \"text-align: left;\">STSi</td><td style = \"text-align: right;\">6.95902</td><td style = \"text-align: right;\">3.45946</td><td style = \"text-align: right;\">6.92537</td><td style = \"text-align: right;\">10.7895</td><td style = \"text-align: right;\">89</td><td style = \"text-align: left;\">113%</td></tr><tr><td class = \"rowNumber\" style = \"font-weight: bold; text-align: right;\">8</td><td style = \"text-align: left;\">E/A</td><td style = \"text-align: right;\">1.65579</td><td style = \"text-align: right;\">0.591549</td><td style = \"text-align: right;\">1.64516</td><td style = \"text-align: right;\">3.76923</td><td style = \"text-align: right;\">90</td><td style = \"text-align: left;\">114%</td></tr><tr><td class = \"rowNumber\" style = \"font-weight: bold; text-align: right;\">9</td><td style = \"text-align: left;\">E/Ea</td><td style = \"text-align: right;\">4.76811</td><td style = \"text-align: right;\">2.21429</td><td style = \"text-align: right;\">4.45455</td><td style = \"text-align: right;\">10.1</td><td style = \"text-align: right;\">94</td><td style = \"text-align: left;\">119%</td></tr></tbody></table></div>"
      ],
      "text/latex": [
       "\\begin{tabular}{r|ccccccc}\n",
       "\t& Variable & Moyenne & Minimum & Médiane & Maximum & Nombre de valeurs manquantes & \\%missing\\\\\n",
       "\t\\hline\n",
       "\t& Symbol & Float64 & Real & Float64 & Real & Int64 & String\\\\\n",
       "\t\\hline\n",
       "\t1 & VOL\\_OGI & 41.1786 & 24.581 & 40.1731 & 73.3696 & 89 & 113\\% \\\\\n",
       "\t2 & VOL\\_ODI & 34.5725 & 15.1351 & 33.5367 & 60.3261 & 89 & 113\\% \\\\\n",
       "\t3 & VTDVGI & 61.6169 & -0.584795 & 61.828 & 91.4894 & 85 & 108\\% \\\\\n",
       "\t4 & VTSVGI & 27.5933 & -0.584795 & 27.6699 & 48.4211 & 86 & 109\\% \\\\\n",
       "\t5 & FE2D & 55.7282 & 40 & 55.0 & 71 & 97 & 123\\% \\\\\n",
       "\t6 & STDi & 12.6043 & 7.51351 & 12.6005 & 17.6882 & 89 & 113\\% \\\\\n",
       "\t7 & STSi & 6.95902 & 3.45946 & 6.92537 & 10.7895 & 89 & 113\\% \\\\\n",
       "\t8 & E/A & 1.65579 & 0.591549 & 1.64516 & 3.76923 & 90 & 114\\% \\\\\n",
       "\t9 & E/Ea & 4.76811 & 2.21429 & 4.45455 & 10.1 & 94 & 119\\% \\\\\n",
       "\\end{tabular}\n"
      ],
      "text/plain": [
       "\u001b[1m9×7 DataFrame\u001b[0m\n",
       "\u001b[1m Row \u001b[0m│\u001b[1m Variable \u001b[0m\u001b[1m Moyenne  \u001b[0m\u001b[1m Minimum   \u001b[0m\u001b[1m Médiane  \u001b[0m\u001b[1m Maximum  \u001b[0m\u001b[1m Nombre de valeurs ma\u001b[0m ⋯\n",
       "     │\u001b[90m Symbol   \u001b[0m\u001b[90m Float64  \u001b[0m\u001b[90m Real      \u001b[0m\u001b[90m Float64  \u001b[0m\u001b[90m Real     \u001b[0m\u001b[90m Int64               \u001b[0m ⋯\n",
       "─────┼──────────────────────────────────────────────────────────────────────────\n",
       "   1 │ VOL_OGI   41.1786   24.581     40.1731   73.3696                        ⋯\n",
       "   2 │ VOL_ODI   34.5725   15.1351    33.5367   60.3261\n",
       "   3 │ VTDVGI    61.6169   -0.584795  61.828    91.4894\n",
       "   4 │ VTSVGI    27.5933   -0.584795  27.6699   48.4211\n",
       "   5 │ FE2D      55.7282   40         55.0      71                             ⋯\n",
       "   6 │ STDi      12.6043    7.51351   12.6005   17.6882\n",
       "   7 │ STSi       6.95902   3.45946    6.92537  10.7895\n",
       "   8 │ E/A        1.65579   0.591549   1.64516   3.76923\n",
       "   9 │ E/Ea       4.76811   2.21429    4.45455  10.1                           ⋯\n",
       "\u001b[36m                                                               2 columns omitted\u001b[0m"
      ]
     },
     "metadata": {},
     "output_type": "display_data"
    }
   ],
   "source": [
    "var_of_interest = [\"VOL_OGI\",\"VOL_ODI\",\"VTDVGI\",\"VTSVGI\",\"FE2D\",\"STDi\",\"STSi\",\"E/A\" ,\"E/Ea\"]\n",
    "function custom_summary(df)\n",
    "    res = df\n",
    "    desc = describe(res)[:, 1:6]\n",
    "    var = desc[:, :variable]\n",
    "    val = desc[:, Not(:variable)]\n",
    "    \n",
    "    pourcent = convert.(Int64, round.(((describe(res)[:, 6] / 79) * 100), digits=0))\n",
    "    pourcent = string.(pourcent)\n",
    "    pourcent = pourcent .* \"%\"\n",
    "    \n",
    "    statistiques = hcat(var, val)\n",
    "    rename!(statistiques, :x1 => \"Variable\")\n",
    "    statistiques = hcat(statistiques, pourcent)\n",
    "    rename!(statistiques, Dict(:x1 => \"%missing\", :mean => \"Moyenne\", :min => \"Minimum\", :median => \"Médiane\", :max => \"Maximum\", :nmissing => \"Nombre de valeurs manquantes\"))\n",
    "    \n",
    "    return statistiques\n",
    "end\n",
    "\n",
    "custom_summary(build_dataframe(\"\", var_of_interest))"
   ]
  },
  {
   "cell_type": "code",
   "execution_count": null,
   "metadata": {},
   "outputs": [
    {
     "data": {
      "text/html": [
       "<div><div style = \"float: left;\"><span>53×6 DataFrame</span></div><div style = \"float: right;\"><span style = \"font-style: italic;\">28 rows omitted</span></div><div style = \"clear: both;\"></div></div><div class = \"data-frame\" style = \"overflow-x: scroll;\"><table class = \"data-frame\" style = \"margin-bottom: 6px;\"><thead><tr class = \"header\"><th class = \"rowNumber\" style = \"font-weight: bold; text-align: right;\">Row</th><th style = \"text-align: left;\">variable</th><th style = \"text-align: left;\">mean</th><th style = \"text-align: left;\">min</th><th style = \"text-align: left;\">median</th><th style = \"text-align: left;\">max</th><th style = \"text-align: left;\">nmissing</th></tr><tr class = \"subheader headerLastRow\"><th class = \"rowNumber\" style = \"font-weight: bold; text-align: right;\"></th><th title = \"Symbol\" style = \"text-align: left;\">Symbol</th><th title = \"Union{Nothing, Float64}\" style = \"text-align: left;\">Union…</th><th title = \"Union{Nothing, Real}\" style = \"text-align: left;\">Union…</th><th title = \"Union{Nothing, Float64}\" style = \"text-align: left;\">Union…</th><th title = \"Union{Nothing, Real}\" style = \"text-align: left;\">Union…</th><th title = \"Float64\" style = \"text-align: left;\">Float64</th></tr></thead><tbody><tr><td class = \"rowNumber\" style = \"font-weight: bold; text-align: right;\">1</td><td style = \"text-align: left;\">CODE_SUJET</td><td style = \"text-align: left;\">40.0</td><td style = \"text-align: left;\">1</td><td style = \"text-align: left;\">40.0</td><td style = \"text-align: left;\">79</td><td style = \"text-align: right;\">0.0</td></tr><tr><td class = \"rowNumber\" style = \"font-weight: bold; text-align: right;\">2</td><td style = \"text-align: left;\">COURSE</td><td style = \"font-style: italic; text-align: left;\"></td><td style = \"font-style: italic; text-align: left;\"></td><td style = \"font-style: italic; text-align: left;\"></td><td style = \"font-style: italic; text-align: left;\"></td><td style = \"text-align: right;\">0.0</td></tr><tr><td class = \"rowNumber\" style = \"font-weight: bold; text-align: right;\">3</td><td style = \"text-align: left;\">TIME</td><td style = \"text-align: left;\">3.8</td><td style = \"text-align: left;\">-2</td><td style = \"text-align: left;\">3.0</td><td style = \"text-align: left;\">11</td><td style = \"text-align: right;\">0.0</td></tr><tr><td class = \"rowNumber\" style = \"font-weight: bold; text-align: right;\">4</td><td style = \"text-align: left;\">STDi</td><td style = \"text-align: left;\">12.6043</td><td style = \"text-align: left;\">7.51351</td><td style = \"text-align: left;\">12.6005</td><td style = \"text-align: left;\">17.6882</td><td style = \"text-align: right;\">89.0</td></tr><tr><td class = \"rowNumber\" style = \"font-weight: bold; text-align: right;\">5</td><td style = \"text-align: left;\">DTDVGI</td><td style = \"text-align: left;\">28.0527</td><td style = \"text-align: left;\">21.8447</td><td style = \"text-align: left;\">27.9188</td><td style = \"text-align: left;\">35.5828</td><td style = \"text-align: right;\">90.0</td></tr><tr><td class = \"rowNumber\" style = \"font-weight: bold; text-align: right;\">6</td><td style = \"text-align: left;\">At</td><td style = \"text-align: left;\">26.245</td><td style = \"text-align: left;\">12</td><td style = \"text-align: left;\">25.0</td><td style = \"text-align: left;\">76</td><td style = \"text-align: right;\">97.0</td></tr><tr><td class = \"rowNumber\" style = \"font-weight: bold; text-align: right;\">7</td><td style = \"text-align: left;\">TDM</td><td style = \"text-align: left;\">208.748</td><td style = \"text-align: left;\">121</td><td style = \"text-align: left;\">206.0</td><td style = \"text-align: left;\">370</td><td style = \"text-align: right;\">90.0</td></tr><tr><td class = \"rowNumber\" style = \"font-weight: bold; text-align: right;\">8</td><td style = \"text-align: left;\">PP</td><td style = \"text-align: left;\">9.48852</td><td style = \"text-align: left;\">7</td><td style = \"text-align: left;\">9.0</td><td style = \"text-align: left;\">13</td><td style = \"text-align: right;\">90.0</td></tr><tr><td class = \"rowNumber\" style = \"font-weight: bold; text-align: right;\">9</td><td style = \"text-align: left;\">VOL_OGI</td><td style = \"text-align: left;\">41.1786</td><td style = \"text-align: left;\">24.581</td><td style = \"text-align: left;\">40.1731</td><td style = \"text-align: left;\">73.3696</td><td style = \"text-align: right;\">89.0</td></tr><tr><td class = \"rowNumber\" style = \"font-weight: bold; text-align: right;\">10</td><td style = \"text-align: left;\">ITVPUL</td><td style = \"text-align: left;\">18.4041</td><td style = \"text-align: left;\">10.3</td><td style = \"text-align: left;\">18.45</td><td style = \"text-align: left;\">28.0</td><td style = \"text-align: right;\">175.0</td></tr><tr><td class = \"rowNumber\" style = \"font-weight: bold; text-align: right;\">11</td><td style = \"text-align: left;\">Et</td><td style = \"text-align: left;\">50.7383</td><td style = \"text-align: left;\">25</td><td style = \"text-align: left;\">50.0</td><td style = \"text-align: left;\">86</td><td style = \"text-align: right;\">97.0</td></tr><tr><td class = \"rowNumber\" style = \"font-weight: bold; text-align: right;\">12</td><td style = \"text-align: left;\">E/A_1</td><td style = \"font-style: italic; text-align: left;\"></td><td style = \"font-style: italic; text-align: left;\"></td><td style = \"font-style: italic; text-align: left;\"></td><td style = \"font-style: italic; text-align: left;\"></td><td style = \"text-align: right;\">395.0</td></tr><tr><td class = \"rowNumber\" style = \"font-weight: bold; text-align: right;\">13</td><td style = \"text-align: left;\">Ea</td><td style = \"text-align: left;\">15.3056</td><td style = \"text-align: left;\">8</td><td style = \"text-align: left;\">15.0</td><td style = \"text-align: left;\">42</td><td style = \"text-align: right;\">94.0</td></tr><tr><td style = \"text-align: right;\">&vellip;</td><td style = \"text-align: right;\">&vellip;</td><td style = \"text-align: right;\">&vellip;</td><td style = \"text-align: right;\">&vellip;</td><td style = \"text-align: right;\">&vellip;</td><td style = \"text-align: right;\">&vellip;</td><td style = \"text-align: right;\">&vellip;</td></tr><tr><td class = \"rowNumber\" style = \"font-weight: bold; text-align: right;\">42</td><td style = \"text-align: left;\">FE</td><td style = \"text-align: left;\">66.4623</td><td style = \"text-align: left;\">50</td><td style = \"text-align: left;\">66.0</td><td style = \"text-align: left;\">89</td><td style = \"text-align: right;\">90.0</td></tr><tr><td class = \"rowNumber\" style = \"font-weight: bold; text-align: right;\">43</td><td style = \"text-align: left;\">VTSVG</td><td style = \"text-align: left;\">52.2226</td><td style = \"text-align: left;\">22</td><td style = \"text-align: left;\">52.0</td><td style = \"text-align: left;\">92</td><td style = \"text-align: right;\">94.0</td></tr><tr><td class = \"rowNumber\" style = \"font-weight: bold; text-align: right;\">44</td><td style = \"text-align: left;\">PAS</td><td style = \"text-align: left;\">118.109</td><td style = \"text-align: left;\">87</td><td style = \"text-align: left;\">118.0</td><td style = \"text-align: left;\">163</td><td style = \"text-align: right;\">92.0</td></tr><tr><td class = \"rowNumber\" style = \"font-weight: bold; text-align: right;\">45</td><td style = \"text-align: left;\">IC</td><td style = \"text-align: left;\">2.83016</td><td style = \"text-align: left;\">-0.122425</td><td style = \"text-align: left;\">2.78671</td><td style = \"text-align: left;\">5.35857</td><td style = \"text-align: right;\">97.0</td></tr><tr><td class = \"rowNumber\" style = \"font-weight: bold; text-align: right;\">46</td><td style = \"text-align: left;\">VOL_OD</td><td style = \"text-align: left;\">59.2597</td><td style = \"text-align: left;\">30</td><td style = \"text-align: left;\">58.0</td><td style = \"text-align: left;\">91</td><td style = \"text-align: right;\">318.0</td></tr><tr><td class = \"rowNumber\" style = \"font-weight: bold; text-align: right;\">47</td><td style = \"text-align: left;\">St</td><td style = \"text-align: left;\">13.5877</td><td style = \"text-align: left;\">8.5</td><td style = \"text-align: left;\">14.0</td><td style = \"text-align: left;\">20.0</td><td style = \"text-align: right;\">110.0</td></tr><tr><td class = \"rowNumber\" style = \"font-weight: bold; text-align: right;\">48</td><td style = \"text-align: left;\">FE2D</td><td style = \"text-align: left;\">55.7282</td><td style = \"text-align: left;\">40</td><td style = \"text-align: left;\">55.0</td><td style = \"text-align: left;\">71</td><td style = \"text-align: right;\">97.0</td></tr><tr><td class = \"rowNumber\" style = \"font-weight: bold; text-align: right;\">49</td><td style = \"text-align: left;\">VOLOG</td><td style = \"text-align: left;\">76.6245</td><td style = \"text-align: left;\">38</td><td style = \"text-align: left;\">75.0</td><td style = \"text-align: left;\">135</td><td style = \"text-align: right;\">166.0</td></tr><tr><td class = \"rowNumber\" style = \"font-weight: bold; text-align: right;\">50</td><td style = \"text-align: left;\">A</td><td style = \"text-align: left;\">45.1475</td><td style = \"text-align: left;\">24</td><td style = \"text-align: left;\">43.0</td><td style = \"text-align: left;\">107</td><td style = \"text-align: right;\">90.0</td></tr><tr><td class = \"rowNumber\" style = \"font-weight: bold; text-align: right;\">51</td><td style = \"text-align: left;\">E</td><td style = \"text-align: left;\">70.5508</td><td style = \"text-align: left;\">40</td><td style = \"text-align: left;\">69.0</td><td style = \"text-align: left;\">119</td><td style = \"text-align: right;\">90.0</td></tr><tr><td class = \"rowNumber\" style = \"font-weight: bold; text-align: right;\">52</td><td style = \"text-align: left;\">VOL_ODI</td><td style = \"text-align: left;\">34.5725</td><td style = \"text-align: left;\">15.1351</td><td style = \"text-align: left;\">33.5367</td><td style = \"text-align: left;\">60.3261</td><td style = \"text-align: right;\">89.0</td></tr><tr><td class = \"rowNumber\" style = \"font-weight: bold; text-align: right;\">53</td><td style = \"text-align: left;\">DTS</td><td style = \"text-align: left;\">32.3672</td><td style = \"text-align: left;\">23</td><td style = \"text-align: left;\">32.0</td><td style = \"text-align: left;\">78</td><td style = \"text-align: right;\">90.0</td></tr></tbody></table></div>"
      ],
      "text/latex": [
       "\\begin{tabular}{r|cccccc}\n",
       "\t& variable & mean & min & median & max & nmissing\\\\\n",
       "\t\\hline\n",
       "\t& Symbol & Union… & Union… & Union… & Union… & Float64\\\\\n",
       "\t\\hline\n",
       "\t1 & CODE\\_SUJET & 40.0 & 1 & 40.0 & 79 & 0.0 \\\\\n",
       "\t2 & COURSE &  &  &  &  & 0.0 \\\\\n",
       "\t3 & TIME & 3.8 & -2 & 3.0 & 11 & 0.0 \\\\\n",
       "\t4 & STDi & 12.6043 & 7.51351 & 12.6005 & 17.6882 & 89.0 \\\\\n",
       "\t5 & DTDVGI & 28.0527 & 21.8447 & 27.9188 & 35.5828 & 90.0 \\\\\n",
       "\t6 & At & 26.245 & 12 & 25.0 & 76 & 97.0 \\\\\n",
       "\t7 & TDM & 208.748 & 121 & 206.0 & 370 & 90.0 \\\\\n",
       "\t8 & PP & 9.48852 & 7 & 9.0 & 13 & 90.0 \\\\\n",
       "\t9 & VOL\\_OGI & 41.1786 & 24.581 & 40.1731 & 73.3696 & 89.0 \\\\\n",
       "\t10 & ITVPUL & 18.4041 & 10.3 & 18.45 & 28.0 & 175.0 \\\\\n",
       "\t11 & Et & 50.7383 & 25 & 50.0 & 86 & 97.0 \\\\\n",
       "\t12 & E/A\\_1 &  &  &  &  & 395.0 \\\\\n",
       "\t13 & Ea & 15.3056 & 8 & 15.0 & 42 & 94.0 \\\\\n",
       "\t14 & STSi & 6.95902 & 3.45946 & 6.92537 & 10.7895 & 89.0 \\\\\n",
       "\t15 & FR & 0.367602 & -0.471698 & 0.366667 & 0.603448 & 90.0 \\\\\n",
       "\t16 & VOL\\_OG & 72.1169 & 42 & 72.0 & 135 & 318.0 \\\\\n",
       "\t17 & DTDVG & 51.1869 & 39 & 51.0 & 60 & 90.0 \\\\\n",
       "\t18 & STS & 12.7378 & 6.4 & 12.5 & 20.5 & 88.0 \\\\\n",
       "\t19 & VES & 64.2308 & 35 & 63.0 & 99 & 96.0 \\\\\n",
       "\t20 & VOLOD & 65.0218 & 28 & 63.0 & 111 & 166.0 \\\\\n",
       "\t21 & TD & 219.739 & 122 & 205.0 & 1995 & 96.0 \\\\\n",
       "\t22 & E/Ea & 4.76811 & 2.21429 & 4.45455 & 10.1 & 94.0 \\\\\n",
       "\t23 & VTDVGI & 61.6169 & -0.584795 & 61.828 & 91.4894 & 85.0 \\\\\n",
       "\t24 & S & 9.67213 & 6 & 10.0 & 40 & 90.0 \\\\\n",
       "\t$\\dots$ & $\\dots$ & $\\dots$ & $\\dots$ & $\\dots$ & $\\dots$ & $\\dots$ \\\\\n",
       "\\end{tabular}\n"
      ],
      "text/plain": [
       "\u001b[1m53×6 DataFrame\u001b[0m\n",
       "\u001b[1m Row \u001b[0m│\u001b[1m variable   \u001b[0m\u001b[1m mean    \u001b[0m\u001b[1m min       \u001b[0m\u001b[1m median  \u001b[0m\u001b[1m max     \u001b[0m\u001b[1m nmissing \u001b[0m\n",
       "     │\u001b[90m Symbol     \u001b[0m\u001b[90m Union…  \u001b[0m\u001b[90m Union…    \u001b[0m\u001b[90m Union…  \u001b[0m\u001b[90m Union…  \u001b[0m\u001b[90m Float64  \u001b[0m\n",
       "─────┼────────────────────────────────────────────────────────────\n",
       "   1 │ CODE_SUJET  40.0     1          40.0     79            0.0\n",
       "   2 │ COURSE     \u001b[90m         \u001b[0m\u001b[90m           \u001b[0m\u001b[90m         \u001b[0m\u001b[90m         \u001b[0m      0.0\n",
       "   3 │ TIME        3.8      -2         3.0      11            0.0\n",
       "   4 │ STDi        12.6043  7.51351    12.6005  17.6882      89.0\n",
       "   5 │ DTDVGI      28.0527  21.8447    27.9188  35.5828      90.0\n",
       "   6 │ At          26.245   12         25.0     76           97.0\n",
       "   7 │ TDM         208.748  121        206.0    370          90.0\n",
       "   8 │ PP          9.48852  7          9.0      13           90.0\n",
       "  ⋮  │     ⋮          ⋮         ⋮         ⋮        ⋮        ⋮\n",
       "  47 │ St          13.5877  8.5        14.0     20.0        110.0\n",
       "  48 │ FE2D        55.7282  40         55.0     71           97.0\n",
       "  49 │ VOLOG       76.6245  38         75.0     135         166.0\n",
       "  50 │ A           45.1475  24         43.0     107          90.0\n",
       "  51 │ E           70.5508  40         69.0     119          90.0\n",
       "  52 │ VOL_ODI     34.5725  15.1351    33.5367  60.3261      89.0\n",
       "  53 │ DTS         32.3672  23         32.0     78           90.0\n",
       "\u001b[36m                                                   38 rows omitted\u001b[0m"
      ]
     },
     "metadata": {},
     "output_type": "display_data"
    }
   ],
   "source": [
    "using DataFrames\n",
    "\n",
    "data = build_dataframe(\"\", var_of_interest)\n",
    "\n",
    "# Assuming `res` is your DataFrame\n",
    "desc = describe(data)[:, 1:6]\n",
    "\n",
    "# Function to round numeric columns and handle missing values\n",
    "function round_numeric_columns(df, digits=2)\n",
    "    for col in names(df)\n",
    "        if eltype(df[!, col]) <: Union{Missing, Number}\n",
    "            df[!, col] = [ismissing(x) ? missing : round(x, digits=digits) for x in df[!, col]]\n",
    "        end\n",
    "    end\n",
    "    return df\n",
    "end\n",
    "\n",
    "rounded_desc = round_numeric_columns(desc)"
   ]
  },
  {
   "cell_type": "code",
   "execution_count": 13,
   "metadata": {},
   "outputs": [
    {
     "data": {
      "text/html": [
       "<div><div style = \"float: left;\"><span>4×2 DataFrame</span></div><div style = \"clear: both;\"></div></div><div class = \"data-frame\" style = \"overflow-x: scroll;\"><table class = \"data-frame\" style = \"margin-bottom: 6px;\"><thead><tr class = \"header\"><th class = \"rowNumber\" style = \"font-weight: bold; text-align: right;\">Row</th><th style = \"text-align: left;\">COURSE</th><th style = \"text-align: left;\">HDA</th></tr><tr class = \"subheader headerLastRow\"><th class = \"rowNumber\" style = \"font-weight: bold; text-align: right;\"></th><th title = \"Any\" style = \"text-align: left;\">Any</th><th title = \"Int64\" style = \"text-align: left;\">Int64</th></tr></thead><tbody><tr><td class = \"rowNumber\" style = \"font-weight: bold; text-align: right;\">1</td><td style = \"text-align: left;\">100km</td><td style = \"text-align: right;\">0</td></tr><tr><td class = \"rowNumber\" style = \"font-weight: bold; text-align: right;\">2</td><td style = \"text-align: left;\">4x40km</td><td style = \"text-align: right;\">0</td></tr><tr><td class = \"rowNumber\" style = \"font-weight: bold; text-align: right;\">3</td><td style = \"text-align: left;\">40km</td><td style = \"text-align: right;\">0</td></tr><tr><td class = \"rowNumber\" style = \"font-weight: bold; text-align: right;\">4</td><td style = \"text-align: left;\">160km</td><td style = \"text-align: right;\">0</td></tr></tbody></table></div>"
      ],
      "text/latex": [
       "\\begin{tabular}{r|cc}\n",
       "\t& COURSE & HDA\\\\\n",
       "\t\\hline\n",
       "\t& Any & Int64\\\\\n",
       "\t\\hline\n",
       "\t1 & 100km & 0 \\\\\n",
       "\t2 & 4x40km & 0 \\\\\n",
       "\t3 & 40km & 0 \\\\\n",
       "\t4 & 160km & 0 \\\\\n",
       "\\end{tabular}\n"
      ],
      "text/plain": [
       "\u001b[1m4×2 DataFrame\u001b[0m\n",
       "\u001b[1m Row \u001b[0m│\u001b[1m COURSE \u001b[0m\u001b[1m HDA   \u001b[0m\n",
       "     │\u001b[90m Any    \u001b[0m\u001b[90m Int64 \u001b[0m\n",
       "─────┼───────────────\n",
       "   1 │ 100km       0\n",
       "   2 │ 4x40km      0\n",
       "   3 │ 40km        0\n",
       "   4 │ 160km       0"
      ]
     },
     "metadata": {},
     "output_type": "display_data"
    }
   ],
   "source": [
    "data = build_all_data(\"Ressources/Données complètes UT4M final120419 avec Data cardio.xlsx\")\n",
    "count_non_participants(data)"
   ]
  },
  {
   "cell_type": "code",
   "execution_count": null,
   "metadata": {},
   "outputs": [
    {
     "data": {
      "text/html": [
       "<div><div style = \"float: left;\"><span>53×7 DataFrame</span></div><div style = \"float: right;\"><span style = \"font-style: italic;\">28 rows omitted</span></div><div style = \"clear: both;\"></div></div><div class = \"data-frame\" style = \"overflow-x: scroll;\"><table class = \"data-frame\" style = \"margin-bottom: 6px;\"><thead><tr class = \"header\"><th class = \"rowNumber\" style = \"font-weight: bold; text-align: right;\">Row</th><th style = \"text-align: left;\">variable</th><th style = \"text-align: left;\">mean</th><th style = \"text-align: left;\">min</th><th style = \"text-align: left;\">median</th><th style = \"text-align: left;\">max</th><th style = \"text-align: left;\">nmissing</th><th style = \"text-align: left;\">%missing</th></tr><tr class = \"subheader headerLastRow\"><th class = \"rowNumber\" style = \"font-weight: bold; text-align: right;\"></th><th title = \"Symbol\" style = \"text-align: left;\">Symbol</th><th title = \"Union{Nothing, Float64}\" style = \"text-align: left;\">Union…</th><th title = \"Union{Nothing, Real}\" style = \"text-align: left;\">Union…</th><th title = \"Union{Nothing, Float64}\" style = \"text-align: left;\">Union…</th><th title = \"Union{Nothing, Real}\" style = \"text-align: left;\">Union…</th><th title = \"Int64\" style = \"text-align: left;\">Int64</th><th title = \"String\" style = \"text-align: left;\">String</th></tr></thead><tbody><tr><td class = \"rowNumber\" style = \"font-weight: bold; text-align: right;\">1</td><td style = \"text-align: left;\">CODE_SUJET</td><td style = \"text-align: left;\">40.0</td><td style = \"text-align: left;\">1</td><td style = \"text-align: left;\">40.0</td><td style = \"text-align: left;\">79</td><td style = \"text-align: right;\">0</td><td style = \"text-align: left;\">0%</td></tr><tr><td class = \"rowNumber\" style = \"font-weight: bold; text-align: right;\">2</td><td style = \"text-align: left;\">COURSE</td><td style = \"font-style: italic; text-align: left;\"></td><td style = \"font-style: italic; text-align: left;\"></td><td style = \"font-style: italic; text-align: left;\"></td><td style = \"font-style: italic; text-align: left;\"></td><td style = \"text-align: right;\">0</td><td style = \"text-align: left;\">0%</td></tr><tr><td class = \"rowNumber\" style = \"font-weight: bold; text-align: right;\">3</td><td style = \"text-align: left;\">TIME</td><td style = \"text-align: left;\">3.8</td><td style = \"text-align: left;\">-2</td><td style = \"text-align: left;\">3.0</td><td style = \"text-align: left;\">11</td><td style = \"text-align: right;\">0</td><td style = \"text-align: left;\">0%</td></tr><tr><td class = \"rowNumber\" style = \"font-weight: bold; text-align: right;\">4</td><td style = \"text-align: left;\">STDi</td><td style = \"text-align: left;\">12.6043</td><td style = \"text-align: left;\">7.51351</td><td style = \"text-align: left;\">12.6005</td><td style = \"text-align: left;\">17.6882</td><td style = \"text-align: right;\">89</td><td style = \"text-align: left;\">23%</td></tr><tr><td class = \"rowNumber\" style = \"font-weight: bold; text-align: right;\">5</td><td style = \"text-align: left;\">DTDVGI</td><td style = \"text-align: left;\">28.0527</td><td style = \"text-align: left;\">21.8447</td><td style = \"text-align: left;\">27.9188</td><td style = \"text-align: left;\">35.5828</td><td style = \"text-align: right;\">90</td><td style = \"text-align: left;\">23%</td></tr><tr><td class = \"rowNumber\" style = \"font-weight: bold; text-align: right;\">6</td><td style = \"text-align: left;\">At</td><td style = \"text-align: left;\">26.245</td><td style = \"text-align: left;\">12</td><td style = \"text-align: left;\">25.0</td><td style = \"text-align: left;\">76</td><td style = \"text-align: right;\">97</td><td style = \"text-align: left;\">25%</td></tr><tr><td class = \"rowNumber\" style = \"font-weight: bold; text-align: right;\">7</td><td style = \"text-align: left;\">TDM</td><td style = \"text-align: left;\">208.748</td><td style = \"text-align: left;\">121</td><td style = \"text-align: left;\">206.0</td><td style = \"text-align: left;\">370</td><td style = \"text-align: right;\">90</td><td style = \"text-align: left;\">23%</td></tr><tr><td class = \"rowNumber\" style = \"font-weight: bold; text-align: right;\">8</td><td style = \"text-align: left;\">PP</td><td style = \"text-align: left;\">9.48852</td><td style = \"text-align: left;\">7</td><td style = \"text-align: left;\">9.0</td><td style = \"text-align: left;\">13</td><td style = \"text-align: right;\">90</td><td style = \"text-align: left;\">23%</td></tr><tr><td class = \"rowNumber\" style = \"font-weight: bold; text-align: right;\">9</td><td style = \"text-align: left;\">VOL_OGI</td><td style = \"text-align: left;\">41.1786</td><td style = \"text-align: left;\">24.581</td><td style = \"text-align: left;\">40.1731</td><td style = \"text-align: left;\">73.3696</td><td style = \"text-align: right;\">89</td><td style = \"text-align: left;\">23%</td></tr><tr><td class = \"rowNumber\" style = \"font-weight: bold; text-align: right;\">10</td><td style = \"text-align: left;\">ITVPUL</td><td style = \"text-align: left;\">18.4041</td><td style = \"text-align: left;\">10.3</td><td style = \"text-align: left;\">18.45</td><td style = \"text-align: left;\">28.0</td><td style = \"text-align: right;\">175</td><td style = \"text-align: left;\">44%</td></tr><tr><td class = \"rowNumber\" style = \"font-weight: bold; text-align: right;\">11</td><td style = \"text-align: left;\">Et</td><td style = \"text-align: left;\">50.7383</td><td style = \"text-align: left;\">25</td><td style = \"text-align: left;\">50.0</td><td style = \"text-align: left;\">86</td><td style = \"text-align: right;\">97</td><td style = \"text-align: left;\">25%</td></tr><tr><td class = \"rowNumber\" style = \"font-weight: bold; text-align: right;\">12</td><td style = \"text-align: left;\">E/A_1</td><td style = \"font-style: italic; text-align: left;\"></td><td style = \"font-style: italic; text-align: left;\"></td><td style = \"font-style: italic; text-align: left;\"></td><td style = \"font-style: italic; text-align: left;\"></td><td style = \"text-align: right;\">395</td><td style = \"text-align: left;\">100%</td></tr><tr><td class = \"rowNumber\" style = \"font-weight: bold; text-align: right;\">13</td><td style = \"text-align: left;\">Ea</td><td style = \"text-align: left;\">15.3056</td><td style = \"text-align: left;\">8</td><td style = \"text-align: left;\">15.0</td><td style = \"text-align: left;\">42</td><td style = \"text-align: right;\">94</td><td style = \"text-align: left;\">24%</td></tr><tr><td style = \"text-align: right;\">&vellip;</td><td style = \"text-align: right;\">&vellip;</td><td style = \"text-align: right;\">&vellip;</td><td style = \"text-align: right;\">&vellip;</td><td style = \"text-align: right;\">&vellip;</td><td style = \"text-align: right;\">&vellip;</td><td style = \"text-align: right;\">&vellip;</td><td style = \"text-align: right;\">&vellip;</td></tr><tr><td class = \"rowNumber\" style = \"font-weight: bold; text-align: right;\">42</td><td style = \"text-align: left;\">FE</td><td style = \"text-align: left;\">66.4623</td><td style = \"text-align: left;\">50</td><td style = \"text-align: left;\">66.0</td><td style = \"text-align: left;\">89</td><td style = \"text-align: right;\">90</td><td style = \"text-align: left;\">23%</td></tr><tr><td class = \"rowNumber\" style = \"font-weight: bold; text-align: right;\">43</td><td style = \"text-align: left;\">VTSVG</td><td style = \"text-align: left;\">52.2226</td><td style = \"text-align: left;\">22</td><td style = \"text-align: left;\">52.0</td><td style = \"text-align: left;\">92</td><td style = \"text-align: right;\">94</td><td style = \"text-align: left;\">24%</td></tr><tr><td class = \"rowNumber\" style = \"font-weight: bold; text-align: right;\">44</td><td style = \"text-align: left;\">PAS</td><td style = \"text-align: left;\">118.109</td><td style = \"text-align: left;\">87</td><td style = \"text-align: left;\">118.0</td><td style = \"text-align: left;\">163</td><td style = \"text-align: right;\">92</td><td style = \"text-align: left;\">23%</td></tr><tr><td class = \"rowNumber\" style = \"font-weight: bold; text-align: right;\">45</td><td style = \"text-align: left;\">IC</td><td style = \"text-align: left;\">2.83016</td><td style = \"text-align: left;\">-0.122425</td><td style = \"text-align: left;\">2.78671</td><td style = \"text-align: left;\">5.35857</td><td style = \"text-align: right;\">97</td><td style = \"text-align: left;\">25%</td></tr><tr><td class = \"rowNumber\" style = \"font-weight: bold; text-align: right;\">46</td><td style = \"text-align: left;\">VOL_OD</td><td style = \"text-align: left;\">59.2597</td><td style = \"text-align: left;\">30</td><td style = \"text-align: left;\">58.0</td><td style = \"text-align: left;\">91</td><td style = \"text-align: right;\">318</td><td style = \"text-align: left;\">81%</td></tr><tr><td class = \"rowNumber\" style = \"font-weight: bold; text-align: right;\">47</td><td style = \"text-align: left;\">St</td><td style = \"text-align: left;\">13.5877</td><td style = \"text-align: left;\">8.5</td><td style = \"text-align: left;\">14.0</td><td style = \"text-align: left;\">20.0</td><td style = \"text-align: right;\">110</td><td style = \"text-align: left;\">28%</td></tr><tr><td class = \"rowNumber\" style = \"font-weight: bold; text-align: right;\">48</td><td style = \"text-align: left;\">FE2D</td><td style = \"text-align: left;\">55.7282</td><td style = \"text-align: left;\">40</td><td style = \"text-align: left;\">55.0</td><td style = \"text-align: left;\">71</td><td style = \"text-align: right;\">97</td><td style = \"text-align: left;\">25%</td></tr><tr><td class = \"rowNumber\" style = \"font-weight: bold; text-align: right;\">49</td><td style = \"text-align: left;\">VOLOG</td><td style = \"text-align: left;\">76.6245</td><td style = \"text-align: left;\">38</td><td style = \"text-align: left;\">75.0</td><td style = \"text-align: left;\">135</td><td style = \"text-align: right;\">166</td><td style = \"text-align: left;\">42%</td></tr><tr><td class = \"rowNumber\" style = \"font-weight: bold; text-align: right;\">50</td><td style = \"text-align: left;\">A</td><td style = \"text-align: left;\">45.1475</td><td style = \"text-align: left;\">24</td><td style = \"text-align: left;\">43.0</td><td style = \"text-align: left;\">107</td><td style = \"text-align: right;\">90</td><td style = \"text-align: left;\">23%</td></tr><tr><td class = \"rowNumber\" style = \"font-weight: bold; text-align: right;\">51</td><td style = \"text-align: left;\">E</td><td style = \"text-align: left;\">70.5508</td><td style = \"text-align: left;\">40</td><td style = \"text-align: left;\">69.0</td><td style = \"text-align: left;\">119</td><td style = \"text-align: right;\">90</td><td style = \"text-align: left;\">23%</td></tr><tr><td class = \"rowNumber\" style = \"font-weight: bold; text-align: right;\">52</td><td style = \"text-align: left;\">VOL_ODI</td><td style = \"text-align: left;\">34.5725</td><td style = \"text-align: left;\">15.1351</td><td style = \"text-align: left;\">33.5367</td><td style = \"text-align: left;\">60.3261</td><td style = \"text-align: right;\">89</td><td style = \"text-align: left;\">23%</td></tr><tr><td class = \"rowNumber\" style = \"font-weight: bold; text-align: right;\">53</td><td style = \"text-align: left;\">DTS</td><td style = \"text-align: left;\">32.3672</td><td style = \"text-align: left;\">23</td><td style = \"text-align: left;\">32.0</td><td style = \"text-align: left;\">78</td><td style = \"text-align: right;\">90</td><td style = \"text-align: left;\">23%</td></tr></tbody></table></div>"
      ],
      "text/latex": [
       "\\begin{tabular}{r|ccccccc}\n",
       "\t& variable & mean & min & median & max & nmissing & \\%missing\\\\\n",
       "\t\\hline\n",
       "\t& Symbol & Union… & Union… & Union… & Union… & Int64 & String\\\\\n",
       "\t\\hline\n",
       "\t1 & CODE\\_SUJET & 40.0 & 1 & 40.0 & 79 & 0 & 0\\% \\\\\n",
       "\t2 & COURSE &  &  &  &  & 0 & 0\\% \\\\\n",
       "\t3 & TIME & 3.8 & -2 & 3.0 & 11 & 0 & 0\\% \\\\\n",
       "\t4 & STDi & 12.6043 & 7.51351 & 12.6005 & 17.6882 & 89 & 23\\% \\\\\n",
       "\t5 & DTDVGI & 28.0527 & 21.8447 & 27.9188 & 35.5828 & 90 & 23\\% \\\\\n",
       "\t6 & At & 26.245 & 12 & 25.0 & 76 & 97 & 25\\% \\\\\n",
       "\t7 & TDM & 208.748 & 121 & 206.0 & 370 & 90 & 23\\% \\\\\n",
       "\t8 & PP & 9.48852 & 7 & 9.0 & 13 & 90 & 23\\% \\\\\n",
       "\t9 & VOL\\_OGI & 41.1786 & 24.581 & 40.1731 & 73.3696 & 89 & 23\\% \\\\\n",
       "\t10 & ITVPUL & 18.4041 & 10.3 & 18.45 & 28.0 & 175 & 44\\% \\\\\n",
       "\t11 & Et & 50.7383 & 25 & 50.0 & 86 & 97 & 25\\% \\\\\n",
       "\t12 & E/A\\_1 &  &  &  &  & 395 & 100\\% \\\\\n",
       "\t13 & Ea & 15.3056 & 8 & 15.0 & 42 & 94 & 24\\% \\\\\n",
       "\t14 & STSi & 6.95902 & 3.45946 & 6.92537 & 10.7895 & 89 & 23\\% \\\\\n",
       "\t15 & FR & 0.367602 & -0.471698 & 0.366667 & 0.603448 & 90 & 23\\% \\\\\n",
       "\t16 & VOL\\_OG & 72.1169 & 42 & 72.0 & 135 & 318 & 81\\% \\\\\n",
       "\t17 & DTDVG & 51.1869 & 39 & 51.0 & 60 & 90 & 23\\% \\\\\n",
       "\t18 & STS & 12.7378 & 6.4 & 12.5 & 20.5 & 88 & 22\\% \\\\\n",
       "\t19 & VES & 64.2308 & 35 & 63.0 & 99 & 96 & 24\\% \\\\\n",
       "\t20 & VOLOD & 65.0218 & 28 & 63.0 & 111 & 166 & 42\\% \\\\\n",
       "\t21 & TD & 219.739 & 122 & 205.0 & 1995 & 96 & 24\\% \\\\\n",
       "\t22 & E/Ea & 4.76811 & 2.21429 & 4.45455 & 10.1 & 94 & 24\\% \\\\\n",
       "\t23 & VTDVGI & 61.6169 & -0.584795 & 61.828 & 91.4894 & 85 & 22\\% \\\\\n",
       "\t24 & S & 9.67213 & 6 & 10.0 & 40 & 90 & 23\\% \\\\\n",
       "\t25 & PAPS & 25.5494 & 16 & 25.0 & 45 & 233 & 59\\% \\\\\n",
       "\t26 & PAPMAX & 25.4906 & 17 & 25.0 & 36 & 342 & 87\\% \\\\\n",
       "\t27 & FRVD & 0.448273 & 0.26699 & 0.451518 & 0.639731 & 89 & 23\\% \\\\\n",
       "\t28 & ITV Ao & 22.0497 & 11.5 & 21.65 & 40.2 & 99 & 25\\% \\\\\n",
       "\t29 & STD & 23.0788 & 13.2 & 22.8 & 33.3 & 88 & 22\\% \\\\\n",
       "\t30 & MVG & 181.074 & 76.7834 & 180.624 & 740.225 & 90 & 23\\% \\\\\n",
       "\t$\\dots$ & $\\dots$ & $\\dots$ & $\\dots$ & $\\dots$ & $\\dots$ & $\\dots$ & $\\dots$ \\\\\n",
       "\\end{tabular}\n"
      ],
      "text/plain": [
       "\u001b[1m53×7 DataFrame\u001b[0m\n",
       "\u001b[1m Row \u001b[0m│\u001b[1m variable   \u001b[0m\u001b[1m mean    \u001b[0m\u001b[1m min       \u001b[0m\u001b[1m median  \u001b[0m\u001b[1m max     \u001b[0m\u001b[1m nmissing \u001b[0m\u001b[1m %missing \u001b[0m\n",
       "     │\u001b[90m Symbol     \u001b[0m\u001b[90m Union…  \u001b[0m\u001b[90m Union…    \u001b[0m\u001b[90m Union…  \u001b[0m\u001b[90m Union…  \u001b[0m\u001b[90m Int64    \u001b[0m\u001b[90m String   \u001b[0m\n",
       "─────┼──────────────────────────────────────────────────────────────────────\n",
       "   1 │ CODE_SUJET  40.0     1          40.0     79              0  0%\n",
       "   2 │ COURSE     \u001b[90m         \u001b[0m\u001b[90m           \u001b[0m\u001b[90m         \u001b[0m\u001b[90m         \u001b[0m        0  0%\n",
       "   3 │ TIME        3.8      -2         3.0      11              0  0%\n",
       "   4 │ STDi        12.6043  7.51351    12.6005  17.6882        89  23%\n",
       "   5 │ DTDVGI      28.0527  21.8447    27.9188  35.5828        90  23%\n",
       "   6 │ At          26.245   12         25.0     76             97  25%\n",
       "   7 │ TDM         208.748  121        206.0    370            90  23%\n",
       "   8 │ PP          9.48852  7          9.0      13             90  23%\n",
       "   9 │ VOL_OGI     41.1786  24.581     40.1731  73.3696        89  23%\n",
       "  10 │ ITVPUL      18.4041  10.3       18.45    28.0          175  44%\n",
       "  11 │ Et          50.7383  25         50.0     86             97  25%\n",
       "  ⋮  │     ⋮          ⋮         ⋮         ⋮        ⋮        ⋮         ⋮\n",
       "  44 │ PAS         118.109  87         118.0    163            92  23%\n",
       "  45 │ IC          2.83016  -0.122425  2.78671  5.35857        97  25%\n",
       "  46 │ VOL_OD      59.2597  30         58.0     91            318  81%\n",
       "  47 │ St          13.5877  8.5        14.0     20.0          110  28%\n",
       "  48 │ FE2D        55.7282  40         55.0     71             97  25%\n",
       "  49 │ VOLOG       76.6245  38         75.0     135           166  42%\n",
       "  50 │ A           45.1475  24         43.0     107            90  23%\n",
       "  51 │ E           70.5508  40         69.0     119            90  23%\n",
       "  52 │ VOL_ODI     34.5725  15.1351    33.5367  60.3261        89  23%\n",
       "  53 │ DTS         32.3672  23         32.0     78             90  23%\n",
       "\u001b[36m                                                             32 rows omitted\u001b[0m"
      ]
     },
     "execution_count": 77,
     "metadata": {},
     "output_type": "execute_result"
    }
   ],
   "source": [
    "data = build_data_cardiac(\"./Ressources/Données complètes UT4M final120419 avec Data cardio.xlsx\")\n",
    "custom_summary(data)"
   ]
  },
  {
   "cell_type": "code",
   "execution_count": 36,
   "metadata": {},
   "outputs": [
    {
     "data": {
      "text/plain": [
       "12-element Vector{Any}:\n",
       " :CODE_SUJET\n",
       " :COURSE\n",
       " :TIME\n",
       " \"VOL_OGI\"\n",
       " \"VOL_ODI\"\n",
       " \"VTDVGI\"\n",
       " \"VTSVGI\"\n",
       " \"FE2D\"\n",
       " \"STDi\"\n",
       " \"STSi\"\n",
       " \"E/A\"\n",
       " \"E/Ea\""
      ]
     },
     "metadata": {},
     "output_type": "display_data"
    }
   ],
   "source": [
    "vcat([:CODE_SUJET, :COURSE, :TIME], var_of_interest)"
   ]
  },
  {
   "cell_type": "code",
   "execution_count": 25,
   "metadata": {},
   "outputs": [
    {
     "data": {
      "text/plain": [
       "missing_values_1D (generic function with 2 methods)"
      ]
     },
     "metadata": {},
     "output_type": "display_data"
    }
   ],
   "source": [
    "function missing_values_1D(df, dim1, dims = [:CODE_SUJET, :COURSE, :TIME])\n",
    "    res = df\n",
    "    filter!(x -> x != dim1, dims)\n",
    "    grouped = groupby(res[:,Not(dims)], dim1)\n",
    "    cols = names(res[:,Not(dims)]) .!= String(dim1)\n",
    "    nmissing_per_group = DataFrames.combine(grouped, \n",
    "    [col => (x -> sum(ismissing, x)) => Symbol(string(col)) for col in names(res[:,Not(dims)]) if col != String(dim1)]...)\n",
    "    return nmissing_per_group\n",
    "end"
   ]
  },
  {
   "cell_type": "code",
   "execution_count": 57,
   "metadata": {},
   "outputs": [
    {
     "data": {
      "text/plain": [
       "plotlinevariabilityinter (generic function with 1 method)"
      ]
     },
     "metadata": {},
     "output_type": "display_data"
    }
   ],
   "source": [
    "function plotlinevariabilityinter(df, col)\n",
    "    grouped = groupby(df[:, 1:end], [:COURSE, :TIME])\n",
    "    result = DataFrames.combine(grouped, DataFrames.names(df, Not([:CODE_SUJET, :COURSE, :TIME])) .=> mean_std)\n",
    "    col2 = col * \"_mean_std\"\n",
    "    res = Base.hcat(result[:, 1:2], Base.getindex.(result[:, Symbol(col2)], 1), makeunique=true)\n",
    "    grouped = groupby(res, :TIME)\n",
    "    mean_values = DataFrames.combine(grouped, :x1 => (x -> Statistics.mean(skipmissing(x))) => Symbol(\"mean_\" * col))\n",
    "    x = [\"J-2\", \"J+1\", \"J+3\", \"J+6\", \"J+11\"]\n",
    "    C1 = first.(filter(row -> row.COURSE == 100, res)[:, \"x1\"])\n",
    "    C2 = first.(filter(row -> row.COURSE == \"4_40\", res)[:, \"x1\"])\n",
    "    C3 = first.(filter(row -> row.COURSE == 160, res)[:, \"x1\"])\n",
    "    C4 = first.(filter(row -> row.COURSE == 40, res)[:, \"x1\"])\n",
    "    Mean = mean_values[:, 2]\n",
    "    p = Plots.plot(x, [C1 C2 C3 C4], label=[\"100km\" \"4x40km\" \"160km\" \"40km\"], title=\"Variabilité inter-individuelle pour \" * col)\n",
    "    # Ajout de la cinquième courbe avec couleur spécifique et style en pointillé\n",
    "    return plot!(p, x, Mean, label=\"Moyenne\", linecolor=:black, linestyle=:dash, legend=:outerbottom, legendcolumns=5)\n",
    "end"
   ]
  },
  {
   "cell_type": "code",
   "execution_count": 90,
   "metadata": {},
   "outputs": [
    {
     "data": {
      "application/vnd.plotly.v1+json": {
       "config": {
        "editable": false,
        "responsive": true,
        "scrollZoom": true,
        "showLink": false,
        "staticPlot": false
       },
       "data": [
        {
         "mode": "lines+markers",
         "name": "100km",
         "type": "scatter",
         "x": [
          "J-2",
          "J+1",
          "J+3",
          "J+6",
          "J+11"
         ],
         "y": [
          64.5,
          61.6,
          68.3,
          64.2,
          63
         ]
        },
        {
         "mode": "lines+markers",
         "name": "4x40km",
         "type": "scatter",
         "x": [
          "J-2",
          "J+1",
          "J+3",
          "J+6",
          "J+11"
         ],
         "y": [
          64.6,
          64.9,
          74.2,
          65.5,
          63
         ]
        },
        {
         "mode": "lines+markers",
         "name": "160km",
         "type": "scatter",
         "x": [
          "J-2",
          "J+1",
          "J+3",
          "J+6",
          "J+11"
         ],
         "y": [
          65.6,
          63.3,
          67.3,
          45.4,
          62.1
         ]
        },
        {
         "mode": "lines+markers",
         "name": "40km",
         "type": "scatter",
         "x": [
          "J-2",
          "J+1",
          "J+3",
          "J+6",
          "J+11"
         ],
         "y": [
          58.6,
          55.4,
          61.7,
          51.6,
          60
         ]
        },
        {
         "mode": "lines+markers",
         "name": "Moyenne",
         "type": "scatter",
         "x": [
          "J-2",
          "J+1",
          "J+3",
          "J+6",
          "J+11"
         ],
         "y": [
          63.324999999999996,
          61.3,
          67.875,
          56.675,
          62.025
         ]
        }
       ],
       "frames": [],
       "layout": {
        "margin": {
         "b": 50,
         "l": 50,
         "r": 50,
         "t": 60
        },
        "template": {
         "data": {
          "bar": [
           {
            "error_x": {
             "color": "#2a3f5f"
            },
            "error_y": {
             "color": "#2a3f5f"
            },
            "marker": {
             "line": {
              "color": "#E5ECF6",
              "width": 0.5
             }
            },
            "type": "bar"
           }
          ],
          "barpolar": [
           {
            "marker": {
             "line": {
              "color": "#E5ECF6",
              "width": 0.5
             }
            },
            "type": "barpolar"
           }
          ],
          "carpet": [
           {
            "aaxis": {
             "endlinecolor": "#2a3f5f",
             "gridcolor": "white",
             "linecolor": "white",
             "minorgridcolor": "white",
             "startlinecolor": "#2a3f5f"
            },
            "baxis": {
             "endlinecolor": "#2a3f5f",
             "gridcolor": "white",
             "linecolor": "white",
             "minorgridcolor": "white",
             "startlinecolor": "#2a3f5f"
            },
            "type": "carpet"
           }
          ],
          "choropleth": [
           {
            "colorbar": {
             "outlinewidth": 0,
             "ticks": ""
            },
            "type": "choropleth"
           }
          ],
          "contour": [
           {
            "colorbar": {
             "outlinewidth": 0,
             "ticks": ""
            },
            "colorscale": [
             [
              0,
              "#0d0887"
             ],
             [
              0.1111111111111111,
              "#46039f"
             ],
             [
              0.2222222222222222,
              "#7201a8"
             ],
             [
              0.3333333333333333,
              "#9c179e"
             ],
             [
              0.4444444444444444,
              "#bd3786"
             ],
             [
              0.5555555555555556,
              "#d8576b"
             ],
             [
              0.6666666666666666,
              "#ed7953"
             ],
             [
              0.7777777777777778,
              "#fb9f3a"
             ],
             [
              0.8888888888888888,
              "#fdca26"
             ],
             [
              1,
              "#f0f921"
             ]
            ],
            "type": "contour"
           }
          ],
          "contourcarpet": [
           {
            "colorbar": {
             "outlinewidth": 0,
             "ticks": ""
            },
            "type": "contourcarpet"
           }
          ],
          "heatmap": [
           {
            "colorbar": {
             "outlinewidth": 0,
             "ticks": ""
            },
            "colorscale": [
             [
              0,
              "#0d0887"
             ],
             [
              0.1111111111111111,
              "#46039f"
             ],
             [
              0.2222222222222222,
              "#7201a8"
             ],
             [
              0.3333333333333333,
              "#9c179e"
             ],
             [
              0.4444444444444444,
              "#bd3786"
             ],
             [
              0.5555555555555556,
              "#d8576b"
             ],
             [
              0.6666666666666666,
              "#ed7953"
             ],
             [
              0.7777777777777778,
              "#fb9f3a"
             ],
             [
              0.8888888888888888,
              "#fdca26"
             ],
             [
              1,
              "#f0f921"
             ]
            ],
            "type": "heatmap"
           }
          ],
          "heatmapgl": [
           {
            "colorbar": {
             "outlinewidth": 0,
             "ticks": ""
            },
            "colorscale": [
             [
              0,
              "#0d0887"
             ],
             [
              0.1111111111111111,
              "#46039f"
             ],
             [
              0.2222222222222222,
              "#7201a8"
             ],
             [
              0.3333333333333333,
              "#9c179e"
             ],
             [
              0.4444444444444444,
              "#bd3786"
             ],
             [
              0.5555555555555556,
              "#d8576b"
             ],
             [
              0.6666666666666666,
              "#ed7953"
             ],
             [
              0.7777777777777778,
              "#fb9f3a"
             ],
             [
              0.8888888888888888,
              "#fdca26"
             ],
             [
              1,
              "#f0f921"
             ]
            ],
            "type": "heatmapgl"
           }
          ],
          "histogram": [
           {
            "marker": {
             "colorbar": {
              "outlinewidth": 0,
              "ticks": ""
             }
            },
            "type": "histogram"
           }
          ],
          "histogram2d": [
           {
            "colorbar": {
             "outlinewidth": 0,
             "ticks": ""
            },
            "colorscale": [
             [
              0,
              "#0d0887"
             ],
             [
              0.1111111111111111,
              "#46039f"
             ],
             [
              0.2222222222222222,
              "#7201a8"
             ],
             [
              0.3333333333333333,
              "#9c179e"
             ],
             [
              0.4444444444444444,
              "#bd3786"
             ],
             [
              0.5555555555555556,
              "#d8576b"
             ],
             [
              0.6666666666666666,
              "#ed7953"
             ],
             [
              0.7777777777777778,
              "#fb9f3a"
             ],
             [
              0.8888888888888888,
              "#fdca26"
             ],
             [
              1,
              "#f0f921"
             ]
            ],
            "type": "histogram2d"
           }
          ],
          "histogram2dcontour": [
           {
            "colorbar": {
             "outlinewidth": 0,
             "ticks": ""
            },
            "colorscale": [
             [
              0,
              "#0d0887"
             ],
             [
              0.1111111111111111,
              "#46039f"
             ],
             [
              0.2222222222222222,
              "#7201a8"
             ],
             [
              0.3333333333333333,
              "#9c179e"
             ],
             [
              0.4444444444444444,
              "#bd3786"
             ],
             [
              0.5555555555555556,
              "#d8576b"
             ],
             [
              0.6666666666666666,
              "#ed7953"
             ],
             [
              0.7777777777777778,
              "#fb9f3a"
             ],
             [
              0.8888888888888888,
              "#fdca26"
             ],
             [
              1,
              "#f0f921"
             ]
            ],
            "type": "histogram2dcontour"
           }
          ],
          "mesh3d": [
           {
            "colorbar": {
             "outlinewidth": 0,
             "ticks": ""
            },
            "type": "mesh3d"
           }
          ],
          "parcoords": [
           {
            "line": {
             "colorbar": {
              "outlinewidth": 0,
              "ticks": ""
             }
            },
            "type": "parcoords"
           }
          ],
          "pie": [
           {
            "automargin": true,
            "type": "pie"
           }
          ],
          "scatter": [
           {
            "marker": {
             "colorbar": {
              "outlinewidth": 0,
              "ticks": ""
             }
            },
            "type": "scatter"
           }
          ],
          "scatter3d": [
           {
            "line": {
             "colorbar": {
              "outlinewidth": 0,
              "ticks": ""
             }
            },
            "marker": {
             "colorbar": {
              "outlinewidth": 0,
              "ticks": ""
             }
            },
            "type": "scatter3d"
           }
          ],
          "scattercarpet": [
           {
            "marker": {
             "colorbar": {
              "outlinewidth": 0,
              "ticks": ""
             }
            },
            "type": "scattercarpet"
           }
          ],
          "scattergeo": [
           {
            "marker": {
             "colorbar": {
              "outlinewidth": 0,
              "ticks": ""
             }
            },
            "type": "scattergeo"
           }
          ],
          "scattergl": [
           {
            "marker": {
             "colorbar": {
              "outlinewidth": 0,
              "ticks": ""
             }
            },
            "type": "scattergl"
           }
          ],
          "scattermapbox": [
           {
            "marker": {
             "colorbar": {
              "outlinewidth": 0,
              "ticks": ""
             }
            },
            "type": "scattermapbox"
           }
          ],
          "scatterpolar": [
           {
            "marker": {
             "colorbar": {
              "outlinewidth": 0,
              "ticks": ""
             }
            },
            "type": "scatterpolar"
           }
          ],
          "scatterpolargl": [
           {
            "marker": {
             "colorbar": {
              "outlinewidth": 0,
              "ticks": ""
             }
            },
            "type": "scatterpolargl"
           }
          ],
          "scatterternary": [
           {
            "marker": {
             "colorbar": {
              "outlinewidth": 0,
              "ticks": ""
             }
            },
            "type": "scatterternary"
           }
          ],
          "surface": [
           {
            "colorbar": {
             "outlinewidth": 0,
             "ticks": ""
            },
            "colorscale": [
             [
              0,
              "#0d0887"
             ],
             [
              0.1111111111111111,
              "#46039f"
             ],
             [
              0.2222222222222222,
              "#7201a8"
             ],
             [
              0.3333333333333333,
              "#9c179e"
             ],
             [
              0.4444444444444444,
              "#bd3786"
             ],
             [
              0.5555555555555556,
              "#d8576b"
             ],
             [
              0.6666666666666666,
              "#ed7953"
             ],
             [
              0.7777777777777778,
              "#fb9f3a"
             ],
             [
              0.8888888888888888,
              "#fdca26"
             ],
             [
              1,
              "#f0f921"
             ]
            ],
            "type": "surface"
           }
          ],
          "table": [
           {
            "cells": {
             "fill": {
              "color": "#EBF0F8"
             },
             "line": {
              "color": "white"
             }
            },
            "header": {
             "fill": {
              "color": "#C8D4E3"
             },
             "line": {
              "color": "white"
             }
            },
            "type": "table"
           }
          ]
         },
         "layout": {
          "annotationdefaults": {
           "arrowcolor": "#2a3f5f",
           "arrowhead": 0,
           "arrowwidth": 1
          },
          "autotypenumbers": "strict",
          "coloraxis": {
           "colorbar": {
            "outlinewidth": 0,
            "ticks": ""
           }
          },
          "colorscale": {
           "diverging": [
            [
             0,
             "#8e0152"
            ],
            [
             0.1,
             "#c51b7d"
            ],
            [
             0.2,
             "#de77ae"
            ],
            [
             0.3,
             "#f1b6da"
            ],
            [
             0.4,
             "#fde0ef"
            ],
            [
             0.5,
             "#f7f7f7"
            ],
            [
             0.6,
             "#e6f5d0"
            ],
            [
             0.7,
             "#b8e186"
            ],
            [
             0.8,
             "#7fbc41"
            ],
            [
             0.9,
             "#4d9221"
            ],
            [
             1,
             "#276419"
            ]
           ],
           "sequential": [
            [
             0,
             "#0d0887"
            ],
            [
             0.1111111111111111,
             "#46039f"
            ],
            [
             0.2222222222222222,
             "#7201a8"
            ],
            [
             0.3333333333333333,
             "#9c179e"
            ],
            [
             0.4444444444444444,
             "#bd3786"
            ],
            [
             0.5555555555555556,
             "#d8576b"
            ],
            [
             0.6666666666666666,
             "#ed7953"
            ],
            [
             0.7777777777777778,
             "#fb9f3a"
            ],
            [
             0.8888888888888888,
             "#fdca26"
            ],
            [
             1,
             "#f0f921"
            ]
           ],
           "sequentialminus": [
            [
             0,
             "#0d0887"
            ],
            [
             0.1111111111111111,
             "#46039f"
            ],
            [
             0.2222222222222222,
             "#7201a8"
            ],
            [
             0.3333333333333333,
             "#9c179e"
            ],
            [
             0.4444444444444444,
             "#bd3786"
            ],
            [
             0.5555555555555556,
             "#d8576b"
            ],
            [
             0.6666666666666666,
             "#ed7953"
            ],
            [
             0.7777777777777778,
             "#fb9f3a"
            ],
            [
             0.8888888888888888,
             "#fdca26"
            ],
            [
             1,
             "#f0f921"
            ]
           ]
          },
          "colorway": [
           "#636efa",
           "#EF553B",
           "#00cc96",
           "#ab63fa",
           "#FFA15A",
           "#19d3f3",
           "#FF6692",
           "#B6E880",
           "#FF97FF",
           "#FECB52"
          ],
          "font": {
           "color": "#2a3f5f"
          },
          "geo": {
           "bgcolor": "white",
           "lakecolor": "white",
           "landcolor": "#E5ECF6",
           "showlakes": true,
           "showland": true,
           "subunitcolor": "white"
          },
          "hoverlabel": {
           "align": "left"
          },
          "hovermode": "closest",
          "mapbox": {
           "style": "light"
          },
          "paper_bgcolor": "white",
          "plot_bgcolor": "#E5ECF6",
          "polar": {
           "angularaxis": {
            "gridcolor": "white",
            "linecolor": "white",
            "ticks": ""
           },
           "bgcolor": "#E5ECF6",
           "radialaxis": {
            "gridcolor": "white",
            "linecolor": "white",
            "ticks": ""
           }
          },
          "scene": {
           "xaxis": {
            "backgroundcolor": "#E5ECF6",
            "gridcolor": "white",
            "gridwidth": 2,
            "linecolor": "white",
            "showbackground": true,
            "ticks": "",
            "zerolinecolor": "white"
           },
           "yaxis": {
            "backgroundcolor": "#E5ECF6",
            "gridcolor": "white",
            "gridwidth": 2,
            "linecolor": "white",
            "showbackground": true,
            "ticks": "",
            "zerolinecolor": "white"
           },
           "zaxis": {
            "backgroundcolor": "#E5ECF6",
            "gridcolor": "white",
            "gridwidth": 2,
            "linecolor": "white",
            "showbackground": true,
            "ticks": "",
            "zerolinecolor": "white"
           }
          },
          "shapedefaults": {
           "line": {
            "color": "#2a3f5f"
           }
          },
          "ternary": {
           "aaxis": {
            "gridcolor": "white",
            "linecolor": "white",
            "ticks": ""
           },
           "baxis": {
            "gridcolor": "white",
            "linecolor": "white",
            "ticks": ""
           },
           "bgcolor": "#E5ECF6",
           "caxis": {
            "gridcolor": "white",
            "linecolor": "white",
            "ticks": ""
           }
          },
          "title": {
           "x": 0.05
          },
          "xaxis": {
           "automargin": true,
           "gridcolor": "white",
           "linecolor": "white",
           "ticks": "",
           "title": {
            "standoff": 15
           },
           "zerolinecolor": "white",
           "zerolinewidth": 2
          },
          "yaxis": {
           "automargin": true,
           "gridcolor": "white",
           "linecolor": "white",
           "ticks": "",
           "title": {
            "standoff": 15
           },
           "zerolinecolor": "white",
           "zerolinewidth": 2
          }
         }
        }
       }
      },
      "image/png": "[encoded data removed]",
      "image/svg+xml": [
       "<svg class=\"main-svg\" xmlns=\"http://www.w3.org/2000/svg\" xmlns:xlink=\"http://www.w3.org/1999/xlink\" width=\"700\" height=\"500\" style=\"\" viewBox=\"0 0 700 500\"><rect x=\"0\" y=\"0\" width=\"700\" height=\"500\" style=\"fill: rgb(255, 255, 255); fill-opacity: 1;\"/><defs id=\"defs-6014f1\"><g class=\"clips\"><clipPath id=\"clip6014f1xyplot\" class=\"plotclip\"><rect width=\"528\" height=\"390\"/></clipPath><clipPath class=\"axesclip\" id=\"clip6014f1x\"><rect x=\"50\" y=\"0\" width=\"528\" height=\"500\"/></clipPath><clipPath class=\"axesclip\" id=\"clip6014f1y\"><rect x=\"0\" y=\"60\" width=\"700\" height=\"390\"/></clipPath><clipPath class=\"axesclip\" id=\"clip6014f1xy\"><rect x=\"50\" y=\"60\" width=\"528\" height=\"390\"/></clipPath></g><g class=\"gradients\"/><g class=\"patterns\"/></defs><g class=\"bglayer\"><rect class=\"bg\" x=\"50\" y=\"60\" width=\"528\" height=\"390\" style=\"fill: rgb(229, 236, 246); fill-opacity: 1; stroke-width: 0;\"/></g><g class=\"layer-below\"><g class=\"imagelayer\"/><g class=\"shapelayer\"/></g><g class=\"cartesianlayer\"><g class=\"subplot xy\"><g class=\"layer-subplot\"><g class=\"shapelayer\"/><g class=\"imagelayer\"/></g><g class=\"gridlayer\"><g class=\"x\"><path class=\"xgrid crisp\" transform=\"translate(80.15,0)\" d=\"M0,60v390\" style=\"stroke: rgb(255, 255, 255); stroke-opacity: 1; stroke-width: 1px;\"/><path class=\"xgrid crisp\" transform=\"translate(197.08,0)\" d=\"M0,60v390\" style=\"stroke: rgb(255, 255, 255); stroke-opacity: 1; stroke-width: 1px;\"/><path class=\"xgrid crisp\" transform=\"translate(314,0)\" d=\"M0,60v390\" style=\"stroke: rgb(255, 255, 255); stroke-opacity: 1; stroke-width: 1px;\"/><path class=\"xgrid crisp\" transform=\"translate(430.93,0)\" d=\"M0,60v390\" style=\"stroke: rgb(255, 255, 255); stroke-opacity: 1; stroke-width: 1px;\"/><path class=\"xgrid crisp\" transform=\"translate(547.85,0)\" d=\"M0,60v390\" style=\"stroke: rgb(255, 255, 255); stroke-opacity: 1; stroke-width: 1px;\"/></g><g class=\"y\"><path class=\"ygrid crisp\" transform=\"translate(0,431.52)\" d=\"M50,0h528\" style=\"stroke: rgb(255, 255, 255); stroke-opacity: 1; stroke-width: 1px;\"/><path class=\"ygrid crisp\" transform=\"translate(0,371.89)\" d=\"M50,0h528\" style=\"stroke: rgb(255, 255, 255); stroke-opacity: 1; stroke-width: 1px;\"/><path class=\"ygrid crisp\" transform=\"translate(0,312.25)\" d=\"M50,0h528\" style=\"stroke: rgb(255, 255, 255); stroke-opacity: 1; stroke-width: 1px;\"/><path class=\"ygrid crisp\" transform=\"translate(0,252.61)\" d=\"M50,0h528\" style=\"stroke: rgb(255, 255, 255); stroke-opacity: 1; stroke-width: 1px;\"/><path class=\"ygrid crisp\" transform=\"translate(0,192.98)\" d=\"M50,0h528\" style=\"stroke: rgb(255, 255, 255); stroke-opacity: 1; stroke-width: 1px;\"/><path class=\"ygrid crisp\" transform=\"translate(0,133.34)\" d=\"M50,0h528\" style=\"stroke: rgb(255, 255, 255); stroke-opacity: 1; stroke-width: 1px;\"/><path class=\"ygrid crisp\" transform=\"translate(0,73.71000000000001)\" d=\"M50,0h528\" style=\"stroke: rgb(255, 255, 255); stroke-opacity: 1; stroke-width: 1px;\"/></g></g><g class=\"zerolinelayer\"/><path class=\"xlines-below\"/><path class=\"ylines-below\"/><g class=\"overlines-below\"/><g class=\"xaxislayer-below\"/><g class=\"yaxislayer-below\"/><g class=\"overaxes-below\"/><g class=\"plot\" transform=\"translate(50,60)\" clip-path=\"url(#clip6014f1xyplot)\"><g class=\"scatterlayer mlayer\"><g class=\"trace scatter trace982c5e\" style=\"stroke-miterlimit: 2; opacity: 1;\"><g class=\"fills\"/><g class=\"errorbars\"/><g class=\"lines\"><path class=\"js-line\" d=\"M30.15,138.94L147.08,173.53L264,93.62L380.93,142.52L497.85,156.83\" style=\"vector-effect: non-scaling-stroke; fill: none; stroke: rgb(99, 110, 250); stroke-opacity: 1; stroke-width: 2px; opacity: 1;\"/></g><g class=\"points\"><path class=\"point\" transform=\"translate(30.15,138.94)\" d=\"M3,0A3,3 0 1,1 0,-3A3,3 0 0,1 3,0Z\" style=\"opacity: 1; stroke-width: 0px; fill: rgb(99, 110, 250); fill-opacity: 1;\"/><path class=\"point\" transform=\"translate(147.08,173.53)\" d=\"M3,0A3,3 0 1,1 0,-3A3,3 0 0,1 3,0Z\" style=\"opacity: 1; stroke-width: 0px; fill: rgb(99, 110, 250); fill-opacity: 1;\"/><path class=\"point\" transform=\"translate(264,93.62)\" d=\"M3,0A3,3 0 1,1 0,-3A3,3 0 0,1 3,0Z\" style=\"opacity: 1; stroke-width: 0px; fill: rgb(99, 110, 250); fill-opacity: 1;\"/><path class=\"point\" transform=\"translate(380.93,142.52)\" d=\"M3,0A3,3 0 1,1 0,-3A3,3 0 0,1 3,0Z\" style=\"opacity: 1; stroke-width: 0px; fill: rgb(99, 110, 250); fill-opacity: 1;\"/><path class=\"point\" transform=\"translate(497.85,156.83)\" d=\"M3,0A3,3 0 1,1 0,-3A3,3 0 0,1 3,0Z\" style=\"opacity: 1; stroke-width: 0px; fill: rgb(99, 110, 250); fill-opacity: 1;\"/></g><g class=\"text\"/></g><g class=\"trace scatter trace2c65a8\" style=\"stroke-miterlimit: 2; opacity: 1;\"><g class=\"fills\"/><g class=\"errorbars\"/><g class=\"lines\"><path class=\"js-line\" d=\"M30.15,137.75L147.08,134.17L264,23.25L380.93,127.02L497.85,156.83\" style=\"vector-effect: non-scaling-stroke; fill: none; stroke: rgb(239, 85, 59); stroke-opacity: 1; stroke-width: 2px; opacity: 1;\"/></g><g class=\"points\"><path class=\"point\" transform=\"translate(30.15,137.75)\" d=\"M3,0A3,3 0 1,1 0,-3A3,3 0 0,1 3,0Z\" style=\"opacity: 1; stroke-width: 0px; fill: rgb(239, 85, 59); fill-opacity: 1;\"/><path class=\"point\" transform=\"translate(147.08,134.17)\" d=\"M3,0A3,3 0 1,1 0,-3A3,3 0 0,1 3,0Z\" style=\"opacity: 1; stroke-width: 0px; fill: rgb(239, 85, 59); fill-opacity: 1;\"/><path class=\"point\" transform=\"translate(264,23.25)\" d=\"M3,0A3,3 0 1,1 0,-3A3,3 0 0,1 3,0Z\" style=\"opacity: 1; stroke-width: 0px; fill: rgb(239, 85, 59); fill-opacity: 1;\"/><path class=\"point\" transform=\"translate(380.93,127.02)\" d=\"M3,0A3,3 0 1,1 0,-3A3,3 0 0,1 3,0Z\" style=\"opacity: 1; stroke-width: 0px; fill: rgb(239, 85, 59); fill-opacity: 1;\"/><path class=\"point\" transform=\"translate(497.85,156.83)\" d=\"M3,0A3,3 0 1,1 0,-3A3,3 0 0,1 3,0Z\" style=\"opacity: 1; stroke-width: 0px; fill: rgb(239, 85, 59); fill-opacity: 1;\"/></g><g class=\"text\"/></g><g class=\"trace scatter tracea1e8f5\" style=\"stroke-miterlimit: 2; opacity: 1;\"><g class=\"fills\"/><g class=\"errorbars\"/><g class=\"lines\"><path class=\"js-line\" d=\"M30.15,125.82L147.08,153.26L264,105.55L380.93,366.75L497.85,167.57\" style=\"vector-effect: non-scaling-stroke; fill: none; stroke: rgb(0, 204, 150); stroke-opacity: 1; stroke-width: 2px; opacity: 1;\"/></g><g class=\"points\"><path class=\"point\" transform=\"translate(30.15,125.82)\" d=\"M3,0A3,3 0 1,1 0,-3A3,3 0 0,1 3,0Z\" style=\"opacity: 1; stroke-width: 0px; fill: rgb(0, 204, 150); fill-opacity: 1;\"/><path class=\"point\" transform=\"translate(147.08,153.26)\" d=\"M3,0A3,3 0 1,1 0,-3A3,3 0 0,1 3,0Z\" style=\"opacity: 1; stroke-width: 0px; fill: rgb(0, 204, 150); fill-opacity: 1;\"/><path class=\"point\" transform=\"translate(264,105.55)\" d=\"M3,0A3,3 0 1,1 0,-3A3,3 0 0,1 3,0Z\" style=\"opacity: 1; stroke-width: 0px; fill: rgb(0, 204, 150); fill-opacity: 1;\"/><path class=\"point\" transform=\"translate(380.93,366.75)\" d=\"M3,0A3,3 0 1,1 0,-3A3,3 0 0,1 3,0Z\" style=\"opacity: 1; stroke-width: 0px; fill: rgb(0, 204, 150); fill-opacity: 1;\"/><path class=\"point\" transform=\"translate(497.85,167.57)\" d=\"M3,0A3,3 0 1,1 0,-3A3,3 0 0,1 3,0Z\" style=\"opacity: 1; stroke-width: 0px; fill: rgb(0, 204, 150); fill-opacity: 1;\"/></g><g class=\"text\"/></g><g class=\"trace scatter trace9aa575\" style=\"stroke-miterlimit: 2; opacity: 1;\"><g class=\"fills\"/><g class=\"errorbars\"/><g class=\"lines\"><path class=\"js-line\" d=\"M30.15,209.31L147.08,247.48L264,172.34L380.93,292.8L497.85,192.61\" style=\"vector-effect: non-scaling-stroke; fill: none; stroke: rgb(171, 99, 250); stroke-opacity: 1; stroke-width: 2px; opacity: 1;\"/></g><g class=\"points\"><path class=\"point\" transform=\"translate(30.15,209.31)\" d=\"M3,0A3,3 0 1,1 0,-3A3,3 0 0,1 3,0Z\" style=\"opacity: 1; stroke-width: 0px; fill: rgb(171, 99, 250); fill-opacity: 1;\"/><path class=\"point\" transform=\"translate(147.08,247.48)\" d=\"M3,0A3,3 0 1,1 0,-3A3,3 0 0,1 3,0Z\" style=\"opacity: 1; stroke-width: 0px; fill: rgb(171, 99, 250); fill-opacity: 1;\"/><path class=\"point\" transform=\"translate(264,172.34)\" d=\"M3,0A3,3 0 1,1 0,-3A3,3 0 0,1 3,0Z\" style=\"opacity: 1; stroke-width: 0px; fill: rgb(171, 99, 250); fill-opacity: 1;\"/><path class=\"point\" transform=\"translate(380.93,292.8)\" d=\"M3,0A3,3 0 1,1 0,-3A3,3 0 0,1 3,0Z\" style=\"opacity: 1; stroke-width: 0px; fill: rgb(171, 99, 250); fill-opacity: 1;\"/><path class=\"point\" transform=\"translate(497.85,192.61)\" d=\"M3,0A3,3 0 1,1 0,-3A3,3 0 0,1 3,0Z\" style=\"opacity: 1; stroke-width: 0px; fill: rgb(171, 99, 250); fill-opacity: 1;\"/></g><g class=\"text\"/></g><g class=\"trace scatter traceebe5a6\" style=\"stroke-miterlimit: 2; opacity: 1;\"><g class=\"fills\"/><g class=\"errorbars\"/><g class=\"lines\"><path class=\"js-line\" d=\"M30.15,152.96L147.08,177.11L264,98.69L380.93,232.27L497.85,168.46\" style=\"vector-effect: non-scaling-stroke; fill: none; stroke: rgb(255, 161, 90); stroke-opacity: 1; stroke-width: 2px; opacity: 1;\"/></g><g class=\"points\"><path class=\"point\" transform=\"translate(30.15,152.96)\" d=\"M3,0A3,3 0 1,1 0,-3A3,3 0 0,1 3,0Z\" style=\"opacity: 1; stroke-width: 0px; fill: rgb(255, 161, 90); fill-opacity: 1;\"/><path class=\"point\" transform=\"translate(147.08,177.11)\" d=\"M3,0A3,3 0 1,1 0,-3A3,3 0 0,1 3,0Z\" style=\"opacity: 1; stroke-width: 0px; fill: rgb(255, 161, 90); fill-opacity: 1;\"/><path class=\"point\" transform=\"translate(264,98.69)\" d=\"M3,0A3,3 0 1,1 0,-3A3,3 0 0,1 3,0Z\" style=\"opacity: 1; stroke-width: 0px; fill: rgb(255, 161, 90); fill-opacity: 1;\"/><path class=\"point\" transform=\"translate(380.93,232.27)\" d=\"M3,0A3,3 0 1,1 0,-3A3,3 0 0,1 3,0Z\" style=\"opacity: 1; stroke-width: 0px; fill: rgb(255, 161, 90); fill-opacity: 1;\"/><path class=\"point\" transform=\"translate(497.85,168.46)\" d=\"M3,0A3,3 0 1,1 0,-3A3,3 0 0,1 3,0Z\" style=\"opacity: 1; stroke-width: 0px; fill: rgb(255, 161, 90); fill-opacity: 1;\"/></g><g class=\"text\"/></g></g></g><g class=\"overplot\"/><path class=\"xlines-above crisp\" d=\"M0,0\" style=\"fill: none;\"/><path class=\"ylines-above crisp\" d=\"M0,0\" style=\"fill: none;\"/><g class=\"overlines-above\"/><g class=\"xaxislayer-above\"><g class=\"xtick\"><text text-anchor=\"middle\" x=\"0\" y=\"463\" transform=\"translate(80.15,0)\" style=\"font-family: 'Open Sans', verdana, arial, sans-serif; font-size: 12px; fill: rgb(42, 63, 95); fill-opacity: 1; white-space: pre; opacity: 1;\">J-2</text></g><g class=\"xtick\"><text text-anchor=\"middle\" x=\"0\" y=\"463\" transform=\"translate(197.08,0)\" style=\"font-family: 'Open Sans', verdana, arial, sans-serif; font-size: 12px; fill: rgb(42, 63, 95); fill-opacity: 1; white-space: pre; opacity: 1;\">J+1</text></g><g class=\"xtick\"><text text-anchor=\"middle\" x=\"0\" y=\"463\" transform=\"translate(314,0)\" style=\"font-family: 'Open Sans', verdana, arial, sans-serif; font-size: 12px; fill: rgb(42, 63, 95); fill-opacity: 1; white-space: pre; opacity: 1;\">J+3</text></g><g class=\"xtick\"><text text-anchor=\"middle\" x=\"0\" y=\"463\" transform=\"translate(430.93,0)\" style=\"font-family: 'Open Sans', verdana, arial, sans-serif; font-size: 12px; fill: rgb(42, 63, 95); fill-opacity: 1; white-space: pre; opacity: 1;\">J+6</text></g><g class=\"xtick\"><text text-anchor=\"middle\" x=\"0\" y=\"463\" transform=\"translate(547.85,0)\" style=\"font-family: 'Open Sans', verdana, arial, sans-serif; font-size: 12px; fill: rgb(42, 63, 95); fill-opacity: 1; white-space: pre; opacity: 1;\">J+11</text></g></g><g class=\"yaxislayer-above\"><g class=\"ytick\"><text text-anchor=\"end\" x=\"49\" y=\"4.199999999999999\" transform=\"translate(0,431.52)\" style=\"font-family: 'Open Sans', verdana, arial, sans-serif; font-size: 12px; fill: rgb(42, 63, 95); fill-opacity: 1; white-space: pre; opacity: 1;\">45</text></g><g class=\"ytick\"><text text-anchor=\"end\" x=\"49\" y=\"4.199999999999999\" style=\"font-family: 'Open Sans', verdana, arial, sans-serif; font-size: 12px; fill: rgb(42, 63, 95); fill-opacity: 1; white-space: pre; opacity: 1;\" transform=\"translate(0,371.89)\">50</text></g><g class=\"ytick\"><text text-anchor=\"end\" x=\"49\" y=\"4.199999999999999\" style=\"font-family: 'Open Sans', verdana, arial, sans-serif; font-size: 12px; fill: rgb(42, 63, 95); fill-opacity: 1; white-space: pre; opacity: 1;\" transform=\"translate(0,312.25)\">55</text></g><g class=\"ytick\"><text text-anchor=\"end\" x=\"49\" y=\"4.199999999999999\" style=\"font-family: 'Open Sans', verdana, arial, sans-serif; font-size: 12px; fill: rgb(42, 63, 95); fill-opacity: 1; white-space: pre; opacity: 1;\" transform=\"translate(0,252.61)\">60</text></g><g class=\"ytick\"><text text-anchor=\"end\" x=\"49\" y=\"4.199999999999999\" style=\"font-family: 'Open Sans', verdana, arial, sans-serif; font-size: 12px; fill: rgb(42, 63, 95); fill-opacity: 1; white-space: pre; opacity: 1;\" transform=\"translate(0,192.98)\">65</text></g><g class=\"ytick\"><text text-anchor=\"end\" x=\"49\" y=\"4.199999999999999\" style=\"font-family: 'Open Sans', verdana, arial, sans-serif; font-size: 12px; fill: rgb(42, 63, 95); fill-opacity: 1; white-space: pre; opacity: 1;\" transform=\"translate(0,133.34)\">70</text></g><g class=\"ytick\"><text text-anchor=\"end\" x=\"49\" y=\"4.199999999999999\" style=\"font-family: 'Open Sans', verdana, arial, sans-serif; font-size: 12px; fill: rgb(42, 63, 95); fill-opacity: 1; white-space: pre; opacity: 1;\" transform=\"translate(0,73.71000000000001)\">75</text></g></g><g class=\"overaxes-above\"/></g></g><g class=\"polarlayer\"/><g class=\"ternarylayer\"/><g class=\"geolayer\"/><g class=\"funnelarealayer\"/><g class=\"pielayer\"/><g class=\"iciclelayer\"/><g class=\"treemaplayer\"/><g class=\"sunburstlayer\"/><g class=\"glimages\"/><defs id=\"topdefs-6014f1\"><g class=\"clips\"/><clipPath id=\"legend6014f1\"><rect width=\"99\" height=\"105\" x=\"0\" y=\"0\"/></clipPath></defs><g class=\"layer-above\"><g class=\"imagelayer\"/><g class=\"shapelayer\"/></g><g class=\"infolayer\"><g class=\"legend\" pointer-events=\"all\" transform=\"translate(588.5600000000001,60)\"><rect class=\"bg\" shape-rendering=\"crispEdges\" style=\"stroke: rgb(68, 68, 68); stroke-opacity: 1; fill: rgb(255, 255, 255); fill-opacity: 1; stroke-width: 0px;\" width=\"99\" height=\"105\" x=\"0\" y=\"0\"/><g class=\"scrollbox\" transform=\"\" clip-path=\"url(#legend6014f1)\"><g class=\"groups\"><g class=\"traces\" transform=\"translate(0,14.5)\" style=\"opacity: 1;\"><text class=\"legendtext\" text-anchor=\"start\" x=\"40\" y=\"4.680000000000001\" style=\"font-family: 'Open Sans', verdana, arial, sans-serif; font-size: 12px; fill: rgb(42, 63, 95); fill-opacity: 1; white-space: pre;\">100km</text><g class=\"layers\" style=\"opacity: 1;\"><g class=\"legendfill\"/><g class=\"legendlines\"><path class=\"js-line\" d=\"M5,0h30\" style=\"fill: none; stroke: rgb(99, 110, 250); stroke-opacity: 1; stroke-width: 2px;\"/></g><g class=\"legendsymbols\"><g class=\"legendpoints\"><path class=\"scatterpts\" transform=\"translate(20,0)\" d=\"M3,0A3,3 0 1,1 0,-3A3,3 0 0,1 3,0Z\" style=\"opacity: 1; stroke-width: 0px; fill: rgb(99, 110, 250); fill-opacity: 1;\"/></g></g></g><rect class=\"legendtoggle\" x=\"0\" y=\"-9.5\" width=\"93.796875\" height=\"19\" style=\"fill: rgb(0, 0, 0); fill-opacity: 0;\"/></g><g class=\"traces\" transform=\"translate(0,33.5)\" style=\"opacity: 1;\"><text class=\"legendtext\" text-anchor=\"start\" x=\"40\" y=\"4.680000000000001\" style=\"font-family: 'Open Sans', verdana, arial, sans-serif; font-size: 12px; fill: rgb(42, 63, 95); fill-opacity: 1; white-space: pre;\">4x40km</text><g class=\"layers\" style=\"opacity: 1;\"><g class=\"legendfill\"/><g class=\"legendlines\"><path class=\"js-line\" d=\"M5,0h30\" style=\"fill: none; stroke: rgb(239, 85, 59); stroke-opacity: 1; stroke-width: 2px;\"/></g><g class=\"legendsymbols\"><g class=\"legendpoints\"><path class=\"scatterpts\" transform=\"translate(20,0)\" d=\"M3,0A3,3 0 1,1 0,-3A3,3 0 0,1 3,0Z\" style=\"opacity: 1; stroke-width: 0px; fill: rgb(239, 85, 59); fill-opacity: 1;\"/></g></g></g><rect class=\"legendtoggle\" x=\"0\" y=\"-9.5\" width=\"93.796875\" height=\"19\" style=\"fill: rgb(0, 0, 0); fill-opacity: 0;\"/></g><g class=\"traces\" transform=\"translate(0,52.5)\" style=\"opacity: 1;\"><text class=\"legendtext\" text-anchor=\"start\" x=\"40\" y=\"4.680000000000001\" style=\"font-family: 'Open Sans', verdana, arial, sans-serif; font-size: 12px; fill: rgb(42, 63, 95); fill-opacity: 1; white-space: pre;\">160km</text><g class=\"layers\" style=\"opacity: 1;\"><g class=\"legendfill\"/><g class=\"legendlines\"><path class=\"js-line\" d=\"M5,0h30\" style=\"fill: none; stroke: rgb(0, 204, 150); stroke-opacity: 1; stroke-width: 2px;\"/></g><g class=\"legendsymbols\"><g class=\"legendpoints\"><path class=\"scatterpts\" transform=\"translate(20,0)\" d=\"M3,0A3,3 0 1,1 0,-3A3,3 0 0,1 3,0Z\" style=\"opacity: 1; stroke-width: 0px; fill: rgb(0, 204, 150); fill-opacity: 1;\"/></g></g></g><rect class=\"legendtoggle\" x=\"0\" y=\"-9.5\" width=\"93.796875\" height=\"19\" style=\"fill: rgb(0, 0, 0); fill-opacity: 0;\"/></g><g class=\"traces\" transform=\"translate(0,71.5)\" style=\"opacity: 1;\"><text class=\"legendtext\" text-anchor=\"start\" x=\"40\" y=\"4.680000000000001\" style=\"font-family: 'Open Sans', verdana, arial, sans-serif; font-size: 12px; fill: rgb(42, 63, 95); fill-opacity: 1; white-space: pre;\">40km</text><g class=\"layers\" style=\"opacity: 1;\"><g class=\"legendfill\"/><g class=\"legendlines\"><path class=\"js-line\" d=\"M5,0h30\" style=\"fill: none; stroke: rgb(171, 99, 250); stroke-opacity: 1; stroke-width: 2px;\"/></g><g class=\"legendsymbols\"><g class=\"legendpoints\"><path class=\"scatterpts\" transform=\"translate(20,0)\" d=\"M3,0A3,3 0 1,1 0,-3A3,3 0 0,1 3,0Z\" style=\"opacity: 1; stroke-width: 0px; fill: rgb(171, 99, 250); fill-opacity: 1;\"/></g></g></g><rect class=\"legendtoggle\" x=\"0\" y=\"-9.5\" width=\"93.796875\" height=\"19\" style=\"fill: rgb(0, 0, 0); fill-opacity: 0;\"/></g><g class=\"traces\" transform=\"translate(0,90.5)\" style=\"opacity: 1;\"><text class=\"legendtext\" text-anchor=\"start\" x=\"40\" y=\"4.680000000000001\" style=\"font-family: 'Open Sans', verdana, arial, sans-serif; font-size: 12px; fill: rgb(42, 63, 95); fill-opacity: 1; white-space: pre;\">Moyenne</text><g class=\"layers\" style=\"opacity: 1;\"><g class=\"legendfill\"/><g class=\"legendlines\"><path class=\"js-line\" d=\"M5,0h30\" style=\"fill: none; stroke: rgb(255, 161, 90); stroke-opacity: 1; stroke-width: 2px;\"/></g><g class=\"legendsymbols\"><g class=\"legendpoints\"><path class=\"scatterpts\" transform=\"translate(20,0)\" d=\"M3,0A3,3 0 1,1 0,-3A3,3 0 0,1 3,0Z\" style=\"opacity: 1; stroke-width: 0px; fill: rgb(255, 161, 90); fill-opacity: 1;\"/></g></g></g><rect class=\"legendtoggle\" x=\"0\" y=\"-9.5\" width=\"93.796875\" height=\"19\" style=\"fill: rgb(0, 0, 0); fill-opacity: 0;\"/></g></g></g><rect class=\"scrollbar\" rx=\"20\" ry=\"3\" width=\"0\" height=\"0\" style=\"fill: rgb(128, 139, 164); fill-opacity: 1;\" x=\"0\" y=\"0\"/></g><g class=\"g-gtitle\"/><g class=\"g-xtitle\"/><g class=\"g-ytitle\"/></g></svg>"
      ],
      "text/html": [
       "<div\n",
       "    class=\"webio-mountpoint\"\n",
       "    data-webio-mountpoint=\"6103630818360846136\"\n",
       ">\n",
       "    <script>\n",
       "    (function(){\n",
       "    // Some integrations (namely, IJulia/Jupyter) use an alternate render pathway than\n",
       "    // just putting the html on the page. If WebIO isn't defined, then it's pretty likely\n",
       "    // that we're in one of those situations and the integration just isn't installed\n",
       "    // correctly.\n",
       "    if (typeof window.WebIO === \"undefined\") {\n",
       "        document\n",
       "            .querySelector('[data-webio-mountpoint=\"6103630818360846136\"]')\n",
       "            .innerHTML = (\n",
       "                '<div style=\"padding: 1em; background-color: #f8d6da; border: 1px solid #f5c6cb; font-weight: bold;\">' +\n",
       "                '<p><strong>WebIO not detected.</strong></p>' +\n",
       "                '<p>Please read ' +\n",
       "                '<a href=\"https://juliagizmos.github.io/WebIO.jl/latest/troubleshooting/not-detected/\" target=\"_blank\">the troubleshooting guide</a> ' +\n",
       "                'for more information on how to resolve this issue.</p>' +\n",
       "                '<p><a href=\"https://juliagizmos.github.io/WebIO.jl/latest/troubleshooting/not-detected/\" target=\"_blank\">https://juliagizmos.github.io/WebIO.jl/latest/troubleshooting/not-detected/</a></p>' +\n",
       "                '</div>'\n",
       "            );\n",
       "        return;\n",
       "    }\n",
       "    WebIO.mount(\n",
       "        document.querySelector('[data-webio-mountpoint=\"6103630818360846136\"]'),\n",
       "        {\"props\":{},\"nodeType\":\"Scope\",\"type\":\"node\",\"instanceArgs\":{\"imports\":{\"data\":[{\"name\":\"Plotly\",\"type\":\"js\",\"url\":\"\\/assetserver\\/6577fbd4013cdf60bf2212b70435aef0137915af-plotly.min.js\"},{\"name\":null,\"type\":\"js\",\"url\":\"\\/assetserver\\/d4c803def4a4c440664b36a26d4e9246efb47687-plotly_webio.bundle.js\"}],\"type\":\"async_block\"},\"id\":\"7155733106874721439\",\"handlers\":{\"_toImage\":[\"(function (options){return this.Plotly.toImage(this.plotElem,options).then((function (data){return WebIO.setval({\\\"name\\\":\\\"image\\\",\\\"scope\\\":\\\"7155733106874721439\\\",\\\"id\\\":\\\"5\\\",\\\"type\\\":\\\"observable\\\"},data)}))})\"],\"__get_gd_contents\":[\"(function (prop){prop==\\\"data\\\" ? (WebIO.setval({\\\"name\\\":\\\"__gd_contents\\\",\\\"scope\\\":\\\"7155733106874721439\\\",\\\"id\\\":\\\"6\\\",\\\"type\\\":\\\"observable\\\"},this.plotElem.data)) : undefined; return prop==\\\"layout\\\" ? (WebIO.setval({\\\"name\\\":\\\"__gd_contents\\\",\\\"scope\\\":\\\"7155733106874721439\\\",\\\"id\\\":\\\"6\\\",\\\"type\\\":\\\"observable\\\"},this.plotElem.layout)) : undefined})\"],\"_downloadImage\":[\"(function (options){return this.Plotly.downloadImage(this.plotElem,options)})\"],\"_commands\":[\"(function (args){var fn=args.shift(); var elem=this.plotElem; var Plotly=this.Plotly; args.unshift(elem); return Plotly[fn].apply(this,args)})\"]},\"systemjs_options\":null,\"mount_callbacks\":[\"function () {\\n    var handler = ((function (Plotly,PlotlyWebIO){PlotlyWebIO.init(WebIO); var gd=this.dom.querySelector(\\\"#plot-1cd840bc-f1ad-45bb-a9ed-ce31fbbdc630\\\"); this.plotElem=gd; this.Plotly=Plotly; (window.Blink!==undefined) ? (gd.style.width=\\\"100%\\\", gd.style.height=\\\"100vh\\\", gd.style.marginLeft=\\\"0%\\\", gd.style.marginTop=\\\"0vh\\\") : undefined; window.onresize=(function (){return Plotly.Plots.resize(gd)}); Plotly.newPlot(gd,[{\\\"mode\\\":\\\"lines+markers\\\",\\\"y\\\":[64.5,61.6,68.3,64.2,63.0],\\\"type\\\":\\\"scatter\\\",\\\"name\\\":\\\"100km\\\",\\\"x\\\":[\\\"J-2\\\",\\\"J+1\\\",\\\"J+3\\\",\\\"J+6\\\",\\\"J+11\\\"]},{\\\"mode\\\":\\\"lines+markers\\\",\\\"y\\\":[64.6,64.9,74.2,65.5,63.0],\\\"type\\\":\\\"scatter\\\",\\\"name\\\":\\\"4x40km\\\",\\\"x\\\":[\\\"J-2\\\",\\\"J+1\\\",\\\"J+3\\\",\\\"J+6\\\",\\\"J+11\\\"]},{\\\"mode\\\":\\\"lines+markers\\\",\\\"y\\\":[65.6,63.3,67.3,45.4,62.1],\\\"type\\\":\\\"scatter\\\",\\\"name\\\":\\\"160km\\\",\\\"x\\\":[\\\"J-2\\\",\\\"J+1\\\",\\\"J+3\\\",\\\"J+6\\\",\\\"J+11\\\"]},{\\\"mode\\\":\\\"lines+markers\\\",\\\"y\\\":[58.6,55.4,61.7,51.6,60.0],\\\"type\\\":\\\"scatter\\\",\\\"name\\\":\\\"40km\\\",\\\"x\\\":[\\\"J-2\\\",\\\"J+1\\\",\\\"J+3\\\",\\\"J+6\\\",\\\"J+11\\\"]},{\\\"mode\\\":\\\"lines+markers\\\",\\\"y\\\":[63.324999999999996,61.3,67.875,56.675,62.025],\\\"type\\\":\\\"scatter\\\",\\\"name\\\":\\\"Moyenne\\\",\\\"x\\\":[\\\"J-2\\\",\\\"J+1\\\",\\\"J+3\\\",\\\"J+6\\\",\\\"J+11\\\"]}],{\\\"template\\\":{\\\"layout\\\":{\\\"coloraxis\\\":{\\\"colorbar\\\":{\\\"ticks\\\":\\\"\\\",\\\"outlinewidth\\\":0}},\\\"xaxis\\\":{\\\"gridcolor\\\":\\\"white\\\",\\\"zerolinewidth\\\":2,\\\"title\\\":{\\\"standoff\\\":15},\\\"ticks\\\":\\\"\\\",\\\"zerolinecolor\\\":\\\"white\\\",\\\"automargin\\\":true,\\\"linecolor\\\":\\\"white\\\"},\\\"hovermode\\\":\\\"closest\\\",\\\"paper_bgcolor\\\":\\\"white\\\",\\\"geo\\\":{\\\"showlakes\\\":true,\\\"showland\\\":true,\\\"landcolor\\\":\\\"#E5ECF6\\\",\\\"bgcolor\\\":\\\"white\\\",\\\"subunitcolor\\\":\\\"white\\\",\\\"lakecolor\\\":\\\"white\\\"},\\\"colorscale\\\":{\\\"sequential\\\":[[0.0,\\\"#0d0887\\\"],[0.1111111111111111,\\\"#46039f\\\"],[0.2222222222222222,\\\"#7201a8\\\"],[0.3333333333333333,\\\"#9c179e\\\"],[0.4444444444444444,\\\"#bd3786\\\"],[0.5555555555555556,\\\"#d8576b\\\"],[0.6666666666666666,\\\"#ed7953\\\"],[0.7777777777777778,\\\"#fb9f3a\\\"],[0.8888888888888888,\\\"#fdca26\\\"],[1.0,\\\"#f0f921\\\"]],\\\"diverging\\\":[[0,\\\"#8e0152\\\"],[0.1,\\\"#c51b7d\\\"],[0.2,\\\"#de77ae\\\"],[0.3,\\\"#f1b6da\\\"],[0.4,\\\"#fde0ef\\\"],[0.5,\\\"#f7f7f7\\\"],[0.6,\\\"#e6f5d0\\\"],[0.7,\\\"#b8e186\\\"],[0.8,\\\"#7fbc41\\\"],[0.9,\\\"#4d9221\\\"],[1,\\\"#276419\\\"]],\\\"sequentialminus\\\":[[0.0,\\\"#0d0887\\\"],[0.1111111111111111,\\\"#46039f\\\"],[0.2222222222222222,\\\"#7201a8\\\"],[0.3333333333333333,\\\"#9c179e\\\"],[0.4444444444444444,\\\"#bd3786\\\"],[0.5555555555555556,\\\"#d8576b\\\"],[0.6666666666666666,\\\"#ed7953\\\"],[0.7777777777777778,\\\"#fb9f3a\\\"],[0.8888888888888888,\\\"#fdca26\\\"],[1.0,\\\"#f0f921\\\"]]},\\\"yaxis\\\":{\\\"gridcolor\\\":\\\"white\\\",\\\"zerolinewidth\\\":2,\\\"title\\\":{\\\"standoff\\\":15},\\\"ticks\\\":\\\"\\\",\\\"zerolinecolor\\\":\\\"white\\\",\\\"automargin\\\":true,\\\"linecolor\\\":\\\"white\\\"},\\\"shapedefaults\\\":{\\\"line\\\":{\\\"color\\\":\\\"#2a3f5f\\\"}},\\\"hoverlabel\\\":{\\\"align\\\":\\\"left\\\"},\\\"mapbox\\\":{\\\"style\\\":\\\"light\\\"},\\\"polar\\\":{\\\"angularaxis\\\":{\\\"gridcolor\\\":\\\"white\\\",\\\"ticks\\\":\\\"\\\",\\\"linecolor\\\":\\\"white\\\"},\\\"bgcolor\\\":\\\"#E5ECF6\\\",\\\"radialaxis\\\":{\\\"gridcolor\\\":\\\"white\\\",\\\"ticks\\\":\\\"\\\",\\\"linecolor\\\":\\\"white\\\"}},\\\"autotypenumbers\\\":\\\"strict\\\",\\\"font\\\":{\\\"color\\\":\\\"#2a3f5f\\\"},\\\"ternary\\\":{\\\"baxis\\\":{\\\"gridcolor\\\":\\\"white\\\",\\\"ticks\\\":\\\"\\\",\\\"linecolor\\\":\\\"white\\\"},\\\"bgcolor\\\":\\\"#E5ECF6\\\",\\\"caxis\\\":{\\\"gridcolor\\\":\\\"white\\\",\\\"ticks\\\":\\\"\\\",\\\"linecolor\\\":\\\"white\\\"},\\\"aaxis\\\":{\\\"gridcolor\\\":\\\"white\\\",\\\"ticks\\\":\\\"\\\",\\\"linecolor\\\":\\\"white\\\"}},\\\"annotationdefaults\\\":{\\\"arrowhead\\\":0,\\\"arrowwidth\\\":1,\\\"arrowcolor\\\":\\\"#2a3f5f\\\"},\\\"plot_bgcolor\\\":\\\"#E5ECF6\\\",\\\"title\\\":{\\\"x\\\":0.05},\\\"scene\\\":{\\\"xaxis\\\":{\\\"gridcolor\\\":\\\"white\\\",\\\"gridwidth\\\":2,\\\"backgroundcolor\\\":\\\"#E5ECF6\\\",\\\"ticks\\\":\\\"\\\",\\\"showbackground\\\":true,\\\"zerolinecolor\\\":\\\"white\\\",\\\"linecolor\\\":\\\"white\\\"},\\\"zaxis\\\":{\\\"gridcolor\\\":\\\"white\\\",\\\"gridwidth\\\":2,\\\"backgroundcolor\\\":\\\"#E5ECF6\\\",\\\"ticks\\\":\\\"\\\",\\\"showbackground\\\":true,\\\"zerolinecolor\\\":\\\"white\\\",\\\"linecolor\\\":\\\"white\\\"},\\\"yaxis\\\":{\\\"gridcolor\\\":\\\"white\\\",\\\"gridwidth\\\":2,\\\"backgroundcolor\\\":\\\"#E5ECF6\\\",\\\"ticks\\\":\\\"\\\",\\\"showbackground\\\":true,\\\"zerolinecolor\\\":\\\"white\\\",\\\"linecolor\\\":\\\"white\\\"}},\\\"colorway\\\":[\\\"#636efa\\\",\\\"#EF553B\\\",\\\"#00cc96\\\",\\\"#ab63fa\\\",\\\"#FFA15A\\\",\\\"#19d3f3\\\",\\\"#FF6692\\\",\\\"#B6E880\\\",\\\"#FF97FF\\\",\\\"#FECB52\\\"]},\\\"data\\\":{\\\"barpolar\\\":[{\\\"type\\\":\\\"barpolar\\\",\\\"marker\\\":{\\\"line\\\":{\\\"color\\\":\\\"#E5ECF6\\\",\\\"width\\\":0.5}}}],\\\"carpet\\\":[{\\\"aaxis\\\":{\\\"gridcolor\\\":\\\"white\\\",\\\"endlinecolor\\\":\\\"#2a3f5f\\\",\\\"minorgridcolor\\\":\\\"white\\\",\\\"startlinecolor\\\":\\\"#2a3f5f\\\",\\\"linecolor\\\":\\\"white\\\"},\\\"type\\\":\\\"carpet\\\",\\\"baxis\\\":{\\\"gridcolor\\\":\\\"white\\\",\\\"endlinecolor\\\":\\\"#2a3f5f\\\",\\\"minorgridcolor\\\":\\\"white\\\",\\\"startlinecolor\\\":\\\"#2a3f5f\\\",\\\"linecolor\\\":\\\"white\\\"}}],\\\"scatterpolar\\\":[{\\\"type\\\":\\\"scatterpolar\\\",\\\"marker\\\":{\\\"colorbar\\\":{\\\"ticks\\\":\\\"\\\",\\\"outlinewidth\\\":0}}}],\\\"parcoords\\\":[{\\\"line\\\":{\\\"colorbar\\\":{\\\"ticks\\\":\\\"\\\",\\\"outlinewidth\\\":0}},\\\"type\\\":\\\"parcoords\\\"}],\\\"scatter\\\":[{\\\"type\\\":\\\"scatter\\\",\\\"marker\\\":{\\\"colorbar\\\":{\\\"ticks\\\":\\\"\\\",\\\"outlinewidth\\\":0}}}],\\\"histogram2dcontour\\\":[{\\\"colorbar\\\":{\\\"ticks\\\":\\\"\\\",\\\"outlinewidth\\\":0},\\\"type\\\":\\\"histogram2dcontour\\\",\\\"colorscale\\\":[[0.0,\\\"#0d0887\\\"],[0.1111111111111111,\\\"#46039f\\\"],[0.2222222222222222,\\\"#7201a8\\\"],[0.3333333333333333,\\\"#9c179e\\\"],[0.4444444444444444,\\\"#bd3786\\\"],[0.5555555555555556,\\\"#d8576b\\\"],[0.6666666666666666,\\\"#ed7953\\\"],[0.7777777777777778,\\\"#fb9f3a\\\"],[0.8888888888888888,\\\"#fdca26\\\"],[1.0,\\\"#f0f921\\\"]]}],\\\"contour\\\":[{\\\"colorbar\\\":{\\\"ticks\\\":\\\"\\\",\\\"outlinewidth\\\":0},\\\"type\\\":\\\"contour\\\",\\\"colorscale\\\":[[0.0,\\\"#0d0887\\\"],[0.1111111111111111,\\\"#46039f\\\"],[0.2222222222222222,\\\"#7201a8\\\"],[0.3333333333333333,\\\"#9c179e\\\"],[0.4444444444444444,\\\"#bd3786\\\"],[0.5555555555555556,\\\"#d8576b\\\"],[0.6666666666666666,\\\"#ed7953\\\"],[0.7777777777777778,\\\"#fb9f3a\\\"],[0.8888888888888888,\\\"#fdca26\\\"],[1.0,\\\"#f0f921\\\"]]}],\\\"scattercarpet\\\":[{\\\"type\\\":\\\"scattercarpet\\\",\\\"marker\\\":{\\\"colorbar\\\":{\\\"ticks\\\":\\\"\\\",\\\"outlinewidth\\\":0}}}],\\\"mesh3d\\\":[{\\\"colorbar\\\":{\\\"ticks\\\":\\\"\\\",\\\"outlinewidth\\\":0},\\\"type\\\":\\\"mesh3d\\\"}],\\\"surface\\\":[{\\\"colorbar\\\":{\\\"ticks\\\":\\\"\\\",\\\"outlinewidth\\\":0},\\\"type\\\":\\\"surface\\\",\\\"colorscale\\\":[[0.0,\\\"#0d0887\\\"],[0.1111111111111111,\\\"#46039f\\\"],[0.2222222222222222,\\\"#7201a8\\\"],[0.3333333333333333,\\\"#9c179e\\\"],[0.4444444444444444,\\\"#bd3786\\\"],[0.5555555555555556,\\\"#d8576b\\\"],[0.6666666666666666,\\\"#ed7953\\\"],[0.7777777777777778,\\\"#fb9f3a\\\"],[0.8888888888888888,\\\"#fdca26\\\"],[1.0,\\\"#f0f921\\\"]]}],\\\"scattermapbox\\\":[{\\\"type\\\":\\\"scattermapbox\\\",\\\"marker\\\":{\\\"colorbar\\\":{\\\"ticks\\\":\\\"\\\",\\\"outlinewidth\\\":0}}}],\\\"scattergeo\\\":[{\\\"type\\\":\\\"scattergeo\\\",\\\"marker\\\":{\\\"colorbar\\\":{\\\"ticks\\\":\\\"\\\",\\\"outlinewidth\\\":0}}}],\\\"histogram\\\":[{\\\"type\\\":\\\"histogram\\\",\\\"marker\\\":{\\\"colorbar\\\":{\\\"ticks\\\":\\\"\\\",\\\"outlinewidth\\\":0}}}],\\\"pie\\\":[{\\\"type\\\":\\\"pie\\\",\\\"automargin\\\":true}],\\\"choropleth\\\":[{\\\"colorbar\\\":{\\\"ticks\\\":\\\"\\\",\\\"outlinewidth\\\":0},\\\"type\\\":\\\"choropleth\\\"}],\\\"heatmapgl\\\":[{\\\"colorbar\\\":{\\\"ticks\\\":\\\"\\\",\\\"outlinewidth\\\":0},\\\"type\\\":\\\"heatmapgl\\\",\\\"colorscale\\\":[[0.0,\\\"#0d0887\\\"],[0.1111111111111111,\\\"#46039f\\\"],[0.2222222222222222,\\\"#7201a8\\\"],[0.3333333333333333,\\\"#9c179e\\\"],[0.4444444444444444,\\\"#bd3786\\\"],[0.5555555555555556,\\\"#d8576b\\\"],[0.6666666666666666,\\\"#ed7953\\\"],[0.7777777777777778,\\\"#fb9f3a\\\"],[0.8888888888888888,\\\"#fdca26\\\"],[1.0,\\\"#f0f921\\\"]]}],\\\"bar\\\":[{\\\"type\\\":\\\"bar\\\",\\\"error_y\\\":{\\\"color\\\":\\\"#2a3f5f\\\"},\\\"error_x\\\":{\\\"color\\\":\\\"#2a3f5f\\\"},\\\"marker\\\":{\\\"line\\\":{\\\"color\\\":\\\"#E5ECF6\\\",\\\"width\\\":0.5}}}],\\\"heatmap\\\":[{\\\"colorbar\\\":{\\\"ticks\\\":\\\"\\\",\\\"outlinewidth\\\":0},\\\"type\\\":\\\"heatmap\\\",\\\"colorscale\\\":[[0.0,\\\"#0d0887\\\"],[0.1111111111111111,\\\"#46039f\\\"],[0.2222222222222222,\\\"#7201a8\\\"],[0.3333333333333333,\\\"#9c179e\\\"],[0.4444444444444444,\\\"#bd3786\\\"],[0.5555555555555556,\\\"#d8576b\\\"],[0.6666666666666666,\\\"#ed7953\\\"],[0.7777777777777778,\\\"#fb9f3a\\\"],[0.8888888888888888,\\\"#fdca26\\\"],[1.0,\\\"#f0f921\\\"]]}],\\\"contourcarpet\\\":[{\\\"colorbar\\\":{\\\"ticks\\\":\\\"\\\",\\\"outlinewidth\\\":0},\\\"type\\\":\\\"contourcarpet\\\"}],\\\"table\\\":[{\\\"type\\\":\\\"table\\\",\\\"header\\\":{\\\"line\\\":{\\\"color\\\":\\\"white\\\"},\\\"fill\\\":{\\\"color\\\":\\\"#C8D4E3\\\"}},\\\"cells\\\":{\\\"line\\\":{\\\"color\\\":\\\"white\\\"},\\\"fill\\\":{\\\"color\\\":\\\"#EBF0F8\\\"}}}],\\\"scatter3d\\\":[{\\\"line\\\":{\\\"colorbar\\\":{\\\"ticks\\\":\\\"\\\",\\\"outlinewidth\\\":0}},\\\"type\\\":\\\"scatter3d\\\",\\\"marker\\\":{\\\"colorbar\\\":{\\\"ticks\\\":\\\"\\\",\\\"outlinewidth\\\":0}}}],\\\"scattergl\\\":[{\\\"type\\\":\\\"scattergl\\\",\\\"marker\\\":{\\\"colorbar\\\":{\\\"ticks\\\":\\\"\\\",\\\"outlinewidth\\\":0}}}],\\\"histogram2d\\\":[{\\\"colorbar\\\":{\\\"ticks\\\":\\\"\\\",\\\"outlinewidth\\\":0},\\\"type\\\":\\\"histogram2d\\\",\\\"colorscale\\\":[[0.0,\\\"#0d0887\\\"],[0.1111111111111111,\\\"#46039f\\\"],[0.2222222222222222,\\\"#7201a8\\\"],[0.3333333333333333,\\\"#9c179e\\\"],[0.4444444444444444,\\\"#bd3786\\\"],[0.5555555555555556,\\\"#d8576b\\\"],[0.6666666666666666,\\\"#ed7953\\\"],[0.7777777777777778,\\\"#fb9f3a\\\"],[0.8888888888888888,\\\"#fdca26\\\"],[1.0,\\\"#f0f921\\\"]]}],\\\"scatterternary\\\":[{\\\"type\\\":\\\"scatterternary\\\",\\\"marker\\\":{\\\"colorbar\\\":{\\\"ticks\\\":\\\"\\\",\\\"outlinewidth\\\":0}}}],\\\"scatterpolargl\\\":[{\\\"type\\\":\\\"scatterpolargl\\\",\\\"marker\\\":{\\\"colorbar\\\":{\\\"ticks\\\":\\\"\\\",\\\"outlinewidth\\\":0}}}]}},\\\"margin\\\":{\\\"l\\\":50,\\\"b\\\":50,\\\"r\\\":50,\\\"t\\\":60}},{\\\"showLink\\\":false,\\\"editable\\\":false,\\\"responsive\\\":true,\\\"staticPlot\\\":false,\\\"scrollZoom\\\":true}); gd.on(\\\"plotly_hover\\\",(function (data){var filtered_data=WebIO.PlotlyCommands.filterEventData(gd,data,\\\"hover\\\"); return !(filtered_data.isnil) ? (WebIO.setval({\\\"name\\\":\\\"hover\\\",\\\"scope\\\":\\\"7155733106874721439\\\",\\\"id\\\":\\\"1\\\",\\\"type\\\":\\\"observable\\\"},filtered_data.out)) : undefined})); gd.on(\\\"plotly_unhover\\\",(function (){return WebIO.setval({\\\"name\\\":\\\"hover\\\",\\\"scope\\\":\\\"7155733106874721439\\\",\\\"id\\\":\\\"1\\\",\\\"type\\\":\\\"observable\\\"},{})})); gd.on(\\\"plotly_selected\\\",(function (data){var filtered_data=WebIO.PlotlyCommands.filterEventData(gd,data,\\\"selected\\\"); return !(filtered_data.isnil) ? (WebIO.setval({\\\"name\\\":\\\"selected\\\",\\\"scope\\\":\\\"7155733106874721439\\\",\\\"id\\\":\\\"2\\\",\\\"type\\\":\\\"observable\\\"},filtered_data.out)) : undefined})); gd.on(\\\"plotly_deselect\\\",(function (){return WebIO.setval({\\\"name\\\":\\\"selected\\\",\\\"scope\\\":\\\"7155733106874721439\\\",\\\"id\\\":\\\"2\\\",\\\"type\\\":\\\"observable\\\"},{})})); gd.on(\\\"plotly_relayout\\\",(function (data){var filtered_data=WebIO.PlotlyCommands.filterEventData(gd,data,\\\"relayout\\\"); return !(filtered_data.isnil) ? (WebIO.setval({\\\"name\\\":\\\"relayout\\\",\\\"scope\\\":\\\"7155733106874721439\\\",\\\"id\\\":\\\"4\\\",\\\"type\\\":\\\"observable\\\"},filtered_data.out)) : undefined})); return gd.on(\\\"plotly_click\\\",(function (data){var filtered_data=WebIO.PlotlyCommands.filterEventData(gd,data,\\\"click\\\"); return !(filtered_data.isnil) ? (WebIO.setval({\\\"name\\\":\\\"click\\\",\\\"scope\\\":\\\"7155733106874721439\\\",\\\"id\\\":\\\"3\\\",\\\"type\\\":\\\"observable\\\"},filtered_data.out)) : undefined}))}));\\n    (WebIO.importBlock({\\\"data\\\":[{\\\"name\\\":\\\"Plotly\\\",\\\"type\\\":\\\"js\\\",\\\"url\\\":\\\"\\/assetserver\\/6577fbd4013cdf60bf2212b70435aef0137915af-plotly.min.js\\\"},{\\\"name\\\":null,\\\"type\\\":\\\"js\\\",\\\"url\\\":\\\"\\/assetserver\\/d4c803def4a4c440664b36a26d4e9246efb47687-plotly_webio.bundle.js\\\"}],\\\"type\\\":\\\"async_block\\\"})).then((imports) => handler.apply(this, imports));\\n}\\n\"],\"observables\":{\"_toImage\":{\"sync\":false,\"id\":\"8\",\"value\":{}},\"hover\":{\"sync\":false,\"id\":\"1\",\"value\":{}},\"selected\":{\"sync\":false,\"id\":\"2\",\"value\":{}},\"__gd_contents\":{\"sync\":false,\"id\":\"6\",\"value\":{}},\"click\":{\"sync\":false,\"id\":\"3\",\"value\":{}},\"image\":{\"sync\":true,\"id\":\"5\",\"value\":\"\"},\"__get_gd_contents\":{\"sync\":false,\"id\":\"10\",\"value\":\"\"},\"_downloadImage\":{\"sync\":false,\"id\":\"9\",\"value\":{}},\"relayout\":{\"sync\":false,\"id\":\"4\",\"value\":{}},\"_commands\":{\"sync\":false,\"id\":\"7\",\"value\":[]}}},\"children\":[{\"props\":{\"id\":\"plot-1cd840bc-f1ad-45bb-a9ed-ce31fbbdc630\"},\"nodeType\":\"DOM\",\"type\":\"node\",\"instanceArgs\":{\"namespace\":\"html\",\"tag\":\"div\"},\"children\":[]}]},\n",
       "        window,\n",
       "    );\n",
       "    })()\n",
       "    </script>\n",
       "</div>\n"
      ],
      "text/plain": [
       "data: [\n",
       "  \"scatter with fields mode, name, type, x, and y\",\n",
       "  \"scatter with fields mode, name, type, x, and y\",\n",
       "  \"scatter with fields mode, name, type, x, and y\",\n",
       "  \"scatter with fields mode, name, type, x, and y\",\n",
       "  \"scatter with fields mode, name, type, x, and y\"\n",
       "]\n",
       "\n",
       "layout: \"layout with fields margin and template\"\n",
       "\n"
      ]
     },
     "metadata": {},
     "output_type": "display_data"
    }
   ],
   "source": [
    "one_var = \"VTDVGI\"\n",
    "plotlinevariabilityinter(data, one_var)"
   ]
  },
  {
   "cell_type": "code",
   "execution_count": 89,
   "metadata": {},
   "outputs": [
    {
     "data": {
      "text/plain": [
       "plotlinevariabilityinter (generic function with 1 method)"
      ]
     },
     "metadata": {},
     "output_type": "display_data"
    }
   ],
   "source": [
    "function plotlinevariabilityinter(df, col)\n",
    "    grouped = groupby(df[:, 1:end], [:COURSE, :TIME])\n",
    "    res = combine(grouped, names(df, Not([:CODE_SUJET, :COURSE, :TIME])) .=> mean_std)\n",
    "    col2 = col * \"_mean_std\"\n",
    "    res = hcat(res[:, 1:2], Base.getindex.(res[:, Symbol(col2)], 1), makeunique=true)\n",
    "    grouped = groupby(res, :TIME)\n",
    "    mean_values = combine(grouped, :x1 => (x -> mean(skipmissing(x))) => Symbol(\"mean_\" * col))\n",
    "    x = [\"J-2\", \"J+1\", \"J+3\", \"J+6\", \"J+11\"]\n",
    "    C1 = first.(filter(row -> row.COURSE == 100, res)[:, \"x1\"])\n",
    "    C2 = first.(filter(row -> row.COURSE == \"4_40\", res)[:, \"x1\"])\n",
    "    C3 = first.(filter(row -> row.COURSE == 160, res)[:, \"x1\"])\n",
    "    C4 = first.(filter(row -> row.COURSE == 40, res)[:, \"x1\"])\n",
    "    Mean = mean_values[:, 2]\n",
    "\n",
    "    trace1 = PlotlyJS.scatter(x=x, y=C1, mode=\"lines+markers\", name=\"100km\")\n",
    "    trace2 = PlotlyJS.scatter(x=x, y=C2, mode=\"lines+markers\", name=\"4x40km\")\n",
    "    trace3 = PlotlyJS.scatter(x=x, y=C3, mode=\"lines+markers\", name=\"160km\")\n",
    "    trace4 = PlotlyJS.scatter(x=x, y=C4, mode=\"lines+markers\", name=\"40km\")\n",
    "    trace_mean = PlotlyJS.scatter(x=x, y=Mean, mode=\"lines+markers\", name=\"Moyenne\")\n",
    "\n",
    "    return PlotlyJS.plot([trace1, trace2, trace3, trace4, trace_mean])\n",
    "end"
   ]
  },
  {
   "cell_type": "code",
   "execution_count": 73,
   "metadata": {},
   "outputs": [
    {
     "data": {
      "text/html": [
       "<div><div style = \"float: left;\"><span>5×2 DataFrame</span></div><div style = \"clear: both;\"></div></div><div class = \"data-frame\" style = \"overflow-x: scroll;\"><table class = \"data-frame\" style = \"margin-bottom: 6px;\"><thead><tr class = \"header\"><th class = \"rowNumber\" style = \"font-weight: bold; text-align: right;\">Row</th><th style = \"text-align: left;\">TIME</th><th style = \"text-align: left;\">mean_VTDVGI</th></tr><tr class = \"subheader headerLastRow\"><th class = \"rowNumber\" style = \"font-weight: bold; text-align: right;\"></th><th title = \"Int64\" style = \"text-align: left;\">Int64</th><th title = \"Float64\" style = \"text-align: left;\">Float64</th></tr></thead><tbody><tr><td class = \"rowNumber\" style = \"font-weight: bold; text-align: right;\">1</td><td style = \"text-align: right;\">-2</td><td style = \"text-align: right;\">63.325</td></tr><tr><td class = \"rowNumber\" style = \"font-weight: bold; text-align: right;\">2</td><td style = \"text-align: right;\">1</td><td style = \"text-align: right;\">61.3</td></tr><tr><td class = \"rowNumber\" style = \"font-weight: bold; text-align: right;\">3</td><td style = \"text-align: right;\">3</td><td style = \"text-align: right;\">67.875</td></tr><tr><td class = \"rowNumber\" style = \"font-weight: bold; text-align: right;\">4</td><td style = \"text-align: right;\">6</td><td style = \"text-align: right;\">56.675</td></tr><tr><td class = \"rowNumber\" style = \"font-weight: bold; text-align: right;\">5</td><td style = \"text-align: right;\">11</td><td style = \"text-align: right;\">62.025</td></tr></tbody></table></div>"
      ],
      "text/latex": [
       "\\begin{tabular}{r|cc}\n",
       "\t& TIME & mean\\_VTDVGI\\\\\n",
       "\t\\hline\n",
       "\t& Int64 & Float64\\\\\n",
       "\t\\hline\n",
       "\t1 & -2 & 63.325 \\\\\n",
       "\t2 & 1 & 61.3 \\\\\n",
       "\t3 & 3 & 67.875 \\\\\n",
       "\t4 & 6 & 56.675 \\\\\n",
       "\t5 & 11 & 62.025 \\\\\n",
       "\\end{tabular}\n"
      ],
      "text/plain": [
       "\u001b[1m5×2 DataFrame\u001b[0m\n",
       "\u001b[1m Row \u001b[0m│\u001b[1m TIME  \u001b[0m\u001b[1m mean_VTDVGI \u001b[0m\n",
       "     │\u001b[90m Int64 \u001b[0m\u001b[90m Float64     \u001b[0m\n",
       "─────┼────────────────────\n",
       "   1 │    -2       63.325\n",
       "   2 │     1       61.3\n",
       "   3 │     3       67.875\n",
       "   4 │     6       56.675\n",
       "   5 │    11       62.025"
      ]
     },
     "metadata": {},
     "output_type": "display_data"
    }
   ],
   "source": [
    "data = build_dataframe(\"\", vcat([\"TIME\", \"COURSE\", \"CODE_SUJET\"], var_of_interest))\n",
    "col = \"VTDVGI\"\n",
    "grouped = groupby(data[:, 1:end], [:COURSE, :TIME])\n",
    "res = combine(grouped, names(data, Not([:CODE_SUJET, :COURSE, :TIME])) .=> mean_std)\n",
    "col2 = col * \"_mean_std\"\n",
    "res = hcat(res[:, 1:2], Base.getindex.(res[:, Symbol(col2)], 1), makeunique=true)\n",
    "grouped = groupby(res, :TIME)\n",
    "mean_values = combine(grouped, :x1 => (x -> mean(skipmissing(x))) => Symbol(\"mean_\" * col))"
   ]
  },
  {
   "cell_type": "code",
   "execution_count": null,
   "metadata": {},
   "outputs": [
    {
     "ename": "MethodError",
     "evalue": "MethodError: no method matching getindex(::Nothing, ::Int64)\nThe function `getindex` exists, but no method is defined for this combination of argument types.",
     "output_type": "error",
     "traceback": [
      "MethodError: no method matching getindex(::Nothing, ::Int64)\n",
      "The function `getindex` exists, but no method is defined for this combination of argument types.\n",
      "\n",
      "Stacktrace:\n",
      "  [1] _apply_type_recipe(plotattributes::Any, v::AbstractArray, letter::Any)\n",
      "    @ RecipesPipeline C:\\Users\\zergu\\.julia\\packages\\RecipesPipeline\\BGM3l\\src\\type_recipe.jl:43\n",
      "  [2] macro expansion\n",
      "    @ C:\\Users\\zergu\\.julia\\packages\\RecipesPipeline\\BGM3l\\src\\user_recipe.jl:131 [inlined]\n",
      "  [3] apply_recipe(plotattributes::AbstractDict{Symbol, Any}, x::Any, y::Any)\n",
      "    @ RecipesPipeline C:\\Users\\zergu\\.julia\\packages\\RecipesBase\\BRe07\\src\\RecipesBase.jl:300\n",
      "  [4] _process_userrecipes!(plt::Any, plotattributes::Any, args::Any)\n",
      "    @ RecipesPipeline C:\\Users\\zergu\\.julia\\packages\\RecipesPipeline\\BGM3l\\src\\user_recipe.jl:38\n",
      "  [5] recipe_pipeline!(plt::Any, plotattributes::Any, args::Any)\n",
      "    @ RecipesPipeline C:\\Users\\zergu\\.julia\\packages\\RecipesPipeline\\BGM3l\\src\\RecipesPipeline.jl:72\n",
      "  [6] _plot!(plt::Plots.Plot, plotattributes::Any, args::Any)\n",
      "    @ Plots C:\\Users\\zergu\\.julia\\packages\\Plots\\Ec1L1\\src\\plot.jl:223\n",
      "  [7] plot!(::Plots.Plot, ::Any, ::Vararg{Any}; kw...)\n",
      "    @ Plots C:\\Users\\zergu\\.julia\\packages\\Plots\\Ec1L1\\src\\plot.jl:213\n",
      "  [8] plot!(::Plots.Plot, ::Any, ::Any)\n",
      "    @ Plots C:\\Users\\zergu\\.julia\\packages\\Plots\\Ec1L1\\src\\plot.jl:208\n",
      "  [9] plot!(::Any, ::Vararg{Any}; kw...)\n",
      "    @ Plots C:\\Users\\zergu\\.julia\\packages\\Plots\\Ec1L1\\src\\plot.jl:202\n",
      " [10] plot!(::Any, ::Any)\n",
      "    @ Plots C:\\Users\\zergu\\.julia\\packages\\Plots\\Ec1L1\\src\\plot.jl:194\n",
      " [11] top-level scope\n",
      "    @ c:\\Users\\zergu\\Documents\\ut4m-cardio\\jl_notebook_cell_df34fa98e69747e1a8f8a730347b8e2f_X41sZmlsZQ==.jl:13"
     ]
    }
   ],
   "source": [
    "x = [\"J-2\", \"J+1\", \"J+3\", \"J+6\", \"J+11\"]\n",
    "C1 = first.(filter(row -> row.COURSE == 100, res)[:, \"x1\"])\n",
    "C2 = first.(filter(row -> row.COURSE == \"4_40\", res)[:, \"x1\"])\n",
    "C3 = first.(filter(row -> row.COURSE == 160, res)[:, \"x1\"])\n",
    "C4 = first.(filter(row -> row.COURSE == 40, res)[:, \"x1\"])\n",
    "Mean = mean_values[:, 2]\n",
    "\n",
    "trace1 = scatter(x=x, y=C1, mode=\"lines+markers\", name=\"100km\")\n",
    "trace2 = scatter(x=x, y=C2, mode=\"lines+markers\", name=\"4x40km\")\n",
    "trace3 = scatter(x=x, y=C3, mode=\"lines+markers\", name=\"160km\")\n",
    "trace4 = scatter(x=x, y=C4, mode=\"lines+markers\", name=\"40km\")\n",
    "trace_mean = scatter(x=x, y=Mean, mode=\"lines+markers\", name=\"Moyenne\")\n",
    "plot([trace1, trace2, trace3, trace4, trace_mean])"
   ]
  },
  {
   "cell_type": "code",
   "execution_count": 84,
   "metadata": {},
   "outputs": [
    {
     "ename": "MethodError",
     "evalue": "MethodError: no method matching Plot(::Vector{Plots.Plot{Plots.GRBackend}})\nThe type `Plot` exists, but no method is defined for this combination of argument types when trying to construct it.\n\nClosest candidates are:\n  Plot(!Matched::Plot)\n   @ PlotlyBase C:\\Users\\zergu\\.julia\\packages\\PlotlyBase\\4NWbR\\src\\PlotlyBase.jl:87\n  Plot(!Matched::AbstractDataFrame, !Matched::Symbol, !Matched::Layout; kwargs...)\n   @ PlotlyBase C:\\Users\\zergu\\.julia\\packages\\PlotlyBase\\4NWbR\\src\\dataframes_api.jl:496\n  Plot(!Matched::AbstractDataFrame, !Matched::Symbol; ...)\n   @ PlotlyBase C:\\Users\\zergu\\.julia\\packages\\PlotlyBase\\4NWbR\\src\\dataframes_api.jl:496\n  ...\n",
     "output_type": "error",
     "traceback": [
      "MethodError: no method matching Plot(::Vector{Plots.Plot{Plots.GRBackend}})\n",
      "The type `Plot` exists, but no method is defined for this combination of argument types when trying to construct it.\n",
      "\n",
      "Closest candidates are:\n",
      "  Plot(!Matched::Plot)\n",
      "   @ PlotlyBase C:\\Users\\zergu\\.julia\\packages\\PlotlyBase\\4NWbR\\src\\PlotlyBase.jl:87\n",
      "  Plot(!Matched::AbstractDataFrame, !Matched::Symbol, !Matched::Layout; kwargs...)\n",
      "   @ PlotlyBase C:\\Users\\zergu\\.julia\\packages\\PlotlyBase\\4NWbR\\src\\dataframes_api.jl:496\n",
      "  Plot(!Matched::AbstractDataFrame, !Matched::Symbol; ...)\n",
      "   @ PlotlyBase C:\\Users\\zergu\\.julia\\packages\\PlotlyBase\\4NWbR\\src\\dataframes_api.jl:496\n",
      "  ...\n",
      "\n",
      "\n",
      "Stacktrace:\n",
      " [1] plot(args::Vector{Plots.Plot{Plots.GRBackend}}; kwargs::@Kwargs{})\n",
      "   @ PlotlyJS C:\\Users\\zergu\\.julia\\packages\\PlotlyJS\\86P7B\\src\\display.jl:153\n",
      " [2] plot(args::Vector{Plots.Plot{Plots.GRBackend}})\n",
      "   @ PlotlyJS C:\\Users\\zergu\\.julia\\packages\\PlotlyJS\\86P7B\\src\\display.jl:152\n",
      " [3] top-level scope\n",
      "   @ c:\\Users\\zergu\\Documents\\ut4m-cardio\\jl_notebook_cell_df34fa98e69747e1a8f8a730347b8e2f_X42sZmlsZQ==.jl:1"
     ]
    }
   ],
   "source": [
    "PlotlyJS.plot([trace1, trace2, trace3, trace4, trace_mean])"
   ]
  },
  {
   "cell_type": "code",
   "execution_count": 70,
   "metadata": {},
   "outputs": [
    {
     "ename": "MethodError",
     "evalue": "MethodError: no method matching getindex(::Nothing, ::Int64)\nThe function `getindex` exists, but no method is defined for this combination of argument types.",
     "output_type": "error",
     "traceback": [
      "MethodError: no method matching getindex(::Nothing, ::Int64)\n",
      "The function `getindex` exists, but no method is defined for this combination of argument types.\n",
      "\n",
      "Stacktrace:\n",
      "  [1] _apply_type_recipe(plotattributes::Any, v::AbstractArray, letter::Any)\n",
      "    @ RecipesPipeline C:\\Users\\zergu\\.julia\\packages\\RecipesPipeline\\BGM3l\\src\\type_recipe.jl:43\n",
      "  [2] macro expansion\n",
      "    @ C:\\Users\\zergu\\.julia\\packages\\RecipesPipeline\\BGM3l\\src\\user_recipe.jl:140 [inlined]\n",
      "  [3] apply_recipe(plotattributes::AbstractDict{Symbol, Any}, y::Any)\n",
      "    @ RecipesPipeline C:\\Users\\zergu\\.julia\\packages\\RecipesBase\\BRe07\\src\\RecipesBase.jl:300\n",
      "  [4] _process_userrecipes!(plt::Any, plotattributes::Any, args::Any)\n",
      "    @ RecipesPipeline C:\\Users\\zergu\\.julia\\packages\\RecipesPipeline\\BGM3l\\src\\user_recipe.jl:38\n",
      "  [5] recipe_pipeline!(plt::Any, plotattributes::Any, args::Any)\n",
      "    @ RecipesPipeline C:\\Users\\zergu\\.julia\\packages\\RecipesPipeline\\BGM3l\\src\\RecipesPipeline.jl:72\n",
      "  [6] _plot!(plt::Plots.Plot, plotattributes::Any, args::Any)\n",
      "    @ Plots C:\\Users\\zergu\\.julia\\packages\\Plots\\Ec1L1\\src\\plot.jl:223\n",
      "  [7] plot(args::Any; kw...)\n",
      "    @ Plots C:\\Users\\zergu\\.julia\\packages\\Plots\\Ec1L1\\src\\plot.jl:102\n",
      "  [8] plot\n",
      "    @ C:\\Users\\zergu\\.julia\\packages\\Plots\\Ec1L1\\src\\plot.jl:93 [inlined]\n",
      "  [9] plotlinevariabilityinter(df::DataFrame, col::String)\n",
      "    @ Main c:\\Users\\zergu\\Documents\\ut4m-cardio\\jl_notebook_cell_df34fa98e69747e1a8f8a730347b8e2f_X33sZmlsZQ==.jl:21\n",
      " [10] top-level scope\n",
      "    @ c:\\Users\\zergu\\Documents\\ut4m-cardio\\jl_notebook_cell_df34fa98e69747e1a8f8a730347b8e2f_X34sZmlsZQ==.jl:1"
     ]
    }
   ],
   "source": [
    "plotlinevariabilityinter(data, one_var)"
   ]
  }
 ],
 "metadata": {
  "kernelspec": {
   "display_name": "Julia 1.11.1",
   "language": "julia",
   "name": "julia-1.11"
  },
  "language_info": {
   "file_extension": ".jl",
   "mimetype": "application/julia",
   "name": "julia",
   "version": "1.11.1"
  }
 },
 "nbformat": 4,
 "nbformat_minor": 4
}
