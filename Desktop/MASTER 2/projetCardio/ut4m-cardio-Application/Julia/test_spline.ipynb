{
 "cells": [
  {
   "cell_type": "code",
   "execution_count": 1,
   "metadata": {},
   "outputs": [
    {
     "name": "stderr",
     "output_type": "stream",
     "text": [
      "\u001b[32m\u001b[1m  Activating\u001b[22m\u001b[39m project at `f:\\Programation\\ut4m-cardio`\n"
     ]
    }
   ],
   "source": [
    "using Pkg\n",
    "Pkg.activate(\"../.\")"
   ]
  },
  {
   "cell_type": "code",
   "execution_count": 2,
   "metadata": {},
   "outputs": [
    {
     "data": {
      "text/html": [
       "<div><div style = \"float: left;\"><span>393×4 DataFrame</span></div><div style = \"float: right;\"><span style = \"font-style: italic;\">368 rows omitted</span></div><div style = \"clear: both;\"></div></div><div class = \"data-frame\" style = \"overflow-x: scroll;\"><table class = \"data-frame\" style = \"margin-bottom: 6px;\"><thead><tr class = \"header\"><th class = \"rowNumber\" style = \"font-weight: bold; text-align: right;\">Row</th><th style = \"text-align: left;\">CODE_SUJET</th><th style = \"text-align: left;\">COURSE</th><th style = \"text-align: left;\">TIME</th><th style = \"text-align: left;\">FC</th></tr><tr class = \"subheader headerLastRow\"><th class = \"rowNumber\" style = \"font-weight: bold; text-align: right;\"></th><th title = \"Int64\" style = \"text-align: left;\">Int64</th><th title = \"Any\" style = \"text-align: left;\">Any</th><th title = \"Int64\" style = \"text-align: left;\">Int64</th><th title = \"Any\" style = \"text-align: left;\">Any</th></tr></thead><tbody><tr><td class = \"rowNumber\" style = \"font-weight: bold; text-align: right;\">1</td><td style = \"text-align: right;\">1</td><td style = \"text-align: left;\">100</td><td style = \"text-align: right;\">-2</td><td style = \"text-align: left;\">58</td></tr><tr><td class = \"rowNumber\" style = \"font-weight: bold; text-align: right;\">2</td><td style = \"text-align: right;\">2</td><td style = \"text-align: left;\">100</td><td style = \"text-align: right;\">-2</td><td style = \"text-align: left;\">60</td></tr><tr><td class = \"rowNumber\" style = \"font-weight: bold; text-align: right;\">3</td><td style = \"text-align: right;\">3</td><td style = \"text-align: left;\">100</td><td style = \"text-align: right;\">-2</td><td style = \"text-align: left;\">55</td></tr><tr><td class = \"rowNumber\" style = \"font-weight: bold; text-align: right;\">4</td><td style = \"text-align: right;\">4</td><td style = \"text-align: left;\">100</td><td style = \"text-align: right;\">-2</td><td style = \"text-align: left;\">54</td></tr><tr><td class = \"rowNumber\" style = \"font-weight: bold; text-align: right;\">5</td><td style = \"text-align: right;\">5</td><td style = \"text-align: left;\">100</td><td style = \"text-align: right;\">-2</td><td style = \"text-align: left;\">50</td></tr><tr><td class = \"rowNumber\" style = \"font-weight: bold; text-align: right;\">6</td><td style = \"text-align: right;\">6</td><td style = \"text-align: left;\">100</td><td style = \"text-align: right;\">-2</td><td style = \"text-align: left;\">51</td></tr><tr><td class = \"rowNumber\" style = \"font-weight: bold; text-align: right;\">7</td><td style = \"text-align: right;\">7</td><td style = \"text-align: left;\">100</td><td style = \"text-align: right;\">-2</td><td style = \"text-align: left;\">50</td></tr><tr><td class = \"rowNumber\" style = \"font-weight: bold; text-align: right;\">8</td><td style = \"text-align: right;\">8</td><td style = \"text-align: left;\">100</td><td style = \"text-align: right;\">-2</td><td style = \"text-align: left;\">66</td></tr><tr><td class = \"rowNumber\" style = \"font-weight: bold; text-align: right;\">9</td><td style = \"text-align: right;\">9</td><td style = \"text-align: left;\">100</td><td style = \"text-align: right;\">-2</td><td style = \"text-align: left;\">56</td></tr><tr><td class = \"rowNumber\" style = \"font-weight: bold; text-align: right;\">10</td><td style = \"text-align: right;\">10</td><td style = \"text-align: left;\">100</td><td style = \"text-align: right;\">-2</td><td style = \"text-align: left;\">59</td></tr><tr><td class = \"rowNumber\" style = \"font-weight: bold; text-align: right;\">11</td><td style = \"text-align: right;\">11</td><td style = \"text-align: left;\">100</td><td style = \"text-align: right;\">-2</td><td style = \"text-align: left;\">48</td></tr><tr><td class = \"rowNumber\" style = \"font-weight: bold; text-align: right;\">12</td><td style = \"text-align: right;\">12</td><td style = \"text-align: left;\">100</td><td style = \"text-align: right;\">-2</td><td style = \"text-align: left;\">70</td></tr><tr><td class = \"rowNumber\" style = \"font-weight: bold; text-align: right;\">13</td><td style = \"text-align: right;\">13</td><td style = \"text-align: left;\">4_40</td><td style = \"text-align: right;\">-2</td><td style = \"text-align: left;\">66</td></tr><tr><td style = \"text-align: right;\">&vellip;</td><td style = \"text-align: right;\">&vellip;</td><td style = \"text-align: right;\">&vellip;</td><td style = \"text-align: right;\">&vellip;</td><td style = \"text-align: right;\">&vellip;</td></tr><tr><td class = \"rowNumber\" style = \"font-weight: bold; text-align: right;\">382</td><td style = \"text-align: right;\">66</td><td style = \"text-align: left;\">160</td><td style = \"text-align: right;\">11</td><td style = \"text-align: left;\">56</td></tr><tr><td class = \"rowNumber\" style = \"font-weight: bold; text-align: right;\">383</td><td style = \"text-align: right;\">67</td><td style = \"text-align: left;\">160</td><td style = \"text-align: right;\">11</td><td style = \"text-align: left;\">53</td></tr><tr><td class = \"rowNumber\" style = \"font-weight: bold; text-align: right;\">384</td><td style = \"text-align: right;\">68</td><td style = \"text-align: left;\">160</td><td style = \"text-align: right;\">11</td><td style = \"text-align: left;\">61</td></tr><tr><td class = \"rowNumber\" style = \"font-weight: bold; text-align: right;\">385</td><td style = \"text-align: right;\">69</td><td style = \"text-align: left;\">160</td><td style = \"text-align: right;\">11</td><td style = \"text-align: left;\">71</td></tr><tr><td class = \"rowNumber\" style = \"font-weight: bold; text-align: right;\">386</td><td style = \"text-align: right;\">70</td><td style = \"text-align: left;\">160</td><td style = \"text-align: right;\">11</td><td style = \"font-style: italic; text-align: left;\">missing</td></tr><tr><td class = \"rowNumber\" style = \"font-weight: bold; text-align: right;\">387</td><td style = \"text-align: right;\">71</td><td style = \"text-align: left;\">160</td><td style = \"text-align: right;\">11</td><td style = \"text-align: left;\">67</td></tr><tr><td class = \"rowNumber\" style = \"font-weight: bold; text-align: right;\">388</td><td style = \"text-align: right;\">72</td><td style = \"text-align: left;\">160</td><td style = \"text-align: right;\">11</td><td style = \"text-align: left;\">60</td></tr><tr><td class = \"rowNumber\" style = \"font-weight: bold; text-align: right;\">389</td><td style = \"text-align: right;\">73</td><td style = \"text-align: left;\">160</td><td style = \"text-align: right;\">11</td><td style = \"text-align: left;\">82</td></tr><tr><td class = \"rowNumber\" style = \"font-weight: bold; text-align: right;\">390</td><td style = \"text-align: right;\">74</td><td style = \"text-align: left;\">160</td><td style = \"text-align: right;\">11</td><td style = \"font-style: italic; text-align: left;\">missing</td></tr><tr><td class = \"rowNumber\" style = \"font-weight: bold; text-align: right;\">391</td><td style = \"text-align: right;\">75</td><td style = \"text-align: left;\">160</td><td style = \"text-align: right;\">11</td><td style = \"text-align: left;\">57</td></tr><tr><td class = \"rowNumber\" style = \"font-weight: bold; text-align: right;\">392</td><td style = \"text-align: right;\">76</td><td style = \"text-align: left;\">160</td><td style = \"text-align: right;\">11</td><td style = \"text-align: left;\">63</td></tr><tr><td class = \"rowNumber\" style = \"font-weight: bold; text-align: right;\">393</td><td style = \"text-align: right;\">77</td><td style = \"text-align: left;\">160</td><td style = \"text-align: right;\">11</td><td style = \"text-align: left;\">56</td></tr></tbody></table></div>"
      ],
      "text/latex": [
       "\\begin{tabular}{r|cccc}\n",
       "\t& CODE\\_SUJET & COURSE & TIME & FC\\\\\n",
       "\t\\hline\n",
       "\t& Int64 & Any & Int64 & Any\\\\\n",
       "\t\\hline\n",
       "\t1 & 1 & 100 & -2 & 58 \\\\\n",
       "\t2 & 2 & 100 & -2 & 60 \\\\\n",
       "\t3 & 3 & 100 & -2 & 55 \\\\\n",
       "\t4 & 4 & 100 & -2 & 54 \\\\\n",
       "\t5 & 5 & 100 & -2 & 50 \\\\\n",
       "\t6 & 6 & 100 & -2 & 51 \\\\\n",
       "\t7 & 7 & 100 & -2 & 50 \\\\\n",
       "\t8 & 8 & 100 & -2 & 66 \\\\\n",
       "\t9 & 9 & 100 & -2 & 56 \\\\\n",
       "\t10 & 10 & 100 & -2 & 59 \\\\\n",
       "\t11 & 11 & 100 & -2 & 48 \\\\\n",
       "\t12 & 12 & 100 & -2 & 70 \\\\\n",
       "\t13 & 13 & 4\\_40 & -2 & 66 \\\\\n",
       "\t14 & 14 & 4\\_40 & -2 & 49 \\\\\n",
       "\t15 & 15 & 4\\_40 & -2 & 37 \\\\\n",
       "\t16 & 16 & 4\\_40 & -2 & 60 \\\\\n",
       "\t17 & 17 & 4\\_40 & -2 & 75 \\\\\n",
       "\t18 & 18 & 4\\_40 & -2 & 56 \\\\\n",
       "\t19 & 19 & 4\\_40 & -2 & 48 \\\\\n",
       "\t20 & 20 & 4\\_40 & -2 & 52 \\\\\n",
       "\t21 & 21 & 4\\_40 & -2 & 52 \\\\\n",
       "\t22 & 22 & 4\\_40 & -2 & 36 \\\\\n",
       "\t23 & 23 & 4\\_40 & -2 & 46 \\\\\n",
       "\t24 & 24 & 4\\_40 & -2 & 50 \\\\\n",
       "\t$\\dots$ & $\\dots$ & $\\dots$ & $\\dots$ & $\\dots$ \\\\\n",
       "\\end{tabular}\n"
      ],
      "text/plain": [
       "\u001b[1m393×4 DataFrame\u001b[0m\n",
       "\u001b[1m Row \u001b[0m│\u001b[1m CODE_SUJET \u001b[0m\u001b[1m COURSE \u001b[0m\u001b[1m TIME  \u001b[0m\u001b[1m FC      \u001b[0m\n",
       "     │\u001b[90m Int64      \u001b[0m\u001b[90m Any    \u001b[0m\u001b[90m Int64 \u001b[0m\u001b[90m Any     \u001b[0m\n",
       "─────┼────────────────────────────────────\n",
       "   1 │          1  100        -2  58\n",
       "   2 │          2  100        -2  60\n",
       "   3 │          3  100        -2  55\n",
       "   4 │          4  100        -2  54\n",
       "   5 │          5  100        -2  50\n",
       "   6 │          6  100        -2  51\n",
       "   7 │          7  100        -2  50\n",
       "   8 │          8  100        -2  66\n",
       "  ⋮  │     ⋮         ⋮       ⋮       ⋮\n",
       " 387 │         71  160        11  67\n",
       " 388 │         72  160        11  60\n",
       " 389 │         73  160        11  82\n",
       " 390 │         74  160        11 \u001b[90m missing \u001b[0m\n",
       " 391 │         75  160        11  57\n",
       " 392 │         76  160        11  63\n",
       " 393 │         77  160        11  56\n",
       "\u001b[36m                          378 rows omitted\u001b[0m"
      ]
     },
     "metadata": {},
     "output_type": "display_data"
    }
   ],
   "source": [
    "using DataFrames\n",
    "using XLSX\n",
    "include(\"./utils.jl\")\n",
    "include(\"./preprocessing.jl\")\n",
    "DATA = build_data_cardiac(\"../Ressources/Données complètes UT4M final120419 avec Data cardio.xlsx\")\n",
    "DATA = DATA[1:end-2,:]\n",
    "SUB_DATA = DATA[:, [:CODE_SUJET, :COURSE, :TIME, :FC]]"
   ]
  },
  {
   "cell_type": "code",
   "execution_count": 3,
   "metadata": {},
   "outputs": [
    {
     "data": {
      "text/html": [
       "<div><div style = \"float: left;\"><span>227×4 DataFrame</span></div><div style = \"float: right;\"><span style = \"font-style: italic;\">202 rows omitted</span></div><div style = \"clear: both;\"></div></div><div class = \"data-frame\" style = \"overflow-x: scroll;\"><table class = \"data-frame\" style = \"margin-bottom: 6px;\"><thead><tr class = \"header\"><th class = \"rowNumber\" style = \"font-weight: bold; text-align: right;\">Row</th><th style = \"text-align: left;\">CODE_SUJET</th><th style = \"text-align: left;\">COURSE</th><th style = \"text-align: left;\">TIME</th><th style = \"text-align: left;\">FC</th></tr><tr class = \"subheader headerLastRow\"><th class = \"rowNumber\" style = \"font-weight: bold; text-align: right;\"></th><th title = \"Int64\" style = \"text-align: left;\">Int64</th><th title = \"Any\" style = \"text-align: left;\">Any</th><th title = \"Float64\" style = \"text-align: left;\">Float64</th><th title = \"Float64\" style = \"text-align: left;\">Float64</th></tr></thead><tbody><tr><td class = \"rowNumber\" style = \"font-weight: bold; text-align: right;\">1</td><td style = \"text-align: right;\">1</td><td style = \"text-align: left;\">100</td><td style = \"text-align: right;\">-2.0</td><td style = \"text-align: right;\">58.0</td></tr><tr><td class = \"rowNumber\" style = \"font-weight: bold; text-align: right;\">2</td><td style = \"text-align: right;\">2</td><td style = \"text-align: left;\">100</td><td style = \"text-align: right;\">-2.0</td><td style = \"text-align: right;\">60.0</td></tr><tr><td class = \"rowNumber\" style = \"font-weight: bold; text-align: right;\">3</td><td style = \"text-align: right;\">3</td><td style = \"text-align: left;\">100</td><td style = \"text-align: right;\">-2.0</td><td style = \"text-align: right;\">55.0</td></tr><tr><td class = \"rowNumber\" style = \"font-weight: bold; text-align: right;\">4</td><td style = \"text-align: right;\">4</td><td style = \"text-align: left;\">100</td><td style = \"text-align: right;\">-2.0</td><td style = \"text-align: right;\">54.0</td></tr><tr><td class = \"rowNumber\" style = \"font-weight: bold; text-align: right;\">5</td><td style = \"text-align: right;\">5</td><td style = \"text-align: left;\">100</td><td style = \"text-align: right;\">-2.0</td><td style = \"text-align: right;\">50.0</td></tr><tr><td class = \"rowNumber\" style = \"font-weight: bold; text-align: right;\">6</td><td style = \"text-align: right;\">6</td><td style = \"text-align: left;\">100</td><td style = \"text-align: right;\">-2.0</td><td style = \"text-align: right;\">51.0</td></tr><tr><td class = \"rowNumber\" style = \"font-weight: bold; text-align: right;\">7</td><td style = \"text-align: right;\">7</td><td style = \"text-align: left;\">100</td><td style = \"text-align: right;\">-2.0</td><td style = \"text-align: right;\">50.0</td></tr><tr><td class = \"rowNumber\" style = \"font-weight: bold; text-align: right;\">8</td><td style = \"text-align: right;\">8</td><td style = \"text-align: left;\">100</td><td style = \"text-align: right;\">-2.0</td><td style = \"text-align: right;\">66.0</td></tr><tr><td class = \"rowNumber\" style = \"font-weight: bold; text-align: right;\">9</td><td style = \"text-align: right;\">9</td><td style = \"text-align: left;\">100</td><td style = \"text-align: right;\">-2.0</td><td style = \"text-align: right;\">56.0</td></tr><tr><td class = \"rowNumber\" style = \"font-weight: bold; text-align: right;\">10</td><td style = \"text-align: right;\">10</td><td style = \"text-align: left;\">100</td><td style = \"text-align: right;\">-2.0</td><td style = \"text-align: right;\">59.0</td></tr><tr><td class = \"rowNumber\" style = \"font-weight: bold; text-align: right;\">11</td><td style = \"text-align: right;\">11</td><td style = \"text-align: left;\">100</td><td style = \"text-align: right;\">-2.0</td><td style = \"text-align: right;\">48.0</td></tr><tr><td class = \"rowNumber\" style = \"font-weight: bold; text-align: right;\">12</td><td style = \"text-align: right;\">12</td><td style = \"text-align: left;\">100</td><td style = \"text-align: right;\">-2.0</td><td style = \"text-align: right;\">70.0</td></tr><tr><td class = \"rowNumber\" style = \"font-weight: bold; text-align: right;\">13</td><td style = \"text-align: right;\">33</td><td style = \"text-align: left;\">40</td><td style = \"text-align: right;\">-2.0</td><td style = \"text-align: right;\">73.0</td></tr><tr><td style = \"text-align: right;\">&vellip;</td><td style = \"text-align: right;\">&vellip;</td><td style = \"text-align: right;\">&vellip;</td><td style = \"text-align: right;\">&vellip;</td><td style = \"text-align: right;\">&vellip;</td></tr><tr><td class = \"rowNumber\" style = \"font-weight: bold; text-align: right;\">216</td><td style = \"text-align: right;\">59</td><td style = \"text-align: left;\">160</td><td style = \"text-align: right;\">11.0</td><td style = \"text-align: right;\">52.0</td></tr><tr><td class = \"rowNumber\" style = \"font-weight: bold; text-align: right;\">217</td><td style = \"text-align: right;\">62</td><td style = \"text-align: left;\">160</td><td style = \"text-align: right;\">11.0</td><td style = \"text-align: right;\">87.0</td></tr><tr><td class = \"rowNumber\" style = \"font-weight: bold; text-align: right;\">218</td><td style = \"text-align: right;\">66</td><td style = \"text-align: left;\">160</td><td style = \"text-align: right;\">11.0</td><td style = \"text-align: right;\">56.0</td></tr><tr><td class = \"rowNumber\" style = \"font-weight: bold; text-align: right;\">219</td><td style = \"text-align: right;\">67</td><td style = \"text-align: left;\">160</td><td style = \"text-align: right;\">11.0</td><td style = \"text-align: right;\">53.0</td></tr><tr><td class = \"rowNumber\" style = \"font-weight: bold; text-align: right;\">220</td><td style = \"text-align: right;\">68</td><td style = \"text-align: left;\">160</td><td style = \"text-align: right;\">11.0</td><td style = \"text-align: right;\">61.0</td></tr><tr><td class = \"rowNumber\" style = \"font-weight: bold; text-align: right;\">221</td><td style = \"text-align: right;\">69</td><td style = \"text-align: left;\">160</td><td style = \"text-align: right;\">11.0</td><td style = \"text-align: right;\">71.0</td></tr><tr><td class = \"rowNumber\" style = \"font-weight: bold; text-align: right;\">222</td><td style = \"text-align: right;\">71</td><td style = \"text-align: left;\">160</td><td style = \"text-align: right;\">11.0</td><td style = \"text-align: right;\">67.0</td></tr><tr><td class = \"rowNumber\" style = \"font-weight: bold; text-align: right;\">223</td><td style = \"text-align: right;\">72</td><td style = \"text-align: left;\">160</td><td style = \"text-align: right;\">11.0</td><td style = \"text-align: right;\">60.0</td></tr><tr><td class = \"rowNumber\" style = \"font-weight: bold; text-align: right;\">224</td><td style = \"text-align: right;\">73</td><td style = \"text-align: left;\">160</td><td style = \"text-align: right;\">11.0</td><td style = \"text-align: right;\">82.0</td></tr><tr><td class = \"rowNumber\" style = \"font-weight: bold; text-align: right;\">225</td><td style = \"text-align: right;\">75</td><td style = \"text-align: left;\">160</td><td style = \"text-align: right;\">11.0</td><td style = \"text-align: right;\">57.0</td></tr><tr><td class = \"rowNumber\" style = \"font-weight: bold; text-align: right;\">226</td><td style = \"text-align: right;\">76</td><td style = \"text-align: left;\">160</td><td style = \"text-align: right;\">11.0</td><td style = \"text-align: right;\">63.0</td></tr><tr><td class = \"rowNumber\" style = \"font-weight: bold; text-align: right;\">227</td><td style = \"text-align: right;\">77</td><td style = \"text-align: left;\">160</td><td style = \"text-align: right;\">11.0</td><td style = \"text-align: right;\">56.0</td></tr></tbody></table></div>"
      ],
      "text/latex": [
       "\\begin{tabular}{r|cccc}\n",
       "\t& CODE\\_SUJET & COURSE & TIME & FC\\\\\n",
       "\t\\hline\n",
       "\t& Int64 & Any & Float64 & Float64\\\\\n",
       "\t\\hline\n",
       "\t1 & 1 & 100 & -2.0 & 58.0 \\\\\n",
       "\t2 & 2 & 100 & -2.0 & 60.0 \\\\\n",
       "\t3 & 3 & 100 & -2.0 & 55.0 \\\\\n",
       "\t4 & 4 & 100 & -2.0 & 54.0 \\\\\n",
       "\t5 & 5 & 100 & -2.0 & 50.0 \\\\\n",
       "\t6 & 6 & 100 & -2.0 & 51.0 \\\\\n",
       "\t7 & 7 & 100 & -2.0 & 50.0 \\\\\n",
       "\t8 & 8 & 100 & -2.0 & 66.0 \\\\\n",
       "\t9 & 9 & 100 & -2.0 & 56.0 \\\\\n",
       "\t10 & 10 & 100 & -2.0 & 59.0 \\\\\n",
       "\t11 & 11 & 100 & -2.0 & 48.0 \\\\\n",
       "\t12 & 12 & 100 & -2.0 & 70.0 \\\\\n",
       "\t13 & 33 & 40 & -2.0 & 73.0 \\\\\n",
       "\t14 & 34 & 40 & -2.0 & 44.0 \\\\\n",
       "\t15 & 35 & 40 & -2.0 & 67.0 \\\\\n",
       "\t16 & 36 & 40 & -2.0 & 72.0 \\\\\n",
       "\t17 & 37 & 40 & -2.0 & 50.0 \\\\\n",
       "\t18 & 38 & 40 & -2.0 & 71.0 \\\\\n",
       "\t19 & 39 & 40 & -2.0 & 55.0 \\\\\n",
       "\t20 & 42 & 40 & -2.0 & 75.0 \\\\\n",
       "\t21 & 43 & 40 & -2.0 & 60.0 \\\\\n",
       "\t22 & 44 & 40 & -2.0 & 53.0 \\\\\n",
       "\t23 & 45 & 40 & -2.0 & 48.0 \\\\\n",
       "\t24 & 46 & 40 & -2.0 & 41.0 \\\\\n",
       "\t$\\dots$ & $\\dots$ & $\\dots$ & $\\dots$ & $\\dots$ \\\\\n",
       "\\end{tabular}\n"
      ],
      "text/plain": [
       "\u001b[1m227×4 DataFrame\u001b[0m\n",
       "\u001b[1m Row \u001b[0m│\u001b[1m CODE_SUJET \u001b[0m\u001b[1m COURSE \u001b[0m\u001b[1m TIME    \u001b[0m\u001b[1m FC      \u001b[0m\n",
       "     │\u001b[90m Int64      \u001b[0m\u001b[90m Any    \u001b[0m\u001b[90m Float64 \u001b[0m\u001b[90m Float64 \u001b[0m\n",
       "─────┼──────────────────────────────────────\n",
       "   1 │          1  100        -2.0     58.0\n",
       "   2 │          2  100        -2.0     60.0\n",
       "   3 │          3  100        -2.0     55.0\n",
       "   4 │          4  100        -2.0     54.0\n",
       "   5 │          5  100        -2.0     50.0\n",
       "   6 │          6  100        -2.0     51.0\n",
       "   7 │          7  100        -2.0     50.0\n",
       "   8 │          8  100        -2.0     66.0\n",
       "  ⋮  │     ⋮         ⋮        ⋮        ⋮\n",
       " 221 │         69  160        11.0     71.0\n",
       " 222 │         71  160        11.0     67.0\n",
       " 223 │         72  160        11.0     60.0\n",
       " 224 │         73  160        11.0     82.0\n",
       " 225 │         75  160        11.0     57.0\n",
       " 226 │         76  160        11.0     63.0\n",
       " 227 │         77  160        11.0     56.0\n",
       "\u001b[36m                            212 rows omitted\u001b[0m"
      ]
     },
     "metadata": {},
     "output_type": "display_data"
    }
   ],
   "source": [
    "SUB_DATA = dropmissing!(SUB_DATA, :FC)\n",
    "SUB_DATA = filter!(x -> x.COURSE != \"4_40\", SUB_DATA)\n",
    "SUB_DATA.FC = convert(Vector{Float64}, SUB_DATA.FC)\n",
    "SUB_DATA.TIME = convert(Vector{Float64}, SUB_DATA.TIME)\n",
    "SUB_DATA"
   ]
  },
  {
   "cell_type": "code",
   "execution_count": 4,
   "metadata": {},
   "outputs": [
    {
     "data": {
      "text/plain": [
       "interpolate (generic function with 1 method)"
      ]
     },
     "metadata": {},
     "output_type": "display_data"
    }
   ],
   "source": [
    "using MixedModels\n",
    "using Interpolations\n",
    "using BasicBSpline\n",
    "\n",
    "function interpolate(xs::AbstractVector, fs::AbstractVector{T}) where T\n",
    "    # Cubic open B-spline space\n",
    "    p = 3\n",
    "    k = KnotVector(xs) + KnotVector([xs[1],xs[end]]) * p\n",
    "    P = BSplineSpace{p}(k)\n",
    "\n",
    "    # dimensions\n",
    "    m = length(xs)\n",
    "    n = dim(P)\n",
    "\n",
    "    # The interpolant function has a f''=0 property at bounds.\n",
    "    ddP = BSplineDerivativeSpace{2}(P)\n",
    "    dda = [bsplinebasis(ddP,j,xs[1]) for j in 1:n]\n",
    "    ddb = [bsplinebasis(ddP,j,xs[m]) for j in 1:n]\n",
    "\n",
    "    # Compute the interpolant function (1-dim B-spline manifold)\n",
    "    M = [bsplinebasis(P,j,xs[i]) for i in 1:m, j in 1:n]\n",
    "    M = vcat(dda', M, ddb')\n",
    "    y = vcat(zero(T), fs, zero(T))\n",
    "    return BSplineManifold(M\\y, P)\n",
    "end\n",
    "\n"
   ]
  },
  {
   "cell_type": "code",
   "execution_count": 6,
   "metadata": {},
   "outputs": [
    {
     "data": {
      "text/plain": [
       "BSplineManifold{1, (3,), Float64, Float64, Tuple{BSplineSpace{3, Float64, KnotVector{Float64}}}}([57.85964912280702, 71.66181745608264, 94.6654313448753, 44.81027017952703, 62.147178987165425, 61.32400657015521, 60.80952380952381], (BSplineSpace{3, Float64, KnotVector{Float64}}(KnotVector([-2.0, -2.0, -2.0, -2.0, 1.0, 3.0, 6.0, 11.0, 11.0, 11.0, 11.0])),))"
      ]
     },
     "metadata": {},
     "output_type": "display_data"
    }
   ],
   "source": [
    "using Statistics\n",
    "\n",
    "mean_list = combine(groupby(SUB_DATA, :TIME), :FC => mean => :mean_FC)\n",
    "x = mean_list.TIME\n",
    "y = mean_list.mean_FC\n",
    "f = interpolate(x,y)"
   ]
  },
  {
   "cell_type": "code",
   "execution_count": 7,
   "metadata": {},
   "outputs": [
    {
     "data": {
      "text/latex": [
       "\\begin{tabular}\n",
       "{l | r | r | r | r | r}\n",
       " & Est. & SE & z & p & σ\\_CODE\\_SUJET \\\\\n",
       "\\hline\n",
       "COURSE: 40 & 0.9262 & 3.8882 & 0.24 & 0.8117 &   \\\\\n",
       "COURSE: 100 & -3.1430 & 4.0862 & -0.77 & 0.4418 &   \\\\\n",
       "COURSE: 160 & 0.1694 & 3.6551 & 0.05 & 0.9630 &   \\\\\n",
       "f(TIME) & 1.0036 & 0.0539 & 18.62 & <1e-76 &   \\\\\n",
       "(Intercept) &  &  &  &  & 7.1857 \\\\\n",
       "Residual & 6.9051 &  &  &  &  \\\\\n",
       "\\end{tabular}\n"
      ],
      "text/markdown": [
       "|             |    Est. |     SE |     z |      p | σ_CODE_SUJET |\n",
       "|:----------- | -------:| ------:| -----:| ------:| ------------:|\n",
       "| COURSE: 40  |  0.9262 | 3.8882 |  0.24 | 0.8117 |              |\n",
       "| COURSE: 100 | -3.1430 | 4.0862 | -0.77 | 0.4418 |              |\n",
       "| COURSE: 160 |  0.1694 | 3.6551 |  0.05 | 0.9630 |              |\n",
       "| f(TIME)     |  1.0036 | 0.0539 | 18.62 | <1e-76 |              |\n",
       "| (Intercept) |         |        |       |        |       7.1857 |\n",
       "| Residual    |  6.9051 |        |       |        |              |\n"
      ],
      "text/plain": [
       "Linear mixed model fit by maximum likelihood\n",
       " FC ~ 0 + COURSE + :(f(TIME)) + (1 | CODE_SUJET)\n",
       "   logLik   -2 logLik     AIC       AICc        BIC    \n",
       "  -805.9977  1611.9955  1623.9955  1624.3773  1644.5452\n",
       "\n",
       "Variance components:\n",
       "              Column   Variance Std.Dev.\n",
       "CODE_SUJET (Intercept)  51.63395 7.18568\n",
       "Residual                47.68075 6.90513\n",
       " Number of obs: 227; levels of grouping factors: 57\n",
       "\n",
       "  Fixed-effects parameters:\n",
       "───────────────────────────────────────────────────\n",
       "                 Coef.  Std. Error      z  Pr(>|z|)\n",
       "───────────────────────────────────────────────────\n",
       "COURSE: 40    0.926241   3.88816     0.24    0.8117\n",
       "COURSE: 100  -3.143      4.0862     -0.77    0.4418\n",
       "COURSE: 160   0.16944    3.65506     0.05    0.9630\n",
       "f(TIME)       1.0036     0.0538941  18.62    <1e-76\n",
       "───────────────────────────────────────────────────"
      ]
     },
     "metadata": {},
     "output_type": "display_data"
    }
   ],
   "source": [
    "model = fit(\n",
    "    MixedModel,\n",
    "    @formula(FC ~ -1 + COURSE + f(TIME) + (1 | CODE_SUJET)),\n",
    "    SUB_DATA\n",
    ")"
   ]
  },
  {
   "cell_type": "code",
   "execution_count": 9,
   "metadata": {},
   "outputs": [
    {
     "name": "stdout",
     "output_type": "stream",
     "text": [
      "Linear mixed model fit by maximum likelihood\n",
      " FC ~ 0 + COURSE + :(f(TIME)) + (1 | CODE_SUJET)\n",
      "   logLik   -2 logLik     AIC       AICc        BIC    \n",
      "  -805.9977  1611.9955  1623.9955  1624.3773  1644.5452\n",
      "\n",
      "Variance components:\n",
      "              Column   Variance Std.Dev.\n",
      "CODE_SUJET (Intercept)  51.63395 7.18568\n",
      "Residual                47.68075 6.90513\n",
      " Number of obs: 227; levels of grouping factors: 57\n",
      "\n",
      "  Fixed-effects parameters:\n",
      "───────────────────────────────────────────────────\n",
      "                 Coef.  Std. Error      z  Pr(>|z|)\n",
      "───────────────────────────────────────────────────\n",
      "COURSE: 40    0.926241   3.88816     0.24    0.8117\n",
      "COURSE: 100  -3.143      4.0862     -0.77    0.4418\n",
      "COURSE: 160   0.16944    3.65506     0.05    0.9630\n",
      "f(TIME)       1.0036     0.0538941  18.62    <1e-76\n",
      "───────────────────────────────────────────────────\n"
     ]
    }
   ],
   "source": [
    "println(model)"
   ]
  }
 ],
 "metadata": {
  "kernelspec": {
   "display_name": "Julia 1.11.2",
   "language": "julia",
   "name": "julia-1.11"
  },
  "language_info": {
   "file_extension": ".jl",
   "mimetype": "application/julia",
   "name": "julia",
   "version": "1.11.2"
  }
 },
 "nbformat": 4,
 "nbformat_minor": 2
}
