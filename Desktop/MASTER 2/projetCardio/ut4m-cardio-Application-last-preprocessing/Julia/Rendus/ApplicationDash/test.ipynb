{
 "cells": [
  {
   "cell_type": "code",
   "execution_count": 4,
   "metadata": {},
   "outputs": [],
   "source": [
    "# Installation des packages pour faire du dash\n",
    "using Dash"
   ]
  },
  {
   "cell_type": "code",
   "execution_count": 5,
   "metadata": {},
   "outputs": [
    {
     "data": {
      "text/plain": [
       "Dash.DashApp(\"c:\\\\Users\\\\zergu\\\\Documents\\\\ut4m-cardio\\\\Julia\\\\Rendus\\\\ApplicationDash\", true, Dash.DashConfig(Union{Dict{String, String}, String}[], Union{Dict{String, String}, String}[], nothing, \"/\", \"/\", \"assets\", \"assets\", \"\", true, false, false, false, Dict{String, String}[], nothing, true, false, true, \"Updating...\"), \"<!DOCTYPE html>\\n<html>\\n    <head>\\n        {%metas%}\\n        <title>{%title%}</title>\\n        {%favicon%}\\n        {%css%}\\n    </head>\\n    <body>\\n        {%app_entry%}\\n        <footer>\\n            {%config%}\\n            {%scripts%}\\n            {%renderer%}\\n        </footer>\\n    </body>\\n</html>\", \"Dash\", nothing, Dash.DevTools(false, false, false, false, 3.0, 0.5, 8, false, false), Dict{Symbol, Dash.Callback}(), String[])"
      ]
     },
     "execution_count": 5,
     "metadata": {},
     "output_type": "execute_result"
    }
   ],
   "source": [
    "app = dash()"
   ]
  },
  {
   "cell_type": "code",
   "execution_count": 8,
   "metadata": {},
   "outputs": [
    {
     "data": {
      "text/plain": [
       "Component(\"html_div\", \"Div\", \"dash_html_components\", Dict{Symbol, Any}(:children => (Component(\"html_h1\", \"H1\", \"dash_html_components\", Dict{Symbol, Any}(:children => \"Hello Dash\"), Set([:dir, :n_clicks, :key, :loading_state, :contentEditable, :contextMenu, :n_clicks_timestamp, :draggable, :accessKey, :hidden, :style, :children, :id, :title, :role, :lang, :spellCheck, :tabIndex, :disable_n_clicks, :className]), r\"data|aria\"), Component(\"html_div\", \"Div\", \"dash_html_components\", Dict{Symbol, Any}(:children => \"Dash: A web application framework for your data\"), Set([:dir, :n_clicks, :key, :loading_state, :contentEditable, :contextMenu, :n_clicks_timestamp, :draggable, :accessKey, :hidden, :style, :children, :id, :title, :role, :lang, :spellCheck, :tabIndex, :disable_n_clicks, :className]), r\"data|aria\"), Component(\"dcc_graph\", \"Graph\", \"dash_core_components\", Dict{Symbol, Any}(:id => \"example-graph-1\", :figure => (data = @NamedTuple{x::Vector{String}, y::Vector{Int64}, type::String, name::String}[(x = [\"giraffes\", \"orangutans\", \"monkeys\"], y = [20, 14, 23], type = \"bar\", name = \"SF\"), (x = [\"giraffes\", \"orangutans\", \"monkeys\"], y = [12, 18, 29], type = \"bar\", name = \"Montreal\")], layout = (title = \"Dash Data Visualisation\", barmode = \"group\"))), Set([:hoverData, :prependData, :clickData, :relayoutData, :loading_state, :selectedData, :mathjax, :responsive, :clear_on_unhover, :animate, :config, :extendData, :style, :animation_options, :id, :clickAnnotationData, :className, :figure, :restyleData]), nothing))), Set([:dir, :n_clicks, :key, :loading_state, :contentEditable, :contextMenu, :n_clicks_timestamp, :draggable, :accessKey, :hidden, :style, :children, :id, :title, :role, :lang, :spellCheck, :tabIndex, :disable_n_clicks, :className]), r\"data|aria\")"
      ]
     },
     "execution_count": 8,
     "metadata": {},
     "output_type": "execute_result"
    }
   ],
   "source": [
    "app.layout = html_div() do\n",
    "    html_h1(\"Hello Dash\"),\n",
    "    html_div(\"Dash: A web application framework for your data\"),\n",
    "    dcc_graph(\n",
    "        id = \"example-graph-1\",\n",
    "        figure = (\n",
    "            data = [\n",
    "                (x = [\"giraffes\", \"orangutans\", \"monkeys\"], y = [20, 14, 23], type = \"bar\", name = \"SF\"),\n",
    "                (x = [\"giraffes\", \"orangutans\", \"monkeys\"], y = [12, 18, 29], type = \"bar\", name = \"Montreal\"),\n",
    "            ],\n",
    "            layout = (title = \"Dash Data Visualisation\", barmode=\"group\")\n",
    "        )\n",
    "    )\n",
    "end"
   ]
  },
  {
   "cell_type": "code",
   "execution_count": null,
   "metadata": {},
   "outputs": [],
   "source": [
    "run_server(app, debug=true)"
   ]
  }
 ],
 "metadata": {
  "kernelspec": {
   "display_name": "Julia 1.11.1",
   "language": "julia",
   "name": "julia-1.11"
  },
  "language_info": {
   "file_extension": ".jl",
   "mimetype": "application/julia",
   "name": "julia",
   "version": "1.11.1"
  }
 },
 "nbformat": 4,
 "nbformat_minor": 2
}
