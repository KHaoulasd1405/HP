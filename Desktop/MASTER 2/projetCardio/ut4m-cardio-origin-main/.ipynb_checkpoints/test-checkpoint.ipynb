{
 "cells": [
  {
   "cell_type": "code",
   "execution_count": 5,
   "metadata": {},
   "outputs": [
    {
     "name": "stderr",
     "output_type": "stream",
     "text": [
      "\u001b[32m\u001b[1m  Activating\u001b[22m\u001b[39m project at `c:\\Users\\zergu\\Documents\\ut4m-cardio`\n"
     ]
    }
   ],
   "source": [
    "using Pkg\n",
    "Pkg.activate(\"Project.toml\")\n",
    "Pkg.instantiate()"
   ]
  },
  {
   "cell_type": "code",
   "execution_count": null,
   "metadata": {},
   "outputs": [],
   "source": [
    "using XLSX, DataFrames"
   ]
  },
  {
   "cell_type": "code",
   "execution_count": 72,
   "metadata": {},
   "outputs": [
    {
     "data": {
      "text/plain": [
       "count_abandons_course (generic function with 2 methods)"
      ]
     },
     "execution_count": 72,
     "metadata": {},
     "output_type": "execute_result"
    }
   ],
   "source": [
    "function count_abandons_course(df, drop = [:POIDS_INC, :TAILLE, :EXP_TRAIL, :TRAINING, :AGE, :CODE_SUJET])\n",
    "    grouped = groupby(df[:, Not(drop)], :COURSE)\n",
    "    nmissing_per_group = DataFrames.combine(grouped, \n",
    "        [col => (x -> sum(y -> y == 999, x)) => Symbol(string(col)) for col in names(df[:, Not(drop)]) if col != \"COURSE\"]...)\n",
    "\n",
    "    # Obtenir le max par course\n",
    "    res = select(nmissing_per_group[:, Not(:COURSE)], names(nmissing_per_group[:, Not(:COURSE)]))\n",
    "    row_max = [maximum(skipmissing(row)) for row in eachrow(res)]\n",
    "    result = hcat(nmissing_per_group[:, [:COURSE]], row_max)\n",
    "    rename!(result, Dict(:COURSE => \"Course\", :x1 => \"Nombre d'abandons\"))\n",
    "    return result\n",
    "end"
   ]
  },
  {
   "cell_type": "code",
   "execution_count": 6,
   "metadata": {},
   "outputs": [
    {
     "name": "stderr",
     "output_type": "stream",
     "text": [
      "\u001b[36m\u001b[1m[ \u001b[22m\u001b[39m\u001b[36m\u001b[1mInfo: \u001b[22m\u001b[39mPrecompiling Plots [91a5bcdd-55d7-5caf-9e0b-520d859cae80] (cache misses: dep missing source (2))\n",
      "\u001b[36m\u001b[1m[ \u001b[22m\u001b[39m\u001b[36m\u001b[1mInfo: \u001b[22m\u001b[39mPrecompiling IJuliaExt [2f4121a4-3b3a-5ce6-9c5e-1f2673ce168a] (cache misses: wrong dep version loaded (2))\n"
     ]
    },
    {
     "data": {
      "text/plain": [
       "count_non_participants (generic function with 2 methods)"
      ]
     },
     "execution_count": 6,
     "metadata": {},
     "output_type": "execute_result"
    }
   ],
   "source": [
    "# Inclure le fichiers preprocessing.jl qui contient des fonctions permettant de nettoyer la base\n",
    "include(\"Julia/preprocessing.jl\")\n",
    "include(\"Julia/plot.jl\")\n",
    "include(\"Julia/utils.jl\")"
   ]
  },
  {
   "cell_type": "code",
   "execution_count": 73,
   "metadata": {},
   "outputs": [
    {
     "data": {
      "text/html": [
       "<div><div style = \"float: left;\"><span>4×2 DataFrame</span></div><div style = \"clear: both;\"></div></div><div class = \"data-frame\" style = \"overflow-x: scroll;\"><table class = \"data-frame\" style = \"margin-bottom: 6px;\"><thead><tr class = \"header\"><th class = \"rowNumber\" style = \"font-weight: bold; text-align: right;\">Row</th><th style = \"text-align: left;\">Course</th><th style = \"text-align: left;\">Nombre d&apos;abandons</th></tr><tr class = \"subheader headerLastRow\"><th class = \"rowNumber\" style = \"font-weight: bold; text-align: right;\"></th><th title = \"Any\" style = \"text-align: left;\">Any</th><th title = \"Int64\" style = \"text-align: left;\">Int64</th></tr></thead><tbody><tr><td class = \"rowNumber\" style = \"font-weight: bold; text-align: right;\">1</td><td style = \"text-align: left;\">100</td><td style = \"text-align: right;\">1</td></tr><tr><td class = \"rowNumber\" style = \"font-weight: bold; text-align: right;\">2</td><td style = \"text-align: left;\">4_40</td><td style = \"text-align: right;\">4</td></tr><tr><td class = \"rowNumber\" style = \"font-weight: bold; text-align: right;\">3</td><td style = \"text-align: left;\">40</td><td style = \"text-align: right;\">0</td></tr><tr><td class = \"rowNumber\" style = \"font-weight: bold; text-align: right;\">4</td><td style = \"text-align: left;\">160</td><td style = \"text-align: right;\">11</td></tr></tbody></table></div>"
      ],
      "text/latex": [
       "\\begin{tabular}{r|cc}\n",
       "\t& Course & Nombre d'abandons\\\\\n",
       "\t\\hline\n",
       "\t& Any & Int64\\\\\n",
       "\t\\hline\n",
       "\t1 & 100 & 1 \\\\\n",
       "\t2 & 4\\_40 & 4 \\\\\n",
       "\t3 & 40 & 0 \\\\\n",
       "\t4 & 160 & 11 \\\\\n",
       "\\end{tabular}\n"
      ],
      "text/plain": [
       "\u001b[1m4×2 DataFrame\u001b[0m\n",
       "\u001b[1m Row \u001b[0m│\u001b[1m Course \u001b[0m\u001b[1m Nombre d'abandons \u001b[0m\n",
       "     │\u001b[90m Any    \u001b[0m\u001b[90m Int64             \u001b[0m\n",
       "─────┼───────────────────────────\n",
       "   1 │ 100                     1\n",
       "   2 │ 4_40                    4\n",
       "   3 │ 40                      0\n",
       "   4 │ 160                    11"
      ]
     },
     "execution_count": 73,
     "metadata": {},
     "output_type": "execute_result"
    }
   ],
   "source": [
    "data = build_all_data(\"Ressources/Données complètes UT4M final120419 avec Data cardio.xlsx\")\n",
    "res = count_abandons_course(data)"
   ]
  },
  {
   "cell_type": "code",
   "execution_count": null,
   "metadata": {},
   "outputs": [
    {
     "data": {
      "text/html": [
       "<div><div style = \"float: left;\"><span>53×7 DataFrame</span></div><div style = \"float: right;\"><span style = \"font-style: italic;\">28 rows omitted</span></div><div style = \"clear: both;\"></div></div><div class = \"data-frame\" style = \"overflow-x: scroll;\"><table class = \"data-frame\" style = \"margin-bottom: 6px;\"><thead><tr class = \"header\"><th class = \"rowNumber\" style = \"font-weight: bold; text-align: right;\">Row</th><th style = \"text-align: left;\">variable</th><th style = \"text-align: left;\">mean</th><th style = \"text-align: left;\">min</th><th style = \"text-align: left;\">median</th><th style = \"text-align: left;\">max</th><th style = \"text-align: left;\">nmissing</th><th style = \"text-align: left;\">%missing</th></tr><tr class = \"subheader headerLastRow\"><th class = \"rowNumber\" style = \"font-weight: bold; text-align: right;\"></th><th title = \"Symbol\" style = \"text-align: left;\">Symbol</th><th title = \"Union{Nothing, Float64}\" style = \"text-align: left;\">Union…</th><th title = \"Union{Nothing, Real}\" style = \"text-align: left;\">Union…</th><th title = \"Union{Nothing, Float64}\" style = \"text-align: left;\">Union…</th><th title = \"Union{Nothing, Real}\" style = \"text-align: left;\">Union…</th><th title = \"Int64\" style = \"text-align: left;\">Int64</th><th title = \"String\" style = \"text-align: left;\">String</th></tr></thead><tbody><tr><td class = \"rowNumber\" style = \"font-weight: bold; text-align: right;\">1</td><td style = \"text-align: left;\">CODE_SUJET</td><td style = \"text-align: left;\">40.0</td><td style = \"text-align: left;\">1</td><td style = \"text-align: left;\">40.0</td><td style = \"text-align: left;\">79</td><td style = \"text-align: right;\">0</td><td style = \"text-align: left;\">0%</td></tr><tr><td class = \"rowNumber\" style = \"font-weight: bold; text-align: right;\">2</td><td style = \"text-align: left;\">COURSE</td><td style = \"font-style: italic; text-align: left;\"></td><td style = \"font-style: italic; text-align: left;\"></td><td style = \"font-style: italic; text-align: left;\"></td><td style = \"font-style: italic; text-align: left;\"></td><td style = \"text-align: right;\">0</td><td style = \"text-align: left;\">0%</td></tr><tr><td class = \"rowNumber\" style = \"font-weight: bold; text-align: right;\">3</td><td style = \"text-align: left;\">TIME</td><td style = \"text-align: left;\">3.8</td><td style = \"text-align: left;\">-2</td><td style = \"text-align: left;\">3.0</td><td style = \"text-align: left;\">11</td><td style = \"text-align: right;\">0</td><td style = \"text-align: left;\">0%</td></tr><tr><td class = \"rowNumber\" style = \"font-weight: bold; text-align: right;\">4</td><td style = \"text-align: left;\">STDi</td><td style = \"text-align: left;\">12.6043</td><td style = \"text-align: left;\">7.51351</td><td style = \"text-align: left;\">12.6005</td><td style = \"text-align: left;\">17.6882</td><td style = \"text-align: right;\">89</td><td style = \"text-align: left;\">23%</td></tr><tr><td class = \"rowNumber\" style = \"font-weight: bold; text-align: right;\">5</td><td style = \"text-align: left;\">DTDVGI</td><td style = \"text-align: left;\">28.0527</td><td style = \"text-align: left;\">21.8447</td><td style = \"text-align: left;\">27.9188</td><td style = \"text-align: left;\">35.5828</td><td style = \"text-align: right;\">90</td><td style = \"text-align: left;\">23%</td></tr><tr><td class = \"rowNumber\" style = \"font-weight: bold; text-align: right;\">6</td><td style = \"text-align: left;\">At</td><td style = \"text-align: left;\">26.245</td><td style = \"text-align: left;\">12</td><td style = \"text-align: left;\">25.0</td><td style = \"text-align: left;\">76</td><td style = \"text-align: right;\">97</td><td style = \"text-align: left;\">25%</td></tr><tr><td class = \"rowNumber\" style = \"font-weight: bold; text-align: right;\">7</td><td style = \"text-align: left;\">TDM</td><td style = \"text-align: left;\">208.748</td><td style = \"text-align: left;\">121</td><td style = \"text-align: left;\">206.0</td><td style = \"text-align: left;\">370</td><td style = \"text-align: right;\">90</td><td style = \"text-align: left;\">23%</td></tr><tr><td class = \"rowNumber\" style = \"font-weight: bold; text-align: right;\">8</td><td style = \"text-align: left;\">PP</td><td style = \"text-align: left;\">9.48852</td><td style = \"text-align: left;\">7</td><td style = \"text-align: left;\">9.0</td><td style = \"text-align: left;\">13</td><td style = \"text-align: right;\">90</td><td style = \"text-align: left;\">23%</td></tr><tr><td class = \"rowNumber\" style = \"font-weight: bold; text-align: right;\">9</td><td style = \"text-align: left;\">VOL_OGI</td><td style = \"text-align: left;\">41.1786</td><td style = \"text-align: left;\">24.581</td><td style = \"text-align: left;\">40.1731</td><td style = \"text-align: left;\">73.3696</td><td style = \"text-align: right;\">89</td><td style = \"text-align: left;\">23%</td></tr><tr><td class = \"rowNumber\" style = \"font-weight: bold; text-align: right;\">10</td><td style = \"text-align: left;\">ITVPUL</td><td style = \"text-align: left;\">18.4041</td><td style = \"text-align: left;\">10.3</td><td style = \"text-align: left;\">18.45</td><td style = \"text-align: left;\">28.0</td><td style = \"text-align: right;\">175</td><td style = \"text-align: left;\">44%</td></tr><tr><td class = \"rowNumber\" style = \"font-weight: bold; text-align: right;\">11</td><td style = \"text-align: left;\">Et</td><td style = \"text-align: left;\">50.7383</td><td style = \"text-align: left;\">25</td><td style = \"text-align: left;\">50.0</td><td style = \"text-align: left;\">86</td><td style = \"text-align: right;\">97</td><td style = \"text-align: left;\">25%</td></tr><tr><td class = \"rowNumber\" style = \"font-weight: bold; text-align: right;\">12</td><td style = \"text-align: left;\">E/A_1</td><td style = \"font-style: italic; text-align: left;\"></td><td style = \"font-style: italic; text-align: left;\"></td><td style = \"font-style: italic; text-align: left;\"></td><td style = \"font-style: italic; text-align: left;\"></td><td style = \"text-align: right;\">395</td><td style = \"text-align: left;\">100%</td></tr><tr><td class = \"rowNumber\" style = \"font-weight: bold; text-align: right;\">13</td><td style = \"text-align: left;\">Ea</td><td style = \"text-align: left;\">15.3056</td><td style = \"text-align: left;\">8</td><td style = \"text-align: left;\">15.0</td><td style = \"text-align: left;\">42</td><td style = \"text-align: right;\">94</td><td style = \"text-align: left;\">24%</td></tr><tr><td style = \"text-align: right;\">&vellip;</td><td style = \"text-align: right;\">&vellip;</td><td style = \"text-align: right;\">&vellip;</td><td style = \"text-align: right;\">&vellip;</td><td style = \"text-align: right;\">&vellip;</td><td style = \"text-align: right;\">&vellip;</td><td style = \"text-align: right;\">&vellip;</td><td style = \"text-align: right;\">&vellip;</td></tr><tr><td class = \"rowNumber\" style = \"font-weight: bold; text-align: right;\">42</td><td style = \"text-align: left;\">FE</td><td style = \"text-align: left;\">66.4623</td><td style = \"text-align: left;\">50</td><td style = \"text-align: left;\">66.0</td><td style = \"text-align: left;\">89</td><td style = \"text-align: right;\">90</td><td style = \"text-align: left;\">23%</td></tr><tr><td class = \"rowNumber\" style = \"font-weight: bold; text-align: right;\">43</td><td style = \"text-align: left;\">VTSVG</td><td style = \"text-align: left;\">52.2226</td><td style = \"text-align: left;\">22</td><td style = \"text-align: left;\">52.0</td><td style = \"text-align: left;\">92</td><td style = \"text-align: right;\">94</td><td style = \"text-align: left;\">24%</td></tr><tr><td class = \"rowNumber\" style = \"font-weight: bold; text-align: right;\">44</td><td style = \"text-align: left;\">PAS</td><td style = \"text-align: left;\">118.109</td><td style = \"text-align: left;\">87</td><td style = \"text-align: left;\">118.0</td><td style = \"text-align: left;\">163</td><td style = \"text-align: right;\">92</td><td style = \"text-align: left;\">23%</td></tr><tr><td class = \"rowNumber\" style = \"font-weight: bold; text-align: right;\">45</td><td style = \"text-align: left;\">IC</td><td style = \"text-align: left;\">2.83016</td><td style = \"text-align: left;\">-0.122425</td><td style = \"text-align: left;\">2.78671</td><td style = \"text-align: left;\">5.35857</td><td style = \"text-align: right;\">97</td><td style = \"text-align: left;\">25%</td></tr><tr><td class = \"rowNumber\" style = \"font-weight: bold; text-align: right;\">46</td><td style = \"text-align: left;\">VOL_OD</td><td style = \"text-align: left;\">59.2597</td><td style = \"text-align: left;\">30</td><td style = \"text-align: left;\">58.0</td><td style = \"text-align: left;\">91</td><td style = \"text-align: right;\">318</td><td style = \"text-align: left;\">81%</td></tr><tr><td class = \"rowNumber\" style = \"font-weight: bold; text-align: right;\">47</td><td style = \"text-align: left;\">St</td><td style = \"text-align: left;\">13.5877</td><td style = \"text-align: left;\">8.5</td><td style = \"text-align: left;\">14.0</td><td style = \"text-align: left;\">20.0</td><td style = \"text-align: right;\">110</td><td style = \"text-align: left;\">28%</td></tr><tr><td class = \"rowNumber\" style = \"font-weight: bold; text-align: right;\">48</td><td style = \"text-align: left;\">FE2D</td><td style = \"text-align: left;\">55.7282</td><td style = \"text-align: left;\">40</td><td style = \"text-align: left;\">55.0</td><td style = \"text-align: left;\">71</td><td style = \"text-align: right;\">97</td><td style = \"text-align: left;\">25%</td></tr><tr><td class = \"rowNumber\" style = \"font-weight: bold; text-align: right;\">49</td><td style = \"text-align: left;\">VOLOG</td><td style = \"text-align: left;\">76.6245</td><td style = \"text-align: left;\">38</td><td style = \"text-align: left;\">75.0</td><td style = \"text-align: left;\">135</td><td style = \"text-align: right;\">166</td><td style = \"text-align: left;\">42%</td></tr><tr><td class = \"rowNumber\" style = \"font-weight: bold; text-align: right;\">50</td><td style = \"text-align: left;\">A</td><td style = \"text-align: left;\">45.1475</td><td style = \"text-align: left;\">24</td><td style = \"text-align: left;\">43.0</td><td style = \"text-align: left;\">107</td><td style = \"text-align: right;\">90</td><td style = \"text-align: left;\">23%</td></tr><tr><td class = \"rowNumber\" style = \"font-weight: bold; text-align: right;\">51</td><td style = \"text-align: left;\">E</td><td style = \"text-align: left;\">70.5508</td><td style = \"text-align: left;\">40</td><td style = \"text-align: left;\">69.0</td><td style = \"text-align: left;\">119</td><td style = \"text-align: right;\">90</td><td style = \"text-align: left;\">23%</td></tr><tr><td class = \"rowNumber\" style = \"font-weight: bold; text-align: right;\">52</td><td style = \"text-align: left;\">VOL_ODI</td><td style = \"text-align: left;\">34.5725</td><td style = \"text-align: left;\">15.1351</td><td style = \"text-align: left;\">33.5367</td><td style = \"text-align: left;\">60.3261</td><td style = \"text-align: right;\">89</td><td style = \"text-align: left;\">23%</td></tr><tr><td class = \"rowNumber\" style = \"font-weight: bold; text-align: right;\">53</td><td style = \"text-align: left;\">DTS</td><td style = \"text-align: left;\">32.3672</td><td style = \"text-align: left;\">23</td><td style = \"text-align: left;\">32.0</td><td style = \"text-align: left;\">78</td><td style = \"text-align: right;\">90</td><td style = \"text-align: left;\">23%</td></tr></tbody></table></div>"
      ],
      "text/latex": [
       "\\begin{tabular}{r|ccccccc}\n",
       "\t& variable & mean & min & median & max & nmissing & \\%missing\\\\\n",
       "\t\\hline\n",
       "\t& Symbol & Union… & Union… & Union… & Union… & Int64 & String\\\\\n",
       "\t\\hline\n",
       "\t1 & CODE\\_SUJET & 40.0 & 1 & 40.0 & 79 & 0 & 0\\% \\\\\n",
       "\t2 & COURSE &  &  &  &  & 0 & 0\\% \\\\\n",
       "\t3 & TIME & 3.8 & -2 & 3.0 & 11 & 0 & 0\\% \\\\\n",
       "\t4 & STDi & 12.6043 & 7.51351 & 12.6005 & 17.6882 & 89 & 23\\% \\\\\n",
       "\t5 & DTDVGI & 28.0527 & 21.8447 & 27.9188 & 35.5828 & 90 & 23\\% \\\\\n",
       "\t6 & At & 26.245 & 12 & 25.0 & 76 & 97 & 25\\% \\\\\n",
       "\t7 & TDM & 208.748 & 121 & 206.0 & 370 & 90 & 23\\% \\\\\n",
       "\t8 & PP & 9.48852 & 7 & 9.0 & 13 & 90 & 23\\% \\\\\n",
       "\t9 & VOL\\_OGI & 41.1786 & 24.581 & 40.1731 & 73.3696 & 89 & 23\\% \\\\\n",
       "\t10 & ITVPUL & 18.4041 & 10.3 & 18.45 & 28.0 & 175 & 44\\% \\\\\n",
       "\t11 & Et & 50.7383 & 25 & 50.0 & 86 & 97 & 25\\% \\\\\n",
       "\t12 & E/A\\_1 &  &  &  &  & 395 & 100\\% \\\\\n",
       "\t13 & Ea & 15.3056 & 8 & 15.0 & 42 & 94 & 24\\% \\\\\n",
       "\t14 & STSi & 6.95902 & 3.45946 & 6.92537 & 10.7895 & 89 & 23\\% \\\\\n",
       "\t15 & FR & 0.367602 & -0.471698 & 0.366667 & 0.603448 & 90 & 23\\% \\\\\n",
       "\t16 & VOL\\_OG & 72.1169 & 42 & 72.0 & 135 & 318 & 81\\% \\\\\n",
       "\t17 & DTDVG & 51.1869 & 39 & 51.0 & 60 & 90 & 23\\% \\\\\n",
       "\t18 & STS & 12.7378 & 6.4 & 12.5 & 20.5 & 88 & 22\\% \\\\\n",
       "\t19 & VES & 64.2308 & 35 & 63.0 & 99 & 96 & 24\\% \\\\\n",
       "\t20 & VOLOD & 65.0218 & 28 & 63.0 & 111 & 166 & 42\\% \\\\\n",
       "\t21 & TD & 219.739 & 122 & 205.0 & 1995 & 96 & 24\\% \\\\\n",
       "\t22 & E/Ea & 4.76811 & 2.21429 & 4.45455 & 10.1 & 94 & 24\\% \\\\\n",
       "\t23 & VTDVGI & 61.6169 & -0.584795 & 61.828 & 91.4894 & 85 & 22\\% \\\\\n",
       "\t24 & S & 9.67213 & 6 & 10.0 & 40 & 90 & 23\\% \\\\\n",
       "\t25 & PAPS & 25.5494 & 16 & 25.0 & 45 & 233 & 59\\% \\\\\n",
       "\t26 & PAPMAX & 25.4906 & 17 & 25.0 & 36 & 342 & 87\\% \\\\\n",
       "\t27 & FRVD & 0.448273 & 0.26699 & 0.451518 & 0.639731 & 89 & 23\\% \\\\\n",
       "\t28 & ITV Ao & 22.0497 & 11.5 & 21.65 & 40.2 & 99 & 25\\% \\\\\n",
       "\t29 & STD & 23.0788 & 13.2 & 22.8 & 33.3 & 88 & 22\\% \\\\\n",
       "\t30 & MVG & 181.074 & 76.7834 & 180.624 & 740.225 & 90 & 23\\% \\\\\n",
       "\t$\\dots$ & $\\dots$ & $\\dots$ & $\\dots$ & $\\dots$ & $\\dots$ & $\\dots$ & $\\dots$ \\\\\n",
       "\\end{tabular}\n"
      ],
      "text/plain": [
       "\u001b[1m53×7 DataFrame\u001b[0m\n",
       "\u001b[1m Row \u001b[0m│\u001b[1m variable   \u001b[0m\u001b[1m mean    \u001b[0m\u001b[1m min       \u001b[0m\u001b[1m median  \u001b[0m\u001b[1m max     \u001b[0m\u001b[1m nmissing \u001b[0m\u001b[1m %missing \u001b[0m\n",
       "     │\u001b[90m Symbol     \u001b[0m\u001b[90m Union…  \u001b[0m\u001b[90m Union…    \u001b[0m\u001b[90m Union…  \u001b[0m\u001b[90m Union…  \u001b[0m\u001b[90m Int64    \u001b[0m\u001b[90m String   \u001b[0m\n",
       "─────┼──────────────────────────────────────────────────────────────────────\n",
       "   1 │ CODE_SUJET  40.0     1          40.0     79              0  0%\n",
       "   2 │ COURSE     \u001b[90m         \u001b[0m\u001b[90m           \u001b[0m\u001b[90m         \u001b[0m\u001b[90m         \u001b[0m        0  0%\n",
       "   3 │ TIME        3.8      -2         3.0      11              0  0%\n",
       "   4 │ STDi        12.6043  7.51351    12.6005  17.6882        89  23%\n",
       "   5 │ DTDVGI      28.0527  21.8447    27.9188  35.5828        90  23%\n",
       "   6 │ At          26.245   12         25.0     76             97  25%\n",
       "   7 │ TDM         208.748  121        206.0    370            90  23%\n",
       "   8 │ PP          9.48852  7          9.0      13             90  23%\n",
       "   9 │ VOL_OGI     41.1786  24.581     40.1731  73.3696        89  23%\n",
       "  10 │ ITVPUL      18.4041  10.3       18.45    28.0          175  44%\n",
       "  11 │ Et          50.7383  25         50.0     86             97  25%\n",
       "  ⋮  │     ⋮          ⋮         ⋮         ⋮        ⋮        ⋮         ⋮\n",
       "  44 │ PAS         118.109  87         118.0    163            92  23%\n",
       "  45 │ IC          2.83016  -0.122425  2.78671  5.35857        97  25%\n",
       "  46 │ VOL_OD      59.2597  30         58.0     91            318  81%\n",
       "  47 │ St          13.5877  8.5        14.0     20.0          110  28%\n",
       "  48 │ FE2D        55.7282  40         55.0     71             97  25%\n",
       "  49 │ VOLOG       76.6245  38         75.0     135           166  42%\n",
       "  50 │ A           45.1475  24         43.0     107            90  23%\n",
       "  51 │ E           70.5508  40         69.0     119            90  23%\n",
       "  52 │ VOL_ODI     34.5725  15.1351    33.5367  60.3261        89  23%\n",
       "  53 │ DTS         32.3672  23         32.0     78             90  23%\n",
       "\u001b[36m                                                             32 rows omitted\u001b[0m"
      ]
     },
     "execution_count": 77,
     "metadata": {},
     "output_type": "execute_result"
    }
   ],
   "source": [
    "data = build_data_cardiac(\"./Ressources/Données complètes UT4M final120419 avec Data cardio.xlsx\")\n",
    "custom_summary(data)"
   ]
  }
 ],
 "metadata": {
  "kernelspec": {
   "display_name": "Julia 1.11.1",
   "language": "julia",
   "name": "julia-1.11"
  },
  "language_info": {
   "file_extension": ".jl",
   "mimetype": "application/julia",
   "name": "julia",
   "version": "1.11.1"
  }
 },
 "nbformat": 4,
 "nbformat_minor": 2
}
